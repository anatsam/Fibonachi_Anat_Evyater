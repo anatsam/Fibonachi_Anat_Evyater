{
 "cells": [
  {
   "cell_type": "code",
   "execution_count": null,
   "id": "3445c81f-4ae6-439a-886a-eb07a69c12e5",
   "metadata": {},
   "outputs": [],
   "source": [
    "%run Utils.ipynb"
   ]
  },
  {
   "cell_type": "code",
   "execution_count": null,
   "id": "a1f6d209-5671-4775-97bb-e50ac2d4552e",
   "metadata": {},
   "outputs": [],
   "source": [
    "class Verifier_first_stage():\n",
    "    \n",
    "    def __init__(self):\n",
    "        \"\"\"\n",
    "        \"\"\"\n",
    "    \n",
    "    def verify(self, proof_stage_one: dict, domian_size: int):\n",
    "            index = self.get_index(proof_stage_one=proof_stage_one, domian_size=domian_size)\n",
    "            self.verifiy_path_and_values(proof_stage_one=proof_stage_one, index=index, domian_size=domian_size)\n",
    "            coeffs = self.get_coefficients(proof_stage_one=proof_stage_one)\n",
    "            self.validate_cp_value_in_index(proof_stage_one=proof_stage_one, coeffs=coeffs)\n",
    "\n",
    "    def verifiy_path_and_values(self, proof_stage_one: dict, index: int, domian_size: int):\n",
    "        names = ['p1', 'p2', 'p3', 'cp']\n",
    "        for name in names:\n",
    "            internal_proof_dict = proof_stage_one[name]\n",
    "            root = internal_proof_dict['root']\n",
    "            value_at_index = internal_proof_dict['value']\n",
    "            path = internal_proof_dict['path']\n",
    "            self.verify_path_by_index(\n",
    "                root=root, expected_value=value_at_index, index=index, domain_size=domian_size, path=path\n",
    "            )\n",
    "            \n",
    "    def get_index(self, proof_stage_one: dict, domian_size: int):\n",
    "        #print(f\"{proof_stage_one['cp']=}\")\n",
    "        cp_tree_root = proof_stage_one['cp']['root']\n",
    "        return (fiat_shamir_random(cp_tree_root)%domian_size)\n",
    "    \n",
    "    def get_coefficients(self, proof_stage_one:dict) -> dict:\n",
    "        names = ['p1', 'p2', 'p3']\n",
    "        return {name:fiat_shamir_random(proof_stage_one[name]['root']) for name in names}\n",
    "    \n",
    "    def validate_cp_value_in_index(self, proof_stage_one: dict, coeffs: dict):\n",
    "        names = ['p1', 'p2', 'p3']\n",
    "        expected_value = 0\n",
    "        for name in names:\n",
    "            expected_value_int = ((proof_stage_one[name]['value'])[1]*coeffs[name])\n",
    "            expected_value += expected_value_int%PRIME            \n",
    "        assert proof_stage_one['cp']['value'][1] == expected_value\n",
    "    \n",
    "    def verify_path_by_index(self, root: str, expected_value: tuple, index: int, domain_size: int, path: dict):\n",
    "\n",
    "        index_size = int(log(domain_size, 2))\n",
    "        index_as_str = format(index, f'#0{index_size+2}b')\n",
    "        # shift from '0b1110' to '1110'\n",
    "        index_as_str = index_as_str[2:] \n",
    "        key=root\n",
    "        while(index_as_str):\n",
    "            value = path[key]\n",
    "\n",
    "            #Verify the hash:\n",
    "            assert hash_tow_elements(value[0], value[1]) == key\n",
    "\n",
    "            direction_bit = int(index_as_str[0])\n",
    "            key = value[direction_bit]\n",
    "            index_as_str = index_as_str[1:]\n",
    "\n",
    "        #Now the key is the hash of the required index. Reauired value = tree[key] = (coset, CP[coset])\n",
    "        value = path[key]\n",
    "        assert hash_one_elements(value) == key\n",
    "        assert value == expected_value"
   ]
  }
 ],
 "metadata": {
  "kernelspec": {
   "display_name": "SageMath 9.0",
   "language": "sage",
   "name": "sagemath"
  },
  "language_info": {
   "codemirror_mode": {
    "name": "ipython",
    "version": 3
   },
   "file_extension": ".py",
   "mimetype": "text/x-python",
   "name": "python",
   "nbconvert_exporter": "python",
   "pygments_lexer": "ipython3",
   "version": "3.8.10"
  }
 },
 "nbformat": 4,
 "nbformat_minor": 5
}
