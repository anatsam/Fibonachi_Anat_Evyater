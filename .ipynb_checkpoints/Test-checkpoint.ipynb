{
 "cells": [
  {
   "cell_type": "code",
   "execution_count": 5,
   "metadata": {},
   "outputs": [],
   "source": [
    "import pytest"
   ]
  },
  {
   "cell_type": "code",
   "execution_count": 1,
   "metadata": {},
   "outputs": [],
   "source": [
    "%run Prover.ipynb\n",
    "%run Verifier.ipynb"
   ]
  },
  {
   "cell_type": "code",
   "execution_count": 4,
   "metadata": {},
   "outputs": [],
   "source": [
    "trance_len = 1024\n",
    "trace = trace_calculator(a=a,trance_len=trance_len)\n",
    "#print(trace)\n",
    "poly = polynomial_evaluation(trace=trace, generator=gen1024)\n",
    "# Sainaty check:\n",
    "assert poly(gen1024**Y_INDEX) == trace[Y_INDEX]\n",
    "Y=trace[Y_INDEX]"
   ]
  },
  {
   "cell_type": "code",
   "execution_count": 5,
   "metadata": {},
   "outputs": [],
   "source": [
    "R = FIELD['x']\n",
    "polynomial = R.lagrange_polynomial([(0,0), (1,1), (2,2)])"
   ]
  },
  {
   "cell_type": "code",
   "execution_count": 6,
   "metadata": {},
   "outputs": [],
   "source": [
    "points = trace_calculator(2, 15)\n",
    "#merkle(points)"
   ]
  },
  {
   "cell_type": "code",
   "execution_count": 7,
   "metadata": {},
   "outputs": [
    {
     "data": {
      "text/plain": [
       "3221225472"
      ]
     },
     "execution_count": 7,
     "metadata": {},
     "output_type": "execute_result"
    }
   ],
   "source": [
    "trace = []\n",
    "domain = []\n",
    "for i in range (1024):\n",
    "    trace.append(gen1024**i)\n",
    "for i in range (1024):\n",
    "    domain.append(trace[reverse_bit(i, 10)])\n",
    "domain[2]**2"
   ]
  },
  {
   "cell_type": "code",
   "execution_count": 8,
   "metadata": {},
   "outputs": [
    {
     "name": "stdout",
     "output_type": "stream",
     "text": [
      "MerkeTree is done. 8192\n"
     ]
    }
   ],
   "source": [
    "#domain = domain_extension(poly=CP, trance_len=16, group_gen=gen8192, field_gen=field_gen)\n",
    "domain = domain_extension(trace_len=8192, group_gen=gen8192, field_gen=field_gen)\n",
    "root, merke_tree = commit(poly=copy, domain=domain)\n",
    "#print(merke_tree)"
   ]
  },
  {
   "cell_type": "code",
   "execution_count": 1,
   "metadata": {},
   "outputs": [
    {
     "name": "stdout",
     "output_type": "stream",
     "text": [
      "2\n"
     ]
    },
    {
     "ename": "NameError",
     "evalue": "name 'poly' is not defined",
     "output_type": "error",
     "traceback": [
      "\u001b[0;31m---------------------------------------------------------------------------\u001b[0m",
      "\u001b[0;31mNameError\u001b[0m                                 Traceback (most recent call last)",
      "\u001b[0;32m<ipython-input-1-6db57c8074c4>\u001b[0m in \u001b[0;36m<module>\u001b[0;34m\u001b[0m\n\u001b[1;32m      5\u001b[0m \u001b[0mroot\u001b[0m \u001b[0;34m=\u001b[0m \u001b[0;34m'9e9adfe81a8f1face1399f0e5a1c18d2c09f5a269918415afaa40e68c8e3fa78'\u001b[0m\u001b[0;34m\u001b[0m\u001b[0;34m\u001b[0m\u001b[0m\n\u001b[1;32m      6\u001b[0m \u001b[0m_\u001b[0m\u001b[0;34m,\u001b[0m \u001b[0mY\u001b[0m \u001b[0;34m=\u001b[0m \u001b[0mcreate_excecution_trace\u001b[0m\u001b[0;34m(\u001b[0m\u001b[0ma\u001b[0m\u001b[0;34m=\u001b[0m\u001b[0mInteger\u001b[0m\u001b[0;34m(\u001b[0m\u001b[0;36m2\u001b[0m\u001b[0;34m)\u001b[0m\u001b[0;34m,\u001b[0m \u001b[0mtrace_length\u001b[0m\u001b[0;34m=\u001b[0m\u001b[0mInteger\u001b[0m\u001b[0;34m(\u001b[0m\u001b[0;36m1024\u001b[0m\u001b[0;34m)\u001b[0m\u001b[0;34m,\u001b[0m \u001b[0mdestination\u001b[0m\u001b[0;34m=\u001b[0m\u001b[0mY_INDEX\u001b[0m\u001b[0;34m)\u001b[0m\u001b[0;34m\u001b[0m\u001b[0;34m\u001b[0m\u001b[0m\n\u001b[0;32m----> 7\u001b[0;31m \u001b[0mproof_stage_two\u001b[0m \u001b[0;34m=\u001b[0m \u001b[0mfri\u001b[0m\u001b[0;34m(\u001b[0m\u001b[0mpoly\u001b[0m\u001b[0;34m,\u001b[0m \u001b[0mdomain\u001b[0m\u001b[0;34m,\u001b[0m\u001b[0mInteger\u001b[0m\u001b[0;34m(\u001b[0m\u001b[0;36m1024\u001b[0m\u001b[0;34m)\u001b[0m\u001b[0;34m,\u001b[0m\u001b[0mInteger\u001b[0m\u001b[0;34m(\u001b[0m\u001b[0;36m8\u001b[0m\u001b[0;34m)\u001b[0m\u001b[0;34m)\u001b[0m\u001b[0;34m\u001b[0m\u001b[0;34m\u001b[0m\u001b[0m\n\u001b[0m\u001b[1;32m      8\u001b[0m \u001b[0mverify_second_stage\u001b[0m\u001b[0;34m(\u001b[0m\u001b[0mproof_stage_two\u001b[0m\u001b[0;34m,\u001b[0m\u001b[0mroot\u001b[0m\u001b[0;34m,\u001b[0m\u001b[0mInteger\u001b[0m\u001b[0;34m(\u001b[0m\u001b[0;36m1024\u001b[0m\u001b[0;34m)\u001b[0m\u001b[0;34m,\u001b[0m\u001b[0mInteger\u001b[0m\u001b[0;34m(\u001b[0m\u001b[0;36m8\u001b[0m\u001b[0;34m)\u001b[0m\u001b[0;34m)\u001b[0m\u001b[0;34m\u001b[0m\u001b[0;34m\u001b[0m\u001b[0m\n",
      "\u001b[0;31mNameError\u001b[0m: name 'poly' is not defined"
     ]
    }
   ],
   "source": [
    "%run Prover.ipynb\n",
    "%run Verifier.ipynb\n",
    "\n",
    "\n",
    "root = '9e9adfe81a8f1face1399f0e5a1c18d2c09f5a269918415afaa40e68c8e3fa78'\n",
    "_, Y = create_excecution_trace(a=2, trace_length=1024, destination=Y_INDEX)\n",
    "proof_stage_two = fri(poly, domain,1024,8)\n",
    "verify_second_stage(proof_stage_two,root,1024,8)"
   ]
  },
  {
   "cell_type": "code",
   "execution_count": 16,
   "metadata": {},
   "outputs": [
    {
     "name": "stdout",
     "output_type": "stream",
     "text": [
      "2\n",
      "2\n",
      "2\n",
      "a = 2  trace_length = 1024    destination = 999     queries = 8\n",
      "0.2\n",
      "MerkeTree is done. 8192\n",
      "MerkeTree is done. 8192\n",
      "MerkeTree is done. 8192\n",
      "MerkeTree is done. 8192\n",
      "0.301\n",
      "MerkeTree is done. 8192\n",
      "MerkeTree is done. 4096\n",
      "MerkeTree is done. 2048\n",
      "MerkeTree is done. 1024\n",
      "MerkeTree is done. 512\n",
      "MerkeTree is done. 256\n",
      "MerkeTree is done. 128\n",
      "MerkeTree is done. 64\n",
      "MerkeTree is done. 32\n",
      "MerkeTree is done. 16\n",
      "start get_random_index_to_sample\n",
      "0.31\n",
      "0.32\n",
      "0.33\n",
      "0.302\n",
      "start get_random_index_to_sample\n",
      "0.31\n",
      "0.32\n",
      "0.33\n",
      "1\n",
      "1.1\n",
      "1.2\n",
      "1.3 : name='p1'\n",
      "1.31 : index=1597\n",
      "1.32 : index=1597\n",
      "1.31 : index=1596\n",
      "1.32 : index=1596\n",
      "1.31 : index=3155\n",
      "1.32 : index=3155\n",
      "1.31 : index=3154\n",
      "1.32 : index=3154\n",
      "1.31 : index=4379\n",
      "1.32 : index=4379\n",
      "1.31 : index=4378\n",
      "1.32 : index=4378\n",
      "1.31 : index=7912\n",
      "1.32 : index=7912\n",
      "1.31 : index=7913\n",
      "1.32 : index=7913\n",
      "1.3 : name='p2'\n",
      "1.31 : index=1597\n",
      "1.32 : index=1597\n",
      "1.31 : index=1596\n",
      "1.32 : index=1596\n",
      "1.31 : index=3155\n",
      "1.32 : index=3155\n",
      "1.31 : index=3154\n",
      "1.32 : index=3154\n",
      "1.31 : index=4379\n",
      "1.32 : index=4379\n",
      "1.31 : index=4378\n",
      "1.32 : index=4378\n",
      "1.31 : index=7912\n",
      "1.32 : index=7912\n",
      "1.31 : index=7913\n",
      "1.32 : index=7913\n",
      "1.3 : name='p3'\n",
      "1.31 : index=1597\n",
      "1.32 : index=1597\n",
      "1.31 : index=1596\n",
      "1.32 : index=1596\n",
      "1.31 : index=3155\n",
      "1.32 : index=3155\n",
      "1.31 : index=3154\n",
      "1.32 : index=3154\n",
      "1.31 : index=4379\n",
      "1.32 : index=4379\n",
      "1.31 : index=4378\n",
      "1.32 : index=4378\n",
      "1.31 : index=7912\n",
      "1.32 : index=7912\n",
      "1.31 : index=7913\n",
      "1.32 : index=7913\n",
      "1.3 : name='cp'\n",
      "1.31 : index=1597\n",
      "1.32 : index=1597\n",
      "1.31 : index=1596\n",
      "1.32 : index=1596\n",
      "1.31 : index=3155\n",
      "1.32 : index=3155\n",
      "1.31 : index=3154\n",
      "1.32 : index=3154\n",
      "1.31 : index=4379\n",
      "1.32 : index=4379\n",
      "1.31 : index=4378\n",
      "1.32 : index=4378\n",
      "1.31 : index=7912\n",
      "1.32 : index=7912\n",
      "1.31 : index=7913\n",
      "1.32 : index=7913\n",
      "1.4\n",
      "1.5 index=1597\n",
      "1.5 index=1596\n",
      "1.5 index=3155\n",
      "1.5 index=3154\n",
      "1.5 index=4379\n",
      "1.5 index=4378\n",
      "1.5 index=7912\n",
      "1.5 index=7913\n",
      "1.6\n"
     ]
    }
   ],
   "source": [
    "print(a)\n",
    "trace, Y = create_excecution_trace(a=2, trace_length=1024, destination=Y_INDEX)\n",
    "print(a)\n",
    "proof = prove(2, 1024, Y_INDEX)\n",
    "#proof[1][3]['pathes'][1][0][0]"
   ]
  },
  {
   "cell_type": "code",
   "execution_count": 10,
   "metadata": {},
   "outputs": [
    {
     "data": {
      "text/plain": [
       "True"
      ]
     },
     "execution_count": 10,
     "metadata": {},
     "output_type": "execute_result"
    }
   ],
   "source": [
    "%run Prover.ipynb\n",
    "%run Verifier.ipynb\n",
    "\n",
    "## Full proof and verification:\n",
    "\n",
    "#Build trace:\n",
    "trace, Y = create_excecution_trace(a=2, trace_length=1024, destination=Y_INDEX)\n",
    "#Prove trace:\n",
    "proof = prove(a=2, trace_length=1024, destination=Y_INDEX, queries=8)\n",
    "#Intiate verifier:\n",
    "verifier1 = Verifier_first_stage(Y=Y, Y_index=Y_INDEX, excecution_trace_length= 1024, num_of_queries= 8)\n",
    "#Verify composition polynomial:\n",
    "verifier1.verify(proof_stage_one=proof[0], proof_stage_two=proof[1])\n",
    "#Verify FRI:\n",
    "verify_second_stage(proof[1],proof[0]['cp']['root'],1024,8)"
   ]
  },
  {
   "cell_type": "code",
   "execution_count": null,
   "metadata": {},
   "outputs": [],
   "source": []
  },
  {
   "cell_type": "code",
   "execution_count": null,
   "metadata": {},
   "outputs": [],
   "source": []
  }
 ],
 "metadata": {
  "kernelspec": {
   "display_name": "SageMath 9.0",
   "language": "sage",
   "name": "sagemath"
  },
  "language_info": {
   "codemirror_mode": {
    "name": "ipython",
    "version": 3
   },
   "file_extension": ".py",
   "mimetype": "text/x-python",
   "name": "python",
   "nbconvert_exporter": "python",
   "pygments_lexer": "ipython3",
   "version": "3.8.10"
  }
 },
 "nbformat": 4,
 "nbformat_minor": 4
}
