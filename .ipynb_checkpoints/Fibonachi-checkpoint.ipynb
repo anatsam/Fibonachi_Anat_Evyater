{
 "cells": [
  {
   "cell_type": "code",
   "execution_count": 45,
   "id": "c9ab8cba",
   "metadata": {},
   "outputs": [],
   "source": [
    "PRIME = 3*2**30+1\n",
    "FIELD = GF(PRIME)\n",
    "F.<x> = PolynomialRing(GF(PRIME),'x')\n",
    "gen8192 = 1734477367\n",
    "gen1024 = gen8192**8\n",
    "gen_ = FIELD.gen\n",
    "Y_INDEX = 6\n"
   ]
  },
  {
   "cell_type": "code",
   "execution_count": 46,
   "id": "642c49ce",
   "metadata": {},
   "outputs": [],
   "source": [
    "def traceCalculator(a: int, trance_len: int):\n",
    "    trace = [1, a]\n",
    "    for i in range(2,trance_len):\n",
    "        trace.append((trace[i-1] + trace[i-2])%PRIME)\n",
    "    return trace"
   ]
  },
  {
   "cell_type": "code",
   "execution_count": 47,
   "id": "da447827",
   "metadata": {},
   "outputs": [],
   "source": [
    "def polynomialEvaluation (trace, generator):\n",
    "    points =[]\n",
    "    for i, y in enumerate (trace): \n",
    "        points.append((generator**i, y))\n",
    "    \n",
    "    R = FIELD['x']\n",
    "    polynomial = R.lagrange_polynomial(points)\n",
    "    return polynomial"
   ]
  },
  {
   "cell_type": "code",
   "execution_count": 48,
   "id": "50b16572",
   "metadata": {},
   "outputs": [],
   "source": [
    "a=2\n",
    "trance_len = 8\n",
    "trace = traceCalculator(a=a,trance_len=trance_len)\n",
    "#print(trace)\n",
    "poly = polynomialEvaluation(trace=trace, generator=gen1024)\n",
    "# Sainaty check:\n",
    "assert poly(gen1024**Y_INDEX) == trace[Y_INDEX]\n",
    "Y=trace[Y_INDEX]"
   ]
  },
  {
   "cell_type": "code",
   "execution_count": 49,
   "id": "4119d47a",
   "metadata": {},
   "outputs": [],
   "source": [
    "def compositonPolynomial(poly, trance_len, Y, index_y, gen):\n",
    "    n=trance_len\n",
    "    p1 = (poly-1)/(x-gen**0)\n",
    "    co1 = FiatShamirRandom(p1)\n",
    "    p2 = (poly - Y)/(x-gen**index_y)\n",
    "    co2 = FiatShamirRandom(data=p2)\n",
    "    \n",
    "    # (x-g**0)(x-g**1)...(x-g**(n-1)) = x**n-1\n",
    "    # \n",
    "    constrain_3_numer = poly(gen ** 2 * x) - poly(gen * x) - poly(x)\n",
    "    # constrain_3_numer should divide by all powers of gen: x=g**0, .... x= g**(n-3)\n",
    "    constrain_3_denom = (x**n-1) / ( (x-gen**(n-1)) * (x-gen**(n-2)) )\n",
    "    # p3 = (poly(gen ** 2 * x) - poly(gen * x) - poly(x))*(x-gen**(n-1)) \\\n",
    "    #     * (x-gen**(n-2))*(x-gen**(n-3))/(x**n-1)\n",
    "    p3 = constrain_3_numer / constrain_3_denom\n",
    "    co3 = FiatShamirRandom(p3)\n",
    "    return p1*co1 + p2+co2 + p3*co3"
   ]
  },
  {
   "cell_type": "code",
   "execution_count": null,
   "id": "0ef59a66-6dff-48e2-98e4-1c3acb2d225b",
   "metadata": {},
   "outputs": [],
   "source": []
  },
  {
   "cell_type": "code",
   "execution_count": 50,
   "id": "13662290",
   "metadata": {},
   "outputs": [],
   "source": [
    "def FiatShamirRandom(data):\n",
    "    return 1"
   ]
  },
  {
   "cell_type": "code",
   "execution_count": 51,
   "id": "4a284ea8",
   "metadata": {},
   "outputs": [
    {
     "name": "stdout",
     "output_type": "stream",
     "text": [
      "\n",
      " (1091714168*x^13 + 1407305595*x^12 + 395664932*x^11 + 419383330*x^10 + 2704724870*x^9 + 1381188419*x^8 + 2582812176*x^7 + 1514227960*x^6 + 752573131*x^5 + 3107292042*x^4 + 2285659171*x^3 + 267144213*x^2 + 1088654503*x + 2692633626)/(x^7 + x^6 + x^5 + x^4 + x^3 + x^2 + x + 1) + \n",
      "\n",
      " 545857084*x^6 + 2006563258*x^5 + 1609026582*x^4 + 1342640013*x^3 + 158182591*x^2 + 531858848*x + 3182817089\n"
     ]
    }
   ],
   "source": [
    "p = compositonPolynomial(poly=poly, trance_len=trance_len, Y=Y, index_y=Y_INDEX, gen=gen1024)\n",
    "print(f\"\\n {p} + \\n\\n {(poly-1)/(x-1)}\")"
   ]
  },
  {
   "cell_type": "code",
   "execution_count": null,
   "id": "01be6c1e",
   "metadata": {},
   "outputs": [],
   "source": []
  }
 ],
 "metadata": {
  "kernelspec": {
   "display_name": "SageMath 9.0",
   "language": "sage",
   "name": "sagemath"
  },
  "language_info": {
   "codemirror_mode": {
    "name": "ipython",
    "version": 3
   },
   "file_extension": ".py",
   "mimetype": "text/x-python",
   "name": "python",
   "nbconvert_exporter": "python",
   "pygments_lexer": "ipython3",
   "version": "3.8.10"
  }
 },
 "nbformat": 4,
 "nbformat_minor": 5
}
