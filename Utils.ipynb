{
 "cells": [
  {
   "cell_type": "code",
   "execution_count": 1,
   "metadata": {},
   "outputs": [],
   "source": [
    "import hashlib\n",
    "from sage.rings.finite_rings.integer_mod import IntegerMod_gmp\n",
    "from sage.rings.polynomial.polynomial_zmod_flint import Polynomial_zmod_flint\n",
    "#from math import log\n",
    "# DIFINES\n",
    "PRIME = 3*2**30+1\n",
    "FIELD = GF(PRIME)"
   ]
  },
  {
   "cell_type": "code",
   "execution_count": 2,
   "metadata": {},
   "outputs": [],
   "source": [
    "F.<x> = PolynomialRing(GF(PRIME),'x')\n",
    "field_gen = FIELD.multiplicative_generator()\n",
    "gen8192 = field_gen ** ((PRIME-1)/8192)\n",
    "gen1024 = field_gen ** ((PRIME-1)/1024)"
   ]
  },
  {
   "cell_type": "code",
   "execution_count": 3,
   "metadata": {},
   "outputs": [],
   "source": [
    "Y_INDEX = 999\n",
    "a = 2 "
   ]
  },
  {
   "cell_type": "code",
   "execution_count": 9,
   "metadata": {},
   "outputs": [],
   "source": [
    "# def merkle(points: list):\n",
    "#     if len(points) <= 1:\n",
    "#         return points[0]\n",
    "#     squeezed_points = []\n",
    "#     for i in range(len(points)//2):\n",
    "#         temp_string = ''.join(str(points[i*2]))\n",
    "#         temp_string = temp_string.join(str(points[i*2+1]))\n",
    "#         squeezed_points.append(sha3(temp_string))\n",
    "#     if len(points)%2 == 1:\n",
    "#         squeezed_points.append(sha3(''.join(str(points[-1]))))\n",
    "#     return merkle(squeezed_points)"
   ]
  },
  {
   "cell_type": "code",
   "execution_count": 10,
   "metadata": {},
   "outputs": [],
   "source": [
    "def sha3(string: str):\n",
    "    byte=string.encode('ascii')\n",
    "    m = hashlib.sha3_256()\n",
    "    m.update(byte)\n",
    "    \n",
    "    return m.hexdigest()"
   ]
  },
  {
   "cell_type": "code",
   "execution_count": 11,
   "metadata": {},
   "outputs": [],
   "source": [
    "def fiat_shamir_random(data: str, nonce = 0)-> int:\n",
    "    if nonce:\n",
    "        data = sha3(data + str(nonce))\n",
    "    rand = int.from_bytes(data.encode('ascii'), \"big\")\n",
    "    return rand%PRIME"
   ]
  },
  {
   "cell_type": "code",
   "execution_count": 13,
   "metadata": {},
   "outputs": [],
   "source": [
    "def reverse_bit(n, width = 10):\n",
    "    n_binary = '{:0{width}b}'.format(n, width=width)\n",
    "    return int(n_binary[::-1], 2)"
   ]
  },
  {
   "cell_type": "code",
   "execution_count": 14,
   "metadata": {},
   "outputs": [],
   "source": [
    "# def low_degree_extension(poly: Polynomial_zmod_flint, trance_len: int, group_gen: IntegerMod_gmp, field_gen: IntegerMod_gmp):\n",
    "#     coset_set = [field_gen*(group_gen**i) for i in range (trance_len)]\n",
    "#     new_coset_set = [coset_set[reverse_bit(i, log(trance_len,2))] for i in range (trance_len)]\n",
    "#     return [(c, poly(c)) for c in new_coset_set]\n"
   ]
  },
  {
   "cell_type": "code",
   "execution_count": 37,
   "metadata": {},
   "outputs": [],
   "source": [
    "def hash_tow_elements(element1, element2):\n",
    "        temp_string = ''.join(str(element1))\n",
    "        temp_string = temp_string.join(str(element2))\n",
    "        return(sha3(temp_string))\n",
    "\n",
    "def hash_one_elements(element):\n",
    "    return(sha3(str(element)))\n",
    "\n",
    "\n",
    "class MerkeTree():\n",
    "    \n",
    "    tree: dict = {}\n",
    "    domain_size: int\n",
    "    \n",
    "    def __init__(self, domain:list):\n",
    "        self.tree={}\n",
    "        self.domain_size = len(domain)\n",
    "        # Calculate the hashes of each point in the domain.\n",
    "        # Inset the leavs and their hashes to the tree. \n",
    "        domain_hashed = []\n",
    "        for element in domain:\n",
    "            hashed_element = hash_one_elements(element)\n",
    "            self.tree[hashed_element] = element\n",
    "            domain_hashed.append(hashed_element)\n",
    "\n",
    "        # Now all the leavs are in the tree.\n",
    "        # Construct the hash piramid.\n",
    "        self.recursive_merkle(nodes_layer=domain_hashed)\n",
    "        print(f\"MerkeTree is done. {self.domain_size}\")\n",
    "\n",
    "    def recursive_merkle(self, nodes_layer: list):\n",
    "        if len(nodes_layer) <= 1:\n",
    "            #This is the root of the merkle tree.\n",
    "            self.tree['root']=nodes_layer[0]\n",
    "            return\n",
    "\n",
    "        assert len(nodes_layer)%2 ==0\n",
    "        \n",
    "        # Create a new layer of nodes in the tree\n",
    "        new_nodes_layre = []\n",
    "\n",
    "        # Create a new node based on the two node beneath it.\n",
    "        for i in range(len(nodes_layer)/2):\n",
    "            hash_element = hash_tow_elements(nodes_layer[i*2], nodes_layer[i*2+1])\n",
    "            self.tree[hash_element] = (nodes_layer[i*2], nodes_layer[i*2+1])\n",
    "            new_nodes_layre.append(hash_element)\n",
    "            \n",
    "        return self.recursive_merkle(nodes_layer = new_nodes_layre)\n",
    "    \n",
    "    @property\n",
    "    def root(self):\n",
    "        return self.tree['root']\n",
    "    \n",
    "    def get_value_and_path_by_index(self, index: int):\n",
    "        \n",
    "        index_size = int(log(self.domain_size, 2))\n",
    "        key = self.tree['root']\n",
    "        \n",
    "        # Shift the index from an int to a binary list.\n",
    "        index_as_str = format(index, f'#0{index_size+2}b')\n",
    "\n",
    "        # Shift from '0b1110' to '1110'\n",
    "        index_as_str = index_as_str[2:] \n",
    "\n",
    "        path = {}\n",
    "        while(index_as_str):\n",
    "            value = self.tree[key]\n",
    "            path[key] = value\n",
    "            direction_bit = int(index_as_str[0])\n",
    "            key = value[direction_bit]\n",
    "            index_as_str = index_as_str[1:]\n",
    "        \n",
    "        #Now the key is the hash of the required index. Reauired value = tree[key] = (coset, CP[coset])\n",
    "        path[key] = self.tree[key]\n",
    "        return(path[key], path)\n"
   ]
  },
  {
   "cell_type": "code",
   "execution_count": 2,
   "metadata": {},
   "outputs": [],
   "source": [
    "    def verify_path_by_index(root: str, expected_value: tuple, path: dict):\n",
    "\n",
    "        #Verify - expected value is in the path\n",
    "        end_of_path = hash_one_elements(expected_value)\n",
    "        assert path[end_of_path] == expected_value \n",
    "        key = root\n",
    "        while(key):\n",
    "            value = path[key]\n",
    "            #verify - the path is correct\n",
    "            if key != end_of_path:\n",
    "                assert key == hash_tow_elements(value[0], value[1])\n",
    "            \n",
    "            #check wich child is the continuation of the path\n",
    "            if value[0] in path:\n",
    "                key = value[0]\n",
    "            elif value[1] in path:\n",
    "                key = value[1]\n",
    "                \n",
    "            else: #Stop at the end of the path\n",
    "                key=0"
   ]
  },
  {
   "cell_type": "code",
   "execution_count": null,
   "metadata": {},
   "outputs": [],
   "source": []
  }
 ],
 "metadata": {
  "kernelspec": {
   "display_name": "SageMath 9.0",
   "language": "sage",
   "name": "sagemath"
  },
  "language_info": {
   "codemirror_mode": {
    "name": "ipython",
    "version": 3
   },
   "file_extension": ".py",
   "mimetype": "text/x-python",
   "name": "python",
   "nbconvert_exporter": "python",
   "pygments_lexer": "ipython3",
   "version": "3.8.10"
  }
 },
 "nbformat": 4,
 "nbformat_minor": 5
}
