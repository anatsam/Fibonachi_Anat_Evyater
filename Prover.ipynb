{
 "cells": [
  {
   "cell_type": "code",
   "execution_count": 9,
   "metadata": {},
   "outputs": [],
   "source": [
    "%run Utils.ipynb"
   ]
  },
  {
   "cell_type": "code",
   "execution_count": 10,
   "metadata": {},
   "outputs": [],
   "source": [
    "def trace_calculator(a: int, trance_len: int) -> list:\n",
    "    trace = [1, a]\n",
    "    for i in range(2,trance_len):\n",
    "        trace.append((trace[i-1] + trace[i-2])%PRIME)\n",
    "    return trace"
   ]
  },
  {
   "cell_type": "code",
   "execution_count": 11,
   "metadata": {},
   "outputs": [],
   "source": [
    "def polynomial_evaluation (trace: list, generator: IntegerMod_gmp) -> Polynomial_zmod_flint:\n",
    "    points =[]\n",
    "    for i, y in enumerate (trace): \n",
    "        points.append((generator**i, y))\n",
    "    \n",
    "    R = FIELD['x']\n",
    "    polynomial = R.lagrange_polynomial(points)\n",
    "    return polynomial"
   ]
  },
  {
   "cell_type": "code",
   "execution_count": 12,
   "metadata": {},
   "outputs": [],
   "source": [
    "def compositon_polynomial(poly_list: list, random_co: dict):\n",
    "    cp=0*x\n",
    "    for poly in poly_list:\n",
    "        cp=cp + poly * random_co[poly]\n",
    "    return cp\n"
   ]
  },
  {
   "cell_type": "code",
   "execution_count": 13,
   "metadata": {
    "tags": []
   },
   "outputs": [],
   "source": [
    "def constrains_polynomials(poly: Polynomial_zmod_flint, trance_len: int, Y: IntegerMod_gmp, index_y: int , gen: IntegerMod_gmp):\n",
    "    n=trance_len\n",
    "    p1 = (poly-1)._divide_if_possible(x-gen**0)\n",
    "    p2 = (poly - Y)._divide_if_possible(x-gen**index_y)\n",
    "    \n",
    "    # (x-g**0)(x-g**1)...(x-g**(n-1)) = x**n-1\n",
    "    # \n",
    "    constrain_3_numer = poly(gen ** 2 * x) - poly(gen * x) - poly(x)\n",
    "    # constrain_3_numer should divide by all powers of gen: x=g**0, .... x= g**(n-3)\n",
    "    constrain_3_denom = (x**n-1)._divide_if_possible( (x-gen**(n-1)) * (x-gen**(n-2)) )\n",
    "    # p3 = (poly(gen ** 2 * x) - poly(gen * x) - poly(x))*(x-gen**(n-1)) \\\n",
    "    #     * (x-gen**(n-2))*(x-gen**(n-3))/(x**n-1)\n",
    "    p3 = constrain_3_numer._divide_if_possible(constrain_3_denom)\n",
    "    return (p1, p2, p3)"
   ]
  },
  {
   "cell_type": "code",
   "execution_count": null,
   "metadata": {},
   "outputs": [],
   "source": []
  },
  {
   "cell_type": "code",
   "execution_count": 17,
   "metadata": {},
   "outputs": [],
   "source": [
    "def fri(poly: Polynomial_zmod_flint, domain: list , degree = 1024, queries = 8) -> dict:\n",
    "    \n",
    "    domain_length = len(domain)\n",
    "    index_to_sample = [0]*queries\n",
    "    stages = log(degree, 2)\n",
    "    proof = {} #{stage: {'root': merkle root, 'pathes':[pathes],'random':random number for naxt-stage}}\n",
    "    for stage in range (stages):\n",
    "        \n",
    "        pathes = [] # [(value, path),...]\n",
    "        merkel_root, merkle_layer = commit(poly, domain)\n",
    "        #first stage: evaluation above the whole domain and creation of merkle tree\n",
    "        if stage == 0: #qurie at queries/2 random indexes\n",
    "            for i in range(0,queries,2):\n",
    "                index_to_sample[i] = fiat_shamir_random(merkel_root,i)%domain_length\n",
    "                index_to_sample[i+1] = index_to_sample[i]+(-1)**(index_to_sample[i]%2)\n",
    "        else: #in every other stage - brings the indexes of the negative element in the domain\n",
    "            new_index_to_sample = []\n",
    "            for index in index_to_sample:\n",
    "                index//=2\n",
    "                temp_index = index + (-1)**(index%2)\n",
    "                if temp_index not in new_index_to_sample:\n",
    "                    new_index_to_sample.append(temp_index)\n",
    "            index_to_sample = new_index_to_sample\n",
    "        for index in index_to_sample:\n",
    "            value_at_index, path = evaluate_points_and_path(merkle_layer, int(index))\n",
    "            pathes.append((value_at_index, path))\n",
    "        #second stage: takes n number randoms, and claculate n/2 time P(x_i) 1<i<n/2 + merkle path for them\n",
    "\n",
    "        rand = fiat_shamir_random(merkel_root)\n",
    "        proof[stage]= {'root':merkel_root ,'pathes':pathes,'random': rand}\n",
    "        poly, domain = fri_next_layer(poly=poly, domain=domain, rand = rand)\n",
    "        #third stage: calculates FRI next Layer\n",
    "    \n",
    "    return proof\n",
    "\n",
    "def commit_on_layers(poly, domain: list, stages: int):\n",
    "    domains, polynomials, merkel_root, merkle_layer = [[None]*stages]*4\n",
    "    domains[0] = domain\n",
    "    polynomials[0] = poly\n",
    "    for stage in range (stages):\n",
    "        merkel_root[stage], merkle_layer[stage] = commit(polynomials[stage], domains[stage])\n",
    "        rand = fiat_shamir_random(merkel_root)\n",
    "        #proof[stage]= {'root':merkel_root ,'pathes':pathes,'random': rand, 'indexes': index_to_sample}\n",
    "        if stage + 1 in range(stages):\n",
    "            polynomials[stage+1], domains[stage+1] = fri_next_layer(poly=poly, domain=domain, rand = rand)\n",
    "        #third stage: calculates FRI next Layer\n",
    "    return domains, polynomials, merkel_root, merkle_layer\n",
    "\n",
    "def query_random_points(domains: list, polynomials: list, stages: int, queries: int, merkel_root: list):\n",
    "    index_to_sample = [0]*queries\n",
    "    pathes = []\n",
    "    for stage in range (stages):\n",
    "        domain_length = len(domain[stage])\n",
    "        poly = polynomials[stage]\n",
    "        pathes_in_stage = [] # [(value, path),...]\n",
    "        \n",
    "        #first stage: evaluation above the whole domain and creation of merkle tree\n",
    "        if stage == 0: #qurie at queries/2 random indexes\n",
    "            combined_root = ''.join(root for root in merkel_root)\n",
    "            for i in range(0,queries,2):\n",
    "                index_to_sample[i] = fiat_shamir_random(combined_root,i)%domain_length\n",
    "                index_to_sample[i+1] = index_to_sample[i]+(-1)**(index_to_sample[i]%2)\n",
    "        else: #in every other stage - brings the indexes of the negative element in the domain\n",
    "            new_index_to_sample = []\n",
    "            for index in index_to_sample:\n",
    "                index//=2\n",
    "                temp_index = index + (-1)**(index%2)\n",
    "                if temp_index not in new_index_to_sample:\n",
    "                    new_index_to_sample.append(temp_index)\n",
    "            index_to_sample = new_index_to_sample\n",
    "            \n",
    "        for index in index_to_sample:\n",
    "            value_at_index, path = evaluate_points_and_path(merkle_layer, int(index))\n",
    "            pathes_in_stage.append((value_at_index, path))\n",
    "        #second stage: takes n number randoms, and claculate n/2 time P(x_i) 1<i<n/2 + merkle path for them\n",
    "        phathes.append(pathes_in_stage)\n",
    "    return pathes\n",
    "\n"
   ]
  },
  {
   "cell_type": "code",
   "execution_count": 8,
   "metadata": {},
   "outputs": [],
   "source": [
    "def commit(poly: Polynomial_zmod_flint, domain: list):\n",
    "    #first stage: evaluation above the whole domain and creation of merkle tree\n",
    "    points=[(d, poly(d)) for d in domain]\n",
    "    tree = MerkeTree(domain=points)\n",
    "    return (tree.root, tree)"
   ]
  },
  {
   "cell_type": "code",
   "execution_count": 21,
   "metadata": {
    "tags": []
   },
   "outputs": [],
   "source": [
    "def fri_next_layer(poly: Polynomial_zmod_flint, domain: list , rand: int):\n",
    "    #calculate the polynomial and the domain of the next stage\n",
    "    even = 0*x\n",
    "    odd = 0*x\n",
    "    for degree,coef in poly.dict().items():\n",
    "        if degree%2==0:\n",
    "            even = even + coef*x**(degree//2)\n",
    "        else:\n",
    "            odd = odd + coef*x**(degree//2)\n",
    "    next_layer = even + rand*odd\n",
    "    new_domain = []\n",
    "    for i in range(0,len(domain),2):\n",
    "        assert domain[i]**2 == domain[i+1]**2\n",
    "        new_domain.append(domain[i]**2)\n",
    "    return next_layer, new_domain"
   ]
  },
  {
   "cell_type": "code",
   "execution_count": 38,
   "metadata": {},
   "outputs": [],
   "source": [
    "def evaluate_points_and_path(tree: MerkeTree, index: int):\n",
    "    return tree.get_value_and_path_by_index(index=index)"
   ]
  },
  {
   "cell_type": "code",
   "execution_count": 3,
   "metadata": {},
   "outputs": [],
   "source": [
    "def create_excecution_trace(a: int, trace_length: int, destination):\n",
    "    trace = trace_calculator(a,trace_length)\n",
    "    Y = trace[destination]\n",
    "    return (trace, Y)\n",
    "    \n",
    "def prove(a: int, trace_length: int, destination, queries: int = 8):\n",
    "    trace = trace_calculator(a,trace_length)\n",
    "    Y = trace[destination]\n",
    "    poly = polynomial_evaluation(trace, gen1024)\n",
    "    p1, p2, p3 = constrains_polynomials(poly, len(trace), Y, destination, gen1024)\n",
    "    #domain_size = len(trace)*queries\n",
    "    #domain_gen = field_gen ** ((PRIME-1)/domain_size)\n",
    "    domain = get_extented_domain(excecution_trace_length=trace_length, num_of_queries=queries)\n",
    "    proof_stage_one = {} #{polynomial name:{'root' = root, 'value' = value,'path' = path}}\n",
    "    random_co = {}\n",
    "    merkle_p = {}\n",
    "    root_p = {}\n",
    "    value_at_index= {}\n",
    "    path = {}\n",
    "    for p in [p1, p2, p3]:\n",
    "        root_p[p], merkle_p[p] = commit(p, domain)\n",
    "        random_co[p] = fiat_shamir_random(root_p[p])\n",
    "        \n",
    "    cp = compositon_polynomial([p1, p2, p3], random_co)\n",
    "    root_p[cp], merkle_p[cp] = commit(cp, domain)\n",
    "    index = fiat_shamir_random(root_p[cp])%len(domain)\n",
    "    polynomials = [p1, p2, p3, cp]\n",
    "    names = ['p1', 'p2', 'p3', 'cp']\n",
    "    for p , name in zip(polynomials, names):\n",
    "        value_at_index[p], path[p] = evaluate_points_and_path(merkle_p[p], index)\n",
    "        internal_proof_dict={}\n",
    "        internal_proof_dict['root'] = root_p[p]\n",
    "        internal_proof_dict['value'] = value_at_index[p]\n",
    "        internal_proof_dict['path'] = path[p]\n",
    "        proof_stage_one[name] = internal_proof_dict\n",
    "    \n",
    "    #Create a copy of poly(x), poly(g*x), poly(g**2 *x)\n",
    "    exceqution_polinomial_samples={}\n",
    "    exceqution_polinomial_samples['ex_p()'] = poly(domain[index])\n",
    "    exceqution_polinomial_samples['ex_p(g)'] = poly(domain[index+1])\n",
    "    exceqution_polinomial_samples['ex_p(g**2)'] = poly(domain[index+2])\n",
    "    proof_stage_one['ex_poly_samples'] = exceqution_polinomial_samples\n",
    "\n",
    "#   return proof_stage_one\n",
    "    proof_stage_two = fri(cp, domain , degree = 1024, queries = 8)\n",
    "    #{stage: {'root': merkle root, 'pathes':[pathes],'random':random number for naxt-stage}}\n",
    "    \n",
    "    return proof_stage_one, proof_stage_two"
   ]
  },
  {
   "cell_type": "code",
   "execution_count": null,
   "metadata": {},
   "outputs": [],
   "source": [
    "# poly(x)\n",
    "# poly(gen ** 2 * x) \n",
    "# poly(gen * x) "
   ]
  }
 ],
 "metadata": {
  "kernelspec": {
   "display_name": "SageMath 9.0",
   "language": "sage",
   "name": "sagemath"
  },
  "language_info": {
   "codemirror_mode": {
    "name": "ipython",
    "version": 3
   },
   "file_extension": ".py",
   "mimetype": "text/x-python",
   "name": "python",
   "nbconvert_exporter": "python",
   "pygments_lexer": "ipython3",
   "version": "3.8.10"
  }
 },
 "nbformat": 4,
 "nbformat_minor": 5
}
