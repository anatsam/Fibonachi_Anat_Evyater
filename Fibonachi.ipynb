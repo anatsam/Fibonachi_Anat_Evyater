{
 "cells": [
  {
   "cell_type": "code",
   "execution_count": 68,
   "id": "830ff8be",
   "metadata": {},
   "outputs": [],
   "source": [
    "import hashlib\n",
    "from sage.rings.finite_rings.integer_mod import IntegerMod_gmp\n",
    "from sage.rings.polynomial.polynomial_zmod_flint import Polynomial_zmod_flint\n",
    "\n",
    "# DIFINES\n",
    "PRIME = 3*2**30+1\n",
    "FIELD = GF(PRIME)"
   ]
  },
  {
   "cell_type": "code",
   "execution_count": 69,
   "id": "5748109f-031a-47b0-b212-fae99b8c83eb",
   "metadata": {},
   "outputs": [],
   "source": [
    "# DIFINES\n",
    "PRIME = 3*2**30+1\n",
    "FIELD = GF(PRIME)\n",
    "# F.<x> = PolynomialRing(GF(PRIME),'x')\n",
    "field_gen = FIELD.multiplicative_generator()\n",
    "gen8192 = field_gen ** ((PRIME-1)/8192)\n",
    "gen1024 = field_gen ** ((PRIME-1)/1024)"
   ]
  },
  {
   "cell_type": "code",
   "execution_count": 70,
   "id": "08765bef-b724-4a63-8ad1-9157ea3a573f",
   "metadata": {},
   "outputs": [],
   "source": [
    "Y_INDEX = 999\n",
    "a = 2 "
   ]
  },
  {
   "cell_type": "code",
   "execution_count": 72,
   "id": "0428458e",
   "metadata": {},
   "outputs": [],
   "source": [
    "def trace_calculator(a: int, trance_len: int) -> list:\n",
    "    trace = [1, a]\n",
    "    for i in range(2,trance_len):\n",
    "        trace.append((trace[i-1] + trace[i-2])%PRIME)\n",
    "    return trace"
   ]
  },
  {
   "cell_type": "code",
   "execution_count": 73,
   "id": "214e6fef",
   "metadata": {},
   "outputs": [],
   "source": [
    "def polynomial_evaluation (trace: list, generator: IntegerMod_gmp) -> Polynomial_zmod_flint:\n",
    "    points =[]\n",
    "    for i, y in enumerate (trace): \n",
    "        points.append((generator**i, y))\n",
    "    \n",
    "    R = FIELD['x']\n",
    "    polynomial = R.lagrange_polynomial(points)\n",
    "    print(type(polynomial))\n",
    "    return polynomial"
   ]
  },
  {
   "cell_type": "code",
   "execution_count": 87,
   "id": "dd70ecbc",
   "metadata": {},
   "outputs": [
    {
     "name": "stdout",
     "output_type": "stream",
     "text": [
      "<class 'sage.rings.polynomial.polynomial_zmod_flint.Polynomial_zmod_flint'>\n"
     ]
    }
   ],
   "source": [
    "trance_len = 1024\n",
    "trace = trace_calculator(a=a,trance_len=trance_len)\n",
    "#print(trace)\n",
    "poly = polynomial_evaluation(trace=trace, generator=gen1024)\n",
    "# Sainaty check:\n",
    "assert poly(gen1024**Y_INDEX) == trace[Y_INDEX]\n",
    "Y=trace[Y_INDEX]"
   ]
  },
  {
   "cell_type": "code",
   "execution_count": 75,
   "id": "c12c2a7c",
   "metadata": {},
   "outputs": [],
   "source": [
    "def compositon_polynomial(poly: Polynomial_zmod_flint, trance_len: int, Y: IntegerMod_gmp, index_y: int , gen: IntegerMod_gmp):\n",
    "    n=trance_len\n",
    "    p1 = (poly-1)/(x-gen**0)\n",
    "    co1 = FiatShamirRandom(p1)\n",
    "    p2 = (poly - Y)/(x-gen**index_y)\n",
    "    co2 = FiatShamirRandom(data=p2)\n",
    "    \n",
    "    # (x-g**0)(x-g**1)...(x-g**(n-1)) = x**n-1\n",
    "    # \n",
    "    constrain_3_numer = poly(gen ** 2 * x) - poly(gen * x) - poly(x)\n",
    "    # constrain_3_numer should divide by all powers of gen: x=g**0, .... x= g**(n-3)\n",
    "    constrain_3_denom = (x**n-1) / ( (x-gen**(n-1)) * (x-gen**(n-2)) )\n",
    "    # p3 = (poly(gen ** 2 * x) - poly(gen * x) - poly(x))*(x-gen**(n-1)) \\\n",
    "    #     * (x-gen**(n-2))*(x-gen**(n-3))/(x**n-1)\n",
    "    p3 = constrain_3_numer / constrain_3_denom\n",
    "    co3 = FiatShamirRandom(p3)\n",
    "    return p1*co1 + p2+co2 + p3*co3"
   ]
  },
  {
   "cell_type": "code",
   "execution_count": 76,
   "id": "1ec42f41",
   "metadata": {},
   "outputs": [],
   "source": [
    "def merkle(points: list):\n",
    "    if len(points) <= 1:\n",
    "        return points[0]\n",
    "    squeezed_points = []\n",
    "    for i in range(len(points)//2):\n",
    "        temp_string = ''.join(str(points[i*2]))\n",
    "        temp_string = temp_string.join(str(points[i*2+1]))\n",
    "        squeezed_points.append(sha3(temp_string))\n",
    "    if len(points)%2 == 1:\n",
    "        squeezed_points.append(sha3(''.join(str(points[-1]))))\n",
    "    return merkle(squeezed_points)"
   ]
  },
  {
   "cell_type": "code",
   "execution_count": 78,
   "id": "bdfdbc16",
   "metadata": {},
   "outputs": [],
   "source": [
    "def sha3(string: str):\n",
    "    byte=string.encode('ascii')\n",
    "    m = hashlib.sha3_256()\n",
    "    m.update(byte)\n",
    "    \n",
    "    return m.hexdigest()"
   ]
  },
  {
   "cell_type": "code",
   "execution_count": 79,
   "id": "011bc3fa",
   "metadata": {},
   "outputs": [],
   "source": [
    "def fiat_shamir_random(data: str)-> int:\n",
    "    rand = int.from_bytes(data.encode('ascii'), \"big\") \n",
    "    return rand%PRIME"
   ]
  },
  {
   "cell_type": "code",
   "execution_count": 80,
   "id": "053e6ceb",
   "metadata": {},
   "outputs": [
    {
     "data": {
      "text/plain": [
       "'112bda191ff7087fc2d7fda84d713e02eb8cae32817df6a2e2a41224bf81616c'"
      ]
     },
     "execution_count": 80,
     "metadata": {},
     "output_type": "execute_result"
    }
   ],
   "source": [
    "points = trace_calculator(2, 15)\n",
    "merkle(points)"
   ]
  },
  {
   "cell_type": "code",
   "execution_count": 81,
   "id": "75b615ca",
   "metadata": {},
   "outputs": [],
   "source": [
    "def low_degree_extension(poly: Polynomial_zmod_flint, trance_len: int, group_gen: IntegerMod_gmp, field_gen: IntegerMod_gmp):\n",
    "    coset_set = [field_gen*(group_gen**i) for i in range (trance_len)]\n",
    "    return [(c, poly(c)) for c in coset_set]"
   ]
  },
  {
   "cell_type": "code",
   "execution_count": 82,
   "id": "1492b642",
   "metadata": {},
   "outputs": [
    {
     "data": {
      "text/plain": [
       "[(5, 1914300601),\n",
       " (2229935889, 2863431288),\n",
       " (1056415280, 602501715),\n",
       " (2439017906, 588858018),\n",
       " (2623023147, 646562388),\n",
       " (19433037, 2451031545),\n",
       " (380960369, 3214091500),\n",
       " (820071082, 2816596337),\n",
       " (2833855974, 1713287674),\n",
       " (2457247830, 232273036),\n",
       " (1800233432, 2547711649),\n",
       " (13901640, 2822861755),\n",
       " (2540449978, 1077162771),\n",
       " (3171820980, 2173830760),\n",
       " (671626609, 1459861403),\n",
       " (565703797, 1502219098)]"
      ]
     },
     "execution_count": 82,
     "metadata": {},
     "output_type": "execute_result"
    }
   ],
   "source": [
    "low_degree_extension(poly=p, trance_len=16, group_gen=gen8192, field_gen=field_gen)"
   ]
  },
  {
   "cell_type": "code",
   "execution_count": 83,
   "id": "90bcdc8f",
   "metadata": {},
   "outputs": [],
   "source": [
    "def fri(poly: Polynomial_zmod_flint, domain: list):\n",
    "    '''if poly.degree() <1:\n",
    "        poly(domain[0])'''\n",
    "    merkel_root, points = commit(poly=poly, domain=domain)\n",
    "    #first stage: evaluation above the whole domain and creation of merkle tree\n",
    "    \n",
    "    evaluate_Points_and_path()\n",
    "    #second stage: takes n number randoms, and claculate n/2 time P(x_i) 1<i<n/2 + merkle path for them\n",
    "    \n",
    "    new_poly, new_domain = fri_next_layer(poly=poly, domain=domain)\n",
    "    #third stage: takes the hash of the merkle root (using fiat-shamir) as field element\n",
    "    #and calculate FRI next Layer\n",
    "    \n",
    "    return c.join(FRI(poly=new_poly, domain=new_domain))"
   ]
  },
  {
   "cell_type": "code",
   "execution_count": 84,
   "id": "2c41b44c",
   "metadata": {},
   "outputs": [],
   "source": [
    "def commit(poly: Polynomial_zmod_flint, domain: list):\n",
    "    pass"
   ]
  },
  {
   "cell_type": "code",
   "execution_count": 85,
   "id": "1a9a4d48",
   "metadata": {},
   "outputs": [],
   "source": [
    "def fri_next_layer(poly: Polynomial_zmod_flint, domain: list):\n",
    "    #calculate the polynomial and the domain of the next stage\n",
    "    pass"
   ]
  },
  {
   "cell_type": "code",
   "execution_count": 86,
   "id": "7dcc1c3a",
   "metadata": {},
   "outputs": [],
   "source": [
    "def evaluate_points_and_path():\n",
    "    pass"
   ]
  },
  {
   "cell_type": "code",
   "execution_count": null,
   "id": "bdd71054",
   "metadata": {},
   "outputs": [],
   "source": []
  }
 ],
 "metadata": {
  "kernelspec": {
   "display_name": "SageMath 9.0",
   "language": "sage",
   "name": "sagemath"
  },
  "language_info": {
   "codemirror_mode": {
    "name": "ipython",
    "version": 3
   },
   "file_extension": ".py",
   "mimetype": "text/x-python",
   "name": "python",
   "nbconvert_exporter": "python",
   "pygments_lexer": "ipython3",
   "version": "3.8.10"
  }
 },
 "nbformat": 4,
 "nbformat_minor": 5
}
