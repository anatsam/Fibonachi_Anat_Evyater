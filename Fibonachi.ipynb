{
 "cells": [
  {
   "cell_type": "code",
   "execution_count": 170,
   "metadata": {},
   "outputs": [],
   "source": [
    "import hashlib\n",
    "from sage.rings.finite_rings.integer_mod import IntegerMod_gmp\n",
    "from sage.rings.polynomial.polynomial_zmod_flint import Polynomial_zmod_flint\n",
    "#from math import log\n",
    "# DIFINES\n",
    "PRIME = 3*2**30+1\n",
    "FIELD = GF(PRIME)"
   ]
  },
  {
   "cell_type": "code",
   "execution_count": 171,
   "metadata": {},
   "outputs": [],
   "source": [
    "F.<x> = PolynomialRing(GF(PRIME),'x')\n",
    "field_gen = FIELD.multiplicative_generator()\n",
    "gen8192 = field_gen ** ((PRIME-1)/8192)\n",
    "gen1024 = field_gen ** ((PRIME-1)/1024)"
   ]
  },
  {
   "cell_type": "code",
   "execution_count": 172,
   "metadata": {},
   "outputs": [],
   "source": [
    "Y_INDEX = 999\n",
    "a = 2 "
   ]
  },
  {
   "cell_type": "code",
   "execution_count": 173,
   "metadata": {},
   "outputs": [],
   "source": [
    "def trace_calculator(a: int, trance_len: int) -> list:\n",
    "    trace = [1, a]\n",
    "    for i in range(2,trance_len):\n",
    "        trace.append((trace[i-1] + trace[i-2])%PRIME)\n",
    "    return trace"
   ]
  },
  {
   "cell_type": "code",
   "execution_count": 174,
   "metadata": {},
   "outputs": [],
   "source": [
    "def polynomial_evaluation (trace: list, generator: IntegerMod_gmp) -> Polynomial_zmod_flint:\n",
    "    points =[]\n",
    "    for i, y in enumerate (trace): \n",
    "        points.append((generator**i, y))\n",
    "    \n",
    "    R = FIELD['x']\n",
    "    polynomial = R.lagrange_polynomial(points)\n",
    "    return polynomial"
   ]
  },
  {
   "cell_type": "code",
   "execution_count": 175,
   "metadata": {},
   "outputs": [],
   "source": [
    "trance_len = 1024\n",
    "trace = trace_calculator(a=a,trance_len=trance_len)\n",
    "#print(trace)\n",
    "poly = polynomial_evaluation(trace=trace, generator=gen1024)\n",
    "# Sainaty check:\n",
    "assert poly(gen1024**Y_INDEX) == trace[Y_INDEX]\n",
    "Y=trace[Y_INDEX]"
   ]
  },
  {
   "cell_type": "code",
   "execution_count": 176,
   "metadata": {},
   "outputs": [],
   "source": [
    "def compositon_polynomial(poly_list: list, random_co: dict):\n",
    "    cp=0*x\n",
    "    for poly in poly_list:\n",
    "        cp=cp + poly * random_co[poly]\n",
    "    return cp\n"
   ]
  },
  {
   "cell_type": "code",
   "execution_count": 177,
   "metadata": {},
   "outputs": [],
   "source": [
    "def constrains_polynomials(poly: Polynomial_zmod_flint, trance_len: int, Y: IntegerMod_gmp, index_y: int , gen: IntegerMod_gmp):\n",
    "    n=trance_len\n",
    "    p1 = (poly-1)._divide_if_possible(x-gen**0)\n",
    "    p2 = (poly - Y)._divide_if_possible(x-gen**index_y)\n",
    "    \n",
    "    # (x-g**0)(x-g**1)...(x-g**(n-1)) = x**n-1\n",
    "    # \n",
    "    constrain_3_numer = poly(gen ** 2 * x) - poly(gen * x) - poly(x)\n",
    "    # constrain_3_numer should divide by all powers of gen: x=g**0, .... x= g**(n-3)\n",
    "    constrain_3_denom = (x**n-1)._divide_if_possible( (x-gen**(n-1)) * (x-gen**(n-2)) )\n",
    "    # p3 = (poly(gen ** 2 * x) - poly(gen * x) - poly(x))*(x-gen**(n-1)) \\\n",
    "    #     * (x-gen**(n-2))*(x-gen**(n-3))/(x**n-1)\n",
    "    p3 = constrain_3_numer._divide_if_possible(constrain_3_denom)\n",
    "    return (p1, p2, p3)"
   ]
  },
  {
   "cell_type": "code",
   "execution_count": 178,
   "metadata": {},
   "outputs": [],
   "source": [
    "def merkle(points: list):\n",
    "    if len(points) <= 1:\n",
    "        return points[0]\n",
    "    squeezed_points = []\n",
    "    for i in range(len(points)//2):\n",
    "        temp_string = ''.join(str(points[i*2]))\n",
    "        temp_string = temp_string.join(str(points[i*2+1]))\n",
    "        squeezed_points.append(sha3(temp_string))\n",
    "    if len(points)%2 == 1:\n",
    "        squeezed_points.append(sha3(''.join(str(points[-1]))))\n",
    "    return merkle(squeezed_points)"
   ]
  },
  {
   "cell_type": "code",
   "execution_count": 179,
   "metadata": {},
   "outputs": [],
   "source": [
    "def sha3(string: str):\n",
    "    byte=string.encode('ascii')\n",
    "    m = hashlib.sha3_256()\n",
    "    m.update(byte)\n",
    "    \n",
    "    return m.hexdigest()"
   ]
  },
  {
   "cell_type": "code",
   "execution_count": 180,
   "metadata": {},
   "outputs": [],
   "source": [
    "def fiat_shamir_random(data: str, nonce = 0)-> int:\n",
    "    if nonce:\n",
    "        data = sha3(data + str(nonce))\n",
    "    rand = int.from_bytes(data.encode('ascii'), \"big\")\n",
    "    return rand%PRIME"
   ]
  },
  {
   "cell_type": "code",
   "execution_count": 181,
   "metadata": {},
   "outputs": [
    {
     "data": {
      "text/plain": [
       "'112bda191ff7087fc2d7fda84d713e02eb8cae32817df6a2e2a41224bf81616c'"
      ]
     },
     "execution_count": 181,
     "metadata": {},
     "output_type": "execute_result"
    }
   ],
   "source": [
    "points = trace_calculator(2, 15)\n",
    "merkle(points)"
   ]
  },
  {
   "cell_type": "code",
   "execution_count": 182,
   "metadata": {},
   "outputs": [],
   "source": [
    "def reverse_bit(n, width = 10):\n",
    "    n_binary = '{:0{width}b}'.format(n, width=width)\n",
    "    return int(n_binary[::-1], 2)"
   ]
  },
  {
   "cell_type": "code",
   "execution_count": 183,
   "metadata": {},
   "outputs": [],
   "source": [
    "def low_degree_extension(poly: Polynomial_zmod_flint, trance_len: int, group_gen: IntegerMod_gmp, field_gen: IntegerMod_gmp):\n",
    "    coset_set = [field_gen*(group_gen**i) for i in range (trance_len)]\n",
    "    new_coset_set = [coset_set[reverse_bit(i, log(trance_len,2))] for i in range (trance_len)]\n",
    "    return [(c, poly(c)) for c in new_coset_set]\n"
   ]
  },
  {
   "cell_type": "code",
   "execution_count": 184,
   "metadata": {},
   "outputs": [],
   "source": [
    "def domain_extension( trace_len: int, group_gen: IntegerMod_gmp, field_gen: IntegerMod_gmp):\n",
    "    coset_set = [field_gen*(group_gen**i) for i in range (trace_len)]\n",
    "    new_coset_set = [coset_set[reverse_bit(i, log(trace_len,2))] for i in range (trace_len)]\n",
    "    return new_coset_set"
   ]
  },
  {
   "cell_type": "code",
   "execution_count": 185,
   "metadata": {},
   "outputs": [
    {
     "data": {
      "text/plain": [
       "[5,\n",
       " 2833855974,\n",
       " 2623023147,\n",
       " 2540449978,\n",
       " 1056415280,\n",
       " 1800233432,\n",
       " 380960369,\n",
       " 671626609,\n",
       " 2229935889,\n",
       " 2457247830,\n",
       " 19433037,\n",
       " 3171820980,\n",
       " 2439017906,\n",
       " 13901640,\n",
       " 820071082,\n",
       " 565703797]"
      ]
     },
     "execution_count": 185,
     "metadata": {},
     "output_type": "execute_result"
    }
   ],
   "source": [
    "domain_extension(trace_len=16, group_gen=gen8192, field_gen=field_gen)"
   ]
  },
  {
   "cell_type": "code",
   "execution_count": 186,
   "metadata": {},
   "outputs": [],
   "source": [
    "def fri(poly: Polynomial_zmod_flint, domain: list , degree = 1024, queries = 8) -> dict:\n",
    "    \n",
    "    domain_length = len(domain)\n",
    "    index_to_sample = [0]*queries\n",
    "    proof = {} #{stage: {'root': merkle root, 'pathes':[pathes],'random':random number for naxt-stage}}\n",
    "    for stage in range (log(degree, 2)):\n",
    "        \n",
    "        pathes = [] # [(value, path),...]\n",
    "        merkel_root, merkle_layer = commit(poly, domain)\n",
    "        #first stage: evaluation above the whole domain and creation of merkle tree\n",
    "        if stage == 0: #qurie at queries/2 random indexes\n",
    "            for i in range(0,queries,2):\n",
    "                index_to_sample[i] = fiat_shamir_random(merkel_root,i)%domain_length\n",
    "                index_to_sample[i+1] = index_to_sample[i]+(-1)**(index_to_sample[i]%2)\n",
    "        else: #in every other stage - brings the indexes of the negative element in the domain\n",
    "            new_index_to_sample = []\n",
    "            for index in index_to_sample:\n",
    "                index//=2\n",
    "                temp_index = index + (-1)**(index%2)\n",
    "                if temp_index not in new_index_to_sample:\n",
    "                    new_index_to_sample.append(temp_index)\n",
    "            index_to_sample = new_index_to_sample\n",
    "        for index in index_to_sample:\n",
    "            value_at_index, path = evaluate_points_and_path(merkle_layer, int(index))\n",
    "            pathes.append((value_at_index, path))\n",
    "        #second stage: takes n number randoms, and claculate n/2 time P(x_i) 1<i<n/2 + merkle path for them\n",
    "\n",
    "        rand = fiat_shamir_random(merkel_root)\n",
    "        proof[stage]= {'root':merkel_root ,'pathes':pathes,'random': rand}\n",
    "        poly, domain = fri_next_layer(poly=poly, domain=domain, rand = rand)\n",
    "        #third stage: calculates FRI next Layer\n",
    "    \n",
    "    return proof"
   ]
  },
  {
   "cell_type": "code",
   "execution_count": 187,
   "metadata": {},
   "outputs": [],
   "source": [
    "def commit(poly: Polynomial_zmod_flint, domain: list):\n",
    "    #first stage: evaluation above the whole domain and creation of merkle tree\n",
    "    points=[(d, poly(d)) for d in domain]\n",
    "    tree = MerkeTree(domain=points)\n",
    "    return (tree.root, tree)"
   ]
  },
  {
   "cell_type": "code",
   "execution_count": 188,
   "metadata": {},
   "outputs": [],
   "source": [
    "def fri_next_layer(poly: Polynomial_zmod_flint, domain: list , rand: int):\n",
    "    #calculate the polynomial and the domain of the next stage\n",
    "    even = 0*x\n",
    "    odd = 0*x\n",
    "    for degree,coef in poly.dict().items():\n",
    "        if degree%2==0:\n",
    "            even = even + coef*x**(degree//2)\n",
    "        else:\n",
    "            odd = odd + coef*x**(degree//2)\n",
    "    next_layer = even + rand*odd\n",
    "    new_domain = []\n",
    "    for i in range(0,len(domain),2):\n",
    "        assert domain[i]**2 == domain[i+1]**2\n",
    "        new_domain.append(domain[i]**2)\n",
    "    return next_layer, new_domain"
   ]
  },
  {
   "cell_type": "code",
   "execution_count": 189,
   "metadata": {},
   "outputs": [],
   "source": [
    "def evaluate_points_and_path(tree: MerkeTree, index: int):\n",
    "    return tree.get_value_and_path_by_index(index=index)"
   ]
  },
  {
   "cell_type": "code",
   "execution_count": 190,
   "metadata": {},
   "outputs": [
    {
     "data": {
      "text/plain": [
       "3221225472"
      ]
     },
     "execution_count": 190,
     "metadata": {},
     "output_type": "execute_result"
    }
   ],
   "source": [
    "trace = []\n",
    "domain = []\n",
    "for i in range (1024):\n",
    "    trace.append(gen1024**i)\n",
    "for i in range (1024):\n",
    "    domain.append(trace[reverse_bit(i, 10)])\n",
    "domain[2]**2"
   ]
  },
  {
   "cell_type": "code",
   "execution_count": 191,
   "metadata": {},
   "outputs": [],
   "source": [
    "def hash_tow_elements(element1, element2):\n",
    "        temp_string = ''.join(str(element1))\n",
    "        temp_string = temp_string.join(str(element2))\n",
    "        return(sha3(temp_string))\n",
    "\n",
    "def hash_one_elements(element):\n",
    "    return(sha3(str(element)))\n",
    "\n",
    "\n",
    "class MerkeTree():\n",
    "    \n",
    "    tree: dict = {}\n",
    "    domain_size: int\n",
    "    \n",
    "    def __init__(self, domain:list):\n",
    "        self.tree={}\n",
    "        self.domain_size = len(domain)\n",
    "        # Calculate the hashes of each point in the domain.\n",
    "        # Inset the leavs and their hashes to the tree. \n",
    "        domain_hashed = []\n",
    "        for element in domain:\n",
    "            hashed_element = hash_one_elements(element)\n",
    "            self.tree[hashed_element] = element\n",
    "            domain_hashed.append(hashed_element)\n",
    "\n",
    "        # Now all the leavs are in the tree.\n",
    "        # Construct the hash piramid.\n",
    "        self.recursive_merkle(nodes_layer=domain_hashed)\n",
    "\n",
    "    def recursive_merkle(self, nodes_layer: list):\n",
    "        if len(nodes_layer) <= 1:\n",
    "            #This is the root of the merkle tree.\n",
    "            self.tree['root']=nodes_layer[0]\n",
    "            return\n",
    "\n",
    "        assert len(nodes_layer)%2 ==0\n",
    "        \n",
    "        # Create a new layer of nodes in the tree\n",
    "        new_nodes_layre = []\n",
    "\n",
    "        # Create a new node based on the two node beneath it.\n",
    "        for i in range(len(nodes_layer)/2):\n",
    "            hash_element = hash_tow_elements(nodes_layer[i*2], nodes_layer[i*2+1])\n",
    "            self.tree[hash_element] = (nodes_layer[i*2], nodes_layer[i*2+1])\n",
    "            new_nodes_layre.append(hash_element)\n",
    "            \n",
    "        return self.recursive_merkle(nodes_layer = new_nodes_layre)\n",
    "    \n",
    "    @property\n",
    "    def root(self):\n",
    "        return self.tree['root']\n",
    "    \n",
    "    def get_value_and_path_by_index(self, index: int):\n",
    "        \n",
    "        index_size = int(log(self.domain_size, 2))\n",
    "        key = self.tree['root']\n",
    "        \n",
    "        # Shift the index from an int to a binary list.\n",
    "        index_as_str = format(index, f'#0{index_size+2}b')\n",
    "\n",
    "        # Shift from '0b1110' to '1110'\n",
    "        index_as_str = index_as_str[2:] \n",
    "\n",
    "        path = {}\n",
    "        while(index_as_str):\n",
    "            value = self.tree[key]\n",
    "            path[key] = value\n",
    "            direction_bit = int(index_as_str[0])\n",
    "            key = value[direction_bit]\n",
    "            index_as_str = index_as_str[1:]\n",
    "        \n",
    "        #Now the key is the hash of the required index. Reauired value = tree[key] = (coset, CP[coset])\n",
    "        path[key] = self.tree[key]\n",
    "        return(path[key], path)\n"
   ]
  },
  {
   "cell_type": "code",
   "execution_count": 192,
   "metadata": {},
   "outputs": [],
   "source": [
    "#domain = domain_extension(poly=CP, trance_len=16, group_gen=gen8192, field_gen=field_gen)\n",
    "domain = domain_extension(trace_len=16, group_gen=gen8192, field_gen=field_gen)\n",
    "root, merke_tree = commit(poly=copy, domain=domain)\n",
    "#print(merke_tree)"
   ]
  },
  {
   "cell_type": "code",
   "execution_count": 209,
   "metadata": {},
   "outputs": [],
   "source": [
    "def prove(a: int, trace_length: int, destination, queries: int = 8):\n",
    "    trace = trace_calculator(a,trace_length)\n",
    "    Y = trace[destination]\n",
    "    poly = polynomial_evaluation(trace, gen1024)\n",
    "    p1, p2, p3 = constrains_polynomials(poly, len(trace), Y, destination, gen1024)\n",
    "    domain_size = len(trace)*queries\n",
    "    domain_gen = field_gen ** ((PRIME-1)/domain_size)\n",
    "    domain = domain_extension(domain_size , domain_gen, field_gen)\n",
    "    proof_stage_one = {} #{name:{'root' = root, 'value' = value,'path' = path}}\n",
    "    random_co = {}\n",
    "    merkle_p = {}\n",
    "    root_p = {}\n",
    "    value_at_index= {}\n",
    "    path = {}\n",
    "    for p in [p1, p2, p3]:\n",
    "        root_p[p], merkle_p[p] = commit(p, domain)\n",
    "        random_co[p] = fiat_shamir_random(root_p[p])\n",
    "        \n",
    "    cp = compositon_polynomial([p1, p2, p3], random_co)\n",
    "    root_p[cp], merkle_p[cp] = commit(cp, domain)\n",
    "    index = fiat_shamir_random(root_p[cp])%len(domain)\n",
    "    polynomials = [p1, p2, p3, cp]\n",
    "    names = ['p1', 'p2', 'p3', 'cp']\n",
    "    for p , name in zip(polynomials, names):\n",
    "        value_at_index[p], path[p] = evaluate_points_and_path(merkle_p[p], index)\n",
    "        internal_proof_dict={}\n",
    "        internal_proof_dict['root'] = root_p[p]\n",
    "        internal_proof_dict['value'] = value_at_index[p]\n",
    "        internal_proof_dict['path'] = path[p]\n",
    "        proof_stage_one[name] = internal_proof_dict\n",
    "    \n",
    "#   return proof_stage_one\n",
    "    proof_stage_two = fri(cp, domain , degree = 1024, queries = 8)\n",
    "    #{stage: {'root': merkle root, 'pathes':[pathes],'random':random number for naxt-stage}}\n",
    "    \n",
    "    return proof_stage_one, proof_stage_two"
   ]
  },
  {
   "cell_type": "code",
   "execution_count": 210,
   "metadata": {},
   "outputs": [
    {
     "data": {
      "text/plain": [
       "(2557630623, 249357130)"
      ]
     },
     "execution_count": 210,
     "metadata": {},
     "output_type": "execute_result"
    }
   ],
   "source": [
    "proof = prove(2, 1024, 1000)\n",
    "proof[1][0]['pathes'][1][0]"
   ]
  },
  {
   "cell_type": "code",
   "execution_count": 195,
   "metadata": {},
   "outputs": [],
   "source": [
    "class Verifier_first_stage():\n",
    "    \n",
    "    def __init__(self):\n",
    "        \"\"\"\n",
    "        \"\"\"\n",
    "    \n",
    "    def verify(self, proof_stage_one: dict, domian_size: int):\n",
    "            index = self.get_index(proof_stage_one=proof_stage_one, domian_size=domian_size)\n",
    "            self.verifiy_path_and_values(proof_stage_one=proof_stage_one, index=index, domian_size=domian_size)\n",
    "            coeffs = self.get_coefficients(proof_stage_one=proof_stage_one)\n",
    "            self.validate_cp_value_in_index(proof_stage_one=proof_stage_one, coeffs=coeffs)\n",
    "\n",
    "    def verifiy_path_and_values(self, proof_stage_one: dict, index: int, domian_size: int):\n",
    "        names = ['p1', 'p2', 'p3', 'cp']\n",
    "        for name in names:\n",
    "            internal_proof_dict = proof_stage_one[name]\n",
    "            root = internal_proof_dict['root']\n",
    "            value_at_index = internal_proof_dict['value']\n",
    "            path = internal_proof_dict['path']\n",
    "            self.verify_path_by_index(\n",
    "                root=root, expected_value=value_at_index, index=index, domain_size=domian_size, path=path\n",
    "            )\n",
    "            \n",
    "    def get_index(self, proof_stage_one: dict, domian_size: int):\n",
    "        #print(f\"{proof_stage_one['cp']=}\")\n",
    "        cp_tree_root = proof_stage_one['cp']['root']\n",
    "        return (fiat_shamir_random(cp_tree_root)%domian_size)\n",
    "    \n",
    "    def get_coefficients(self, proof_stage_one:dict) -> dict:\n",
    "        names = ['p1', 'p2', 'p3']\n",
    "        return {name:fiat_shamir_random(proof_stage_one[name]['root']) for name in names}\n",
    "    \n",
    "    def validate_cp_value_in_index(self, proof_stage_one: dict, coeffs: dict):\n",
    "        names = ['p1', 'p2', 'p3']\n",
    "        expected_value = 0\n",
    "        for name in names:\n",
    "            expected_value_int = ((proof_stage_one[name]['value'])[1]*coeffs[name])\n",
    "            expected_value += expected_value_int%PRIME            \n",
    "        assert proof_stage_one['cp']['value'][1] == expected_value\n",
    "    \n",
    "    def verify_path_by_index(self, root: str, expected_value: tuple, index: int, domain_size: int, path: dict):\n",
    "\n",
    "        index_size = int(log(domain_size, 2))\n",
    "        index_as_str = format(index, f'#0{index_size+2}b')\n",
    "        # shift from '0b1110' to '1110'\n",
    "        index_as_str = index_as_str[2:] \n",
    "        key=root\n",
    "        while(index_as_str):\n",
    "            value = path[key]\n",
    "\n",
    "            #Verify the hash:\n",
    "            assert hash_tow_elements(value[0], value[1]) == key\n",
    "\n",
    "            direction_bit = int(index_as_str[0])\n",
    "            key = value[direction_bit]\n",
    "            index_as_str = index_as_str[1:]\n",
    "\n",
    "        #Now the key is the hash of the required index. Reauired value = tree[key] = (coset, CP[coset])\n",
    "        value = path[key]\n",
    "        assert hash_one_elements(value) == key\n",
    "        assert value == expected_value\n",
    "    "
   ]
  },
  {
   "cell_type": "code",
   "execution_count": 197,
   "metadata": {},
   "outputs": [
    {
     "ename": "TypeError",
     "evalue": "tuple indices must be integers or slices, not str",
     "output_type": "error",
     "traceback": [
      "\u001b[0;31m---------------------------------------------------------------------------\u001b[0m",
      "\u001b[0;31mTypeError\u001b[0m                                 Traceback (most recent call last)",
      "\u001b[0;32m<ipython-input-197-154d8cee0859>\u001b[0m in \u001b[0;36m<module>\u001b[0;34m\u001b[0m\n\u001b[1;32m      1\u001b[0m \u001b[0mverifier1\u001b[0m \u001b[0;34m=\u001b[0m \u001b[0mVerifier_first_stage\u001b[0m\u001b[0;34m(\u001b[0m\u001b[0;34m)\u001b[0m\u001b[0;34m\u001b[0m\u001b[0;34m\u001b[0m\u001b[0m\n\u001b[0;32m----> 2\u001b[0;31m \u001b[0mverifier1\u001b[0m\u001b[0;34m.\u001b[0m\u001b[0mverify\u001b[0m\u001b[0;34m(\u001b[0m\u001b[0mproof_stage_one\u001b[0m\u001b[0;34m=\u001b[0m\u001b[0mproof\u001b[0m\u001b[0;34m,\u001b[0m \u001b[0mdomian_size\u001b[0m\u001b[0;34m=\u001b[0m\u001b[0mInteger\u001b[0m\u001b[0;34m(\u001b[0m\u001b[0;36m8192\u001b[0m\u001b[0;34m)\u001b[0m\u001b[0;34m)\u001b[0m\u001b[0;34m\u001b[0m\u001b[0;34m\u001b[0m\u001b[0m\n\u001b[0m",
      "\u001b[0;32m<ipython-input-195-6127d195e2a3>\u001b[0m in \u001b[0;36mverify\u001b[0;34m(self, proof_stage_one, domian_size)\u001b[0m\n\u001b[1;32m      6\u001b[0m \u001b[0;34m\u001b[0m\u001b[0m\n\u001b[1;32m      7\u001b[0m     \u001b[0;32mdef\u001b[0m \u001b[0mverify\u001b[0m\u001b[0;34m(\u001b[0m\u001b[0mself\u001b[0m\u001b[0;34m,\u001b[0m \u001b[0mproof_stage_one\u001b[0m\u001b[0;34m:\u001b[0m \u001b[0mdict\u001b[0m\u001b[0;34m,\u001b[0m \u001b[0mdomian_size\u001b[0m\u001b[0;34m:\u001b[0m \u001b[0mint\u001b[0m\u001b[0;34m)\u001b[0m\u001b[0;34m:\u001b[0m\u001b[0;34m\u001b[0m\u001b[0;34m\u001b[0m\u001b[0m\n\u001b[0;32m----> 8\u001b[0;31m             \u001b[0mindex\u001b[0m \u001b[0;34m=\u001b[0m \u001b[0mself\u001b[0m\u001b[0;34m.\u001b[0m\u001b[0mget_index\u001b[0m\u001b[0;34m(\u001b[0m\u001b[0mproof_stage_one\u001b[0m\u001b[0;34m=\u001b[0m\u001b[0mproof_stage_one\u001b[0m\u001b[0;34m,\u001b[0m \u001b[0mdomian_size\u001b[0m\u001b[0;34m=\u001b[0m\u001b[0mdomian_size\u001b[0m\u001b[0;34m)\u001b[0m\u001b[0;34m\u001b[0m\u001b[0;34m\u001b[0m\u001b[0m\n\u001b[0m\u001b[1;32m      9\u001b[0m             \u001b[0mself\u001b[0m\u001b[0;34m.\u001b[0m\u001b[0mverifiy_path_and_values\u001b[0m\u001b[0;34m(\u001b[0m\u001b[0mproof_stage_one\u001b[0m\u001b[0;34m=\u001b[0m\u001b[0mproof_stage_one\u001b[0m\u001b[0;34m,\u001b[0m \u001b[0mindex\u001b[0m\u001b[0;34m=\u001b[0m\u001b[0mindex\u001b[0m\u001b[0;34m,\u001b[0m \u001b[0mdomian_size\u001b[0m\u001b[0;34m=\u001b[0m\u001b[0mdomian_size\u001b[0m\u001b[0;34m)\u001b[0m\u001b[0;34m\u001b[0m\u001b[0;34m\u001b[0m\u001b[0m\n\u001b[1;32m     10\u001b[0m             \u001b[0mcoeffs\u001b[0m \u001b[0;34m=\u001b[0m \u001b[0mself\u001b[0m\u001b[0;34m.\u001b[0m\u001b[0mget_coefficients\u001b[0m\u001b[0;34m(\u001b[0m\u001b[0mproof_stage_one\u001b[0m\u001b[0;34m=\u001b[0m\u001b[0mproof_stage_one\u001b[0m\u001b[0;34m)\u001b[0m\u001b[0;34m\u001b[0m\u001b[0;34m\u001b[0m\u001b[0m\n",
      "\u001b[0;32m<ipython-input-195-6127d195e2a3>\u001b[0m in \u001b[0;36mget_index\u001b[0;34m(self, proof_stage_one, domian_size)\u001b[0m\n\u001b[1;32m     24\u001b[0m     \u001b[0;32mdef\u001b[0m \u001b[0mget_index\u001b[0m\u001b[0;34m(\u001b[0m\u001b[0mself\u001b[0m\u001b[0;34m,\u001b[0m \u001b[0mproof_stage_one\u001b[0m\u001b[0;34m:\u001b[0m \u001b[0mdict\u001b[0m\u001b[0;34m,\u001b[0m \u001b[0mdomian_size\u001b[0m\u001b[0;34m:\u001b[0m \u001b[0mint\u001b[0m\u001b[0;34m)\u001b[0m\u001b[0;34m:\u001b[0m\u001b[0;34m\u001b[0m\u001b[0;34m\u001b[0m\u001b[0m\n\u001b[1;32m     25\u001b[0m         \u001b[0;31m#print(f\"{proof_stage_one['cp']=}\")\u001b[0m\u001b[0;34m\u001b[0m\u001b[0;34m\u001b[0m\u001b[0;34m\u001b[0m\u001b[0m\n\u001b[0;32m---> 26\u001b[0;31m         \u001b[0mcp_tree_root\u001b[0m \u001b[0;34m=\u001b[0m \u001b[0mproof_stage_one\u001b[0m\u001b[0;34m[\u001b[0m\u001b[0;34m'cp'\u001b[0m\u001b[0;34m]\u001b[0m\u001b[0;34m[\u001b[0m\u001b[0;34m'root'\u001b[0m\u001b[0;34m]\u001b[0m\u001b[0;34m\u001b[0m\u001b[0;34m\u001b[0m\u001b[0m\n\u001b[0m\u001b[1;32m     27\u001b[0m         \u001b[0;32mreturn\u001b[0m \u001b[0;34m(\u001b[0m\u001b[0mfiat_shamir_random\u001b[0m\u001b[0;34m(\u001b[0m\u001b[0mcp_tree_root\u001b[0m\u001b[0;34m)\u001b[0m\u001b[0;34m%\u001b[0m\u001b[0mdomian_size\u001b[0m\u001b[0;34m)\u001b[0m\u001b[0;34m\u001b[0m\u001b[0;34m\u001b[0m\u001b[0m\n\u001b[1;32m     28\u001b[0m \u001b[0;34m\u001b[0m\u001b[0m\n",
      "\u001b[0;31mTypeError\u001b[0m: tuple indices must be integers or slices, not str"
     ]
    }
   ],
   "source": [
    "verifier1 = Verifier_first_stage()\n",
    "verifier1.verify(proof_stage_one=proof, domian_size=8192)"
   ]
  },
  {
   "cell_type": "code",
   "execution_count": null,
   "metadata": {},
   "outputs": [],
   "source": []
  },
  {
   "cell_type": "code",
   "execution_count": null,
   "metadata": {},
   "outputs": [],
   "source": []
  },
  {
   "cell_type": "code",
   "execution_count": null,
   "metadata": {},
   "outputs": [],
   "source": []
  }
 ],
 "metadata": {
  "kernelspec": {
   "display_name": "SageMath 9.0",
   "language": "sage",
   "name": "sagemath"
  },
  "language_info": {
   "codemirror_mode": {
    "name": "ipython",
    "version": 3
   },
   "file_extension": ".py",
   "mimetype": "text/x-python",
   "name": "python",
   "nbconvert_exporter": "python",
   "pygments_lexer": "ipython3",
   "version": "3.8.10"
  }
 },
 "nbformat": 4,
 "nbformat_minor": 5
}
