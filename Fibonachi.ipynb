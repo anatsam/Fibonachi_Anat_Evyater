{
 "cells": [
  {
   "cell_type": "code",
   "execution_count": 1,
   "id": "07eb4d91",
   "metadata": {},
   "outputs": [],
   "source": [
    "import hashlib\n",
    "from sage.rings.finite_rings.integer_mod import IntegerMod_gmp\n",
    "from sage.rings.polynomial.polynomial_zmod_flint import Polynomial_zmod_flint\n",
    "from math import log\n",
    "# DIFINES\n",
    "PRIME = 3*2**30+1\n",
    "FIELD = GF(PRIME)"
   ]
  },
  {
   "cell_type": "code",
   "execution_count": 2,
   "id": "c52cd2b5",
   "metadata": {},
   "outputs": [],
   "source": [
    "F.<x> = PolynomialRing(GF(PRIME),'x')\n",
    "field_gen = FIELD.multiplicative_generator()\n",
    "gen8192 = field_gen ** ((PRIME-1)/8192)\n",
    "gen1024 = field_gen ** ((PRIME-1)/1024)"
   ]
  },
  {
   "cell_type": "code",
   "execution_count": 3,
   "id": "58f41a7e",
   "metadata": {},
   "outputs": [],
   "source": [
    "Y_INDEX = 999\n",
    "a = 2 "
   ]
  },
  {
   "cell_type": "code",
   "execution_count": 4,
   "id": "56246afd",
   "metadata": {},
   "outputs": [],
   "source": [
    "def trace_calculator(a: int, trance_len: int) -> list:\n",
    "    trace = [1, a]\n",
    "    for i in range(2,trance_len):\n",
    "        trace.append((trace[i-1] + trace[i-2])%PRIME)\n",
    "    return trace"
   ]
  },
  {
   "cell_type": "code",
   "execution_count": 5,
   "id": "32cbb830",
   "metadata": {},
   "outputs": [],
   "source": [
    "def polynomial_evaluation (trace: list, generator: IntegerMod_gmp) -> Polynomial_zmod_flint:\n",
    "    points =[]\n",
    "    for i, y in enumerate (trace): \n",
    "        points.append((generator**i, y))\n",
    "    \n",
    "    R = FIELD['x']\n",
    "    polynomial = R.lagrange_polynomial(points)\n",
    "    print(type(polynomial))\n",
    "    return polynomial"
   ]
  },
  {
   "cell_type": "code",
   "execution_count": 6,
   "id": "d8c77d2a",
   "metadata": {},
   "outputs": [
    {
     "name": "stdout",
     "output_type": "stream",
     "text": [
      "<class 'sage.rings.polynomial.polynomial_zmod_flint.Polynomial_zmod_flint'>\n"
     ]
    }
   ],
   "source": [
    "trance_len = 1024\n",
    "trace = trace_calculator(a=a,trance_len=trance_len)\n",
    "#print(trace)\n",
    "poly = polynomial_evaluation(trace=trace, generator=gen1024)\n",
    "# Sainaty check:\n",
    "assert poly(gen1024**Y_INDEX) == trace[Y_INDEX]\n",
    "Y=trace[Y_INDEX]"
   ]
  },
  {
   "cell_type": "code",
   "execution_count": 7,
   "id": "79ec4488",
   "metadata": {},
   "outputs": [],
   "source": [
    "def compositon_polynomial(poly: Polynomial_zmod_flint, trance_len: int, Y: IntegerMod_gmp, index_y: int , gen: IntegerMod_gmp):\n",
    "    n=trance_len\n",
    "    print(f\"{type(poly)=}\")\n",
    "    p1 = (poly-1)._divide_if_possible(x-gen**0)\n",
    "    print(f\"{type(p1)=}\")\n",
    "    co1 = fiat_shamir_random(data=str(p1))\n",
    "    p2 = (poly - Y)._divide_if_possible(x-gen**index_y)\n",
    "    co2 = fiat_shamir_random(data=str(p2))\n",
    "    \n",
    "    # (x-g**0)(x-g**1)...(x-g**(n-1)) = x**n-1\n",
    "    # \n",
    "    constrain_3_numer = poly(gen ** 2 * x) - poly(gen * x) - poly(x)\n",
    "    # constrain_3_numer should divide by all powers of gen: x=g**0, .... x= g**(n-3)\n",
    "    constrain_3_denom = (x**n-1)._divide_if_possible( (x-gen**(n-1)) * (x-gen**(n-2)) )\n",
    "    # p3 = (poly(gen ** 2 * x) - poly(gen * x) - poly(x))*(x-gen**(n-1)) \\\n",
    "    #     * (x-gen**(n-2))*(x-gen**(n-3))/(x**n-1)\n",
    "    p3 = constrain_3_numer._divide_if_possible(constrain_3_denom)\n",
    "    co3 = fiat_shamir_random(data=str(p3))\n",
    "    return (p1*co1 + p2*co2 + p3*co3)"
   ]
  },
  {
   "cell_type": "code",
   "execution_count": 8,
   "id": "07b6c995-4269-40fd-a405-2464749c0b5a",
   "metadata": {},
   "outputs": [],
   "source": [
    "def constrains_polynomial(poly: Polynomial_zmod_flint, trance_len: int, Y: IntegerMod_gmp, index_y: int , gen: IntegerMod_gmp):\n",
    "    n=trance_len\n",
    "    p1 = (poly-1)._divide_if_possible(x-gen**0)\n",
    "    p2 = (poly - Y)._divide_if_possible(x-gen**index_y)\n",
    "    \n",
    "    # (x-g**0)(x-g**1)...(x-g**(n-1)) = x**n-1\n",
    "    # \n",
    "    constrain_3_numer = poly(gen ** 2 * x) - poly(gen * x) - poly(x)\n",
    "    # constrain_3_numer should divide by all powers of gen: x=g**0, .... x= g**(n-3)\n",
    "    constrain_3_denom = (x**n-1)._divide_if_possible( (x-gen**(n-1)) * (x-gen**(n-2)) )\n",
    "    # p3 = (poly(gen ** 2 * x) - poly(gen * x) - poly(x))*(x-gen**(n-1)) \\\n",
    "    #     * (x-gen**(n-2))*(x-gen**(n-3))/(x**n-1)\n",
    "    p3 = constrain_3_numer._divide_if_possible(constrain_3_denom)\n",
    "    return (p1, p2, p3)"
   ]
  },
  {
   "cell_type": "code",
   "execution_count": 9,
   "id": "02f1b558",
   "metadata": {},
   "outputs": [],
   "source": [
    "def merkle(points: list):\n",
    "    if len(points) <= 1:\n",
    "        return points[0]\n",
    "    squeezed_points = []\n",
    "    for i in range(len(points)//2):\n",
    "        temp_string = ''.join(str(points[i*2]))\n",
    "        temp_string = temp_string.join(str(points[i*2+1]))\n",
    "        squeezed_points.append(sha3(temp_string))\n",
    "    if len(points)%2 == 1:\n",
    "        squeezed_points.append(sha3(''.join(str(points[-1]))))\n",
    "    return merkle(squeezed_points)"
   ]
  },
  {
   "cell_type": "code",
   "execution_count": 10,
   "id": "67f3f982",
   "metadata": {},
   "outputs": [],
   "source": [
    "def sha3(string: str):\n",
    "    byte=string.encode('ascii')\n",
    "    m = hashlib.sha3_256()\n",
    "    m.update(byte)\n",
    "    \n",
    "    return m.hexdigest()"
   ]
  },
  {
   "cell_type": "code",
   "execution_count": 11,
   "id": "7de03017",
   "metadata": {},
   "outputs": [],
   "source": [
    "def fiat_shamir_random(data: str)-> int:\n",
    "    rand = int.from_bytes(data.encode('ascii'), \"big\") \n",
    "    return rand%PRIME"
   ]
  },
  {
   "cell_type": "code",
   "execution_count": 12,
   "id": "17fa7255",
   "metadata": {},
   "outputs": [
    {
     "name": "stdout",
     "output_type": "stream",
     "text": [
      "type(poly)=<class 'sage.rings.polynomial.polynomial_zmod_flint.Polynomial_zmod_flint'>\n",
      "type(p1)=<class 'sage.rings.polynomial.polynomial_zmod_flint.Polynomial_zmod_flint'>\n"
     ]
    }
   ],
   "source": [
    "CP = compositon_polynomial(poly=poly, trance_len=trance_len, Y=Y, index_y=Y_INDEX , gen=gen1024)\n",
    "p_1, p_2, p_3 = constrains_polynomial(poly=poly, trance_len=trance_len, Y=Y, index_y=Y_INDEX , gen=gen1024)"
   ]
  },
  {
   "cell_type": "code",
   "execution_count": 13,
   "id": "0baf4a72",
   "metadata": {},
   "outputs": [
    {
     "data": {
      "text/plain": [
       "'112bda191ff7087fc2d7fda84d713e02eb8cae32817df6a2e2a41224bf81616c'"
      ]
     },
     "execution_count": 13,
     "metadata": {},
     "output_type": "execute_result"
    }
   ],
   "source": [
    "points = trace_calculator(2, 15)\n",
    "merkle(points)"
   ]
  },
  {
   "cell_type": "code",
   "execution_count": 14,
   "id": "f2041dc1",
   "metadata": {},
   "outputs": [],
   "source": [
    "#CP"
   ]
  },
  {
   "cell_type": "code",
   "execution_count": 15,
   "id": "49f9940b",
   "metadata": {},
   "outputs": [],
   "source": [
    "def reverse_bit(n, width = 10):\n",
    "    n_binary = '{:0{width}b}'.format(n, width=width)\n",
    "    return int(n_binary[::-1], 2)"
   ]
  },
  {
   "cell_type": "code",
   "execution_count": 16,
   "id": "d032b572",
   "metadata": {},
   "outputs": [],
   "source": [
    "def low_degree_extension(poly: Polynomial_zmod_flint, trance_len: int, group_gen: IntegerMod_gmp, field_gen: IntegerMod_gmp):\n",
    "    coset_set = [field_gen*(group_gen**i) for i in range (trance_len)]\n",
    "    new_coset_set = [coset_set[reverse_bit(i, log(trance_len,2))] for i in range (trance_len)]\n",
    "    return [(c, poly(c)) for c in new_coset_set]"
   ]
  },
  {
   "cell_type": "code",
   "execution_count": 17,
   "id": "5b7c92bc-fa6a-460a-9b7d-e18864592aab",
   "metadata": {},
   "outputs": [],
   "source": [
    "def domain_extension(trance_len: int, group_gen: IntegerMod_gmp, field_gen: IntegerMod_gmp):\n",
    "    coset_set = [field_gen*(group_gen**i) for i in range (trance_len)]\n",
    "    return [coset_set[reverse_bit(i, log(trance_len,2))] for i in range (trance_len)]"
   ]
  },
  {
   "cell_type": "code",
   "execution_count": 18,
   "id": "f5f96e4e",
   "metadata": {},
   "outputs": [
    {
     "ename": "ValueError",
     "evalue": "Precision not allowed in integer format specifier",
     "output_type": "error",
     "traceback": [
      "\u001b[0;31m---------------------------------------------------------------------------\u001b[0m",
      "\u001b[0;31mValueError\u001b[0m                                Traceback (most recent call last)",
      "\u001b[0;32m<ipython-input-18-7b074521af9a>\u001b[0m in \u001b[0;36m<module>\u001b[0;34m\u001b[0m\n\u001b[0;32m----> 1\u001b[0;31m \u001b[0mlow_degree_extension\u001b[0m\u001b[0;34m(\u001b[0m\u001b[0mpoly\u001b[0m\u001b[0;34m=\u001b[0m\u001b[0mCP\u001b[0m\u001b[0;34m,\u001b[0m \u001b[0mtrance_len\u001b[0m\u001b[0;34m=\u001b[0m\u001b[0mInteger\u001b[0m\u001b[0;34m(\u001b[0m\u001b[0;36m16\u001b[0m\u001b[0;34m)\u001b[0m\u001b[0;34m,\u001b[0m \u001b[0mgroup_gen\u001b[0m\u001b[0;34m=\u001b[0m\u001b[0mgen8192\u001b[0m\u001b[0;34m,\u001b[0m \u001b[0mfield_gen\u001b[0m\u001b[0;34m=\u001b[0m\u001b[0mfield_gen\u001b[0m\u001b[0;34m)\u001b[0m\u001b[0;34m\u001b[0m\u001b[0;34m\u001b[0m\u001b[0m\n\u001b[0m",
      "\u001b[0;32m<ipython-input-16-6601a5e24579>\u001b[0m in \u001b[0;36mlow_degree_extension\u001b[0;34m(poly, trance_len, group_gen, field_gen)\u001b[0m\n\u001b[1;32m      1\u001b[0m \u001b[0;32mdef\u001b[0m \u001b[0mlow_degree_extension\u001b[0m\u001b[0;34m(\u001b[0m\u001b[0mpoly\u001b[0m\u001b[0;34m:\u001b[0m \u001b[0mPolynomial_zmod_flint\u001b[0m\u001b[0;34m,\u001b[0m \u001b[0mtrance_len\u001b[0m\u001b[0;34m:\u001b[0m \u001b[0mint\u001b[0m\u001b[0;34m,\u001b[0m \u001b[0mgroup_gen\u001b[0m\u001b[0;34m:\u001b[0m \u001b[0mIntegerMod_gmp\u001b[0m\u001b[0;34m,\u001b[0m \u001b[0mfield_gen\u001b[0m\u001b[0;34m:\u001b[0m \u001b[0mIntegerMod_gmp\u001b[0m\u001b[0;34m)\u001b[0m\u001b[0;34m:\u001b[0m\u001b[0;34m\u001b[0m\u001b[0;34m\u001b[0m\u001b[0m\n\u001b[1;32m      2\u001b[0m     \u001b[0mcoset_set\u001b[0m \u001b[0;34m=\u001b[0m \u001b[0;34m[\u001b[0m\u001b[0mfield_gen\u001b[0m\u001b[0;34m*\u001b[0m\u001b[0;34m(\u001b[0m\u001b[0mgroup_gen\u001b[0m\u001b[0;34m**\u001b[0m\u001b[0mi\u001b[0m\u001b[0;34m)\u001b[0m \u001b[0;32mfor\u001b[0m \u001b[0mi\u001b[0m \u001b[0;32min\u001b[0m \u001b[0mrange\u001b[0m \u001b[0;34m(\u001b[0m\u001b[0mtrance_len\u001b[0m\u001b[0;34m)\u001b[0m\u001b[0;34m]\u001b[0m\u001b[0;34m\u001b[0m\u001b[0;34m\u001b[0m\u001b[0m\n\u001b[0;32m----> 3\u001b[0;31m     \u001b[0mnew_coset_set\u001b[0m \u001b[0;34m=\u001b[0m \u001b[0;34m[\u001b[0m\u001b[0mcoset_set\u001b[0m\u001b[0;34m[\u001b[0m\u001b[0mreverse_bit\u001b[0m\u001b[0;34m(\u001b[0m\u001b[0mi\u001b[0m\u001b[0;34m,\u001b[0m \u001b[0mlog\u001b[0m\u001b[0;34m(\u001b[0m\u001b[0mtrance_len\u001b[0m\u001b[0;34m,\u001b[0m\u001b[0mInteger\u001b[0m\u001b[0;34m(\u001b[0m\u001b[0;36m2\u001b[0m\u001b[0;34m)\u001b[0m\u001b[0;34m)\u001b[0m\u001b[0;34m)\u001b[0m\u001b[0;34m]\u001b[0m \u001b[0;32mfor\u001b[0m \u001b[0mi\u001b[0m \u001b[0;32min\u001b[0m \u001b[0mrange\u001b[0m \u001b[0;34m(\u001b[0m\u001b[0mtrance_len\u001b[0m\u001b[0;34m)\u001b[0m\u001b[0;34m]\u001b[0m\u001b[0;34m\u001b[0m\u001b[0;34m\u001b[0m\u001b[0m\n\u001b[0m\u001b[1;32m      4\u001b[0m     \u001b[0;32mreturn\u001b[0m \u001b[0;34m[\u001b[0m\u001b[0;34m(\u001b[0m\u001b[0mc\u001b[0m\u001b[0;34m,\u001b[0m \u001b[0mpoly\u001b[0m\u001b[0;34m(\u001b[0m\u001b[0mc\u001b[0m\u001b[0;34m)\u001b[0m\u001b[0;34m)\u001b[0m \u001b[0;32mfor\u001b[0m \u001b[0mc\u001b[0m \u001b[0;32min\u001b[0m \u001b[0mnew_coset_set\u001b[0m\u001b[0;34m]\u001b[0m\u001b[0;34m\u001b[0m\u001b[0;34m\u001b[0m\u001b[0m\n",
      "\u001b[0;32m<ipython-input-16-6601a5e24579>\u001b[0m in \u001b[0;36m<listcomp>\u001b[0;34m(.0)\u001b[0m\n\u001b[1;32m      1\u001b[0m \u001b[0;32mdef\u001b[0m \u001b[0mlow_degree_extension\u001b[0m\u001b[0;34m(\u001b[0m\u001b[0mpoly\u001b[0m\u001b[0;34m:\u001b[0m \u001b[0mPolynomial_zmod_flint\u001b[0m\u001b[0;34m,\u001b[0m \u001b[0mtrance_len\u001b[0m\u001b[0;34m:\u001b[0m \u001b[0mint\u001b[0m\u001b[0;34m,\u001b[0m \u001b[0mgroup_gen\u001b[0m\u001b[0;34m:\u001b[0m \u001b[0mIntegerMod_gmp\u001b[0m\u001b[0;34m,\u001b[0m \u001b[0mfield_gen\u001b[0m\u001b[0;34m:\u001b[0m \u001b[0mIntegerMod_gmp\u001b[0m\u001b[0;34m)\u001b[0m\u001b[0;34m:\u001b[0m\u001b[0;34m\u001b[0m\u001b[0;34m\u001b[0m\u001b[0m\n\u001b[1;32m      2\u001b[0m     \u001b[0mcoset_set\u001b[0m \u001b[0;34m=\u001b[0m \u001b[0;34m[\u001b[0m\u001b[0mfield_gen\u001b[0m\u001b[0;34m*\u001b[0m\u001b[0;34m(\u001b[0m\u001b[0mgroup_gen\u001b[0m\u001b[0;34m**\u001b[0m\u001b[0mi\u001b[0m\u001b[0;34m)\u001b[0m \u001b[0;32mfor\u001b[0m \u001b[0mi\u001b[0m \u001b[0;32min\u001b[0m \u001b[0mrange\u001b[0m \u001b[0;34m(\u001b[0m\u001b[0mtrance_len\u001b[0m\u001b[0;34m)\u001b[0m\u001b[0;34m]\u001b[0m\u001b[0;34m\u001b[0m\u001b[0;34m\u001b[0m\u001b[0m\n\u001b[0;32m----> 3\u001b[0;31m     \u001b[0mnew_coset_set\u001b[0m \u001b[0;34m=\u001b[0m \u001b[0;34m[\u001b[0m\u001b[0mcoset_set\u001b[0m\u001b[0;34m[\u001b[0m\u001b[0mreverse_bit\u001b[0m\u001b[0;34m(\u001b[0m\u001b[0mi\u001b[0m\u001b[0;34m,\u001b[0m \u001b[0mlog\u001b[0m\u001b[0;34m(\u001b[0m\u001b[0mtrance_len\u001b[0m\u001b[0;34m,\u001b[0m\u001b[0mInteger\u001b[0m\u001b[0;34m(\u001b[0m\u001b[0;36m2\u001b[0m\u001b[0;34m)\u001b[0m\u001b[0;34m)\u001b[0m\u001b[0;34m)\u001b[0m\u001b[0;34m]\u001b[0m \u001b[0;32mfor\u001b[0m \u001b[0mi\u001b[0m \u001b[0;32min\u001b[0m \u001b[0mrange\u001b[0m \u001b[0;34m(\u001b[0m\u001b[0mtrance_len\u001b[0m\u001b[0;34m)\u001b[0m\u001b[0;34m]\u001b[0m\u001b[0;34m\u001b[0m\u001b[0;34m\u001b[0m\u001b[0m\n\u001b[0m\u001b[1;32m      4\u001b[0m     \u001b[0;32mreturn\u001b[0m \u001b[0;34m[\u001b[0m\u001b[0;34m(\u001b[0m\u001b[0mc\u001b[0m\u001b[0;34m,\u001b[0m \u001b[0mpoly\u001b[0m\u001b[0;34m(\u001b[0m\u001b[0mc\u001b[0m\u001b[0;34m)\u001b[0m\u001b[0;34m)\u001b[0m \u001b[0;32mfor\u001b[0m \u001b[0mc\u001b[0m \u001b[0;32min\u001b[0m \u001b[0mnew_coset_set\u001b[0m\u001b[0;34m]\u001b[0m\u001b[0;34m\u001b[0m\u001b[0;34m\u001b[0m\u001b[0m\n",
      "\u001b[0;32m<ipython-input-15-73438505a13f>\u001b[0m in \u001b[0;36mreverse_bit\u001b[0;34m(n, width)\u001b[0m\n\u001b[1;32m      1\u001b[0m \u001b[0;32mdef\u001b[0m \u001b[0mreverse_bit\u001b[0m\u001b[0;34m(\u001b[0m\u001b[0mn\u001b[0m\u001b[0;34m,\u001b[0m \u001b[0mwidth\u001b[0m \u001b[0;34m=\u001b[0m \u001b[0mInteger\u001b[0m\u001b[0;34m(\u001b[0m\u001b[0;36m10\u001b[0m\u001b[0;34m)\u001b[0m\u001b[0;34m)\u001b[0m\u001b[0;34m:\u001b[0m\u001b[0;34m\u001b[0m\u001b[0;34m\u001b[0m\u001b[0m\n\u001b[0;32m----> 2\u001b[0;31m     \u001b[0mn_binary\u001b[0m \u001b[0;34m=\u001b[0m \u001b[0;34m'{:0{width}b}'\u001b[0m\u001b[0;34m.\u001b[0m\u001b[0mformat\u001b[0m\u001b[0;34m(\u001b[0m\u001b[0mn\u001b[0m\u001b[0;34m,\u001b[0m \u001b[0mwidth\u001b[0m\u001b[0;34m=\u001b[0m\u001b[0mwidth\u001b[0m\u001b[0;34m)\u001b[0m\u001b[0;34m\u001b[0m\u001b[0;34m\u001b[0m\u001b[0m\n\u001b[0m\u001b[1;32m      3\u001b[0m     \u001b[0;32mreturn\u001b[0m \u001b[0mint\u001b[0m\u001b[0;34m(\u001b[0m\u001b[0mn_binary\u001b[0m\u001b[0;34m[\u001b[0m\u001b[0;34m:\u001b[0m\u001b[0;34m:\u001b[0m\u001b[0;34m-\u001b[0m\u001b[0mInteger\u001b[0m\u001b[0;34m(\u001b[0m\u001b[0;36m1\u001b[0m\u001b[0;34m)\u001b[0m\u001b[0;34m]\u001b[0m\u001b[0;34m,\u001b[0m \u001b[0mInteger\u001b[0m\u001b[0;34m(\u001b[0m\u001b[0;36m2\u001b[0m\u001b[0;34m)\u001b[0m\u001b[0;34m)\u001b[0m\u001b[0;34m\u001b[0m\u001b[0;34m\u001b[0m\u001b[0m\n",
      "\u001b[0;31mValueError\u001b[0m: Precision not allowed in integer format specifier"
     ]
    }
   ],
   "source": [
    "low_degree_extension(poly=CP, trance_len=16, group_gen=gen8192, field_gen=field_gen)"
   ]
  },
  {
   "cell_type": "code",
   "execution_count": 19,
   "id": "7c59b3a3",
   "metadata": {},
   "outputs": [],
   "source": [
    "def fri(poly: Polynomial_zmod_flint, domain: list , degree = 1024) -> dict:\n",
    "    \n",
    "    proof = {} #{stage: [merkle root, [pathes], random number for naxt-stage]}\n",
    "    for stage in range (log(degree, 2)):\n",
    "        \n",
    "        pathes = []\n",
    "        points, merkel_root = commit(poly=poly, domain=domain)\n",
    "        #first stage: evaluation above the whole domain and creation of merkle tree\n",
    "\n",
    "        evaluate_points_and_path()\n",
    "        #second stage: takes n number randoms, and claculate n/2 time P(x_i) 1<i<n/2 + merkle path for them\n",
    "\n",
    "        rand = fiat_shamir_random(merkel_root)\n",
    "        proof[stage]= [merkel_root ,pathes, rand]\n",
    "        poly, domain = fri_next_layer(poly=poly, domain=domain, rand = rand)\n",
    "        #third stage: calculates FRI next Layer\n",
    "    \n",
    "    return proof"
   ]
  },
  {
   "cell_type": "code",
   "execution_count": 20,
   "id": "3fb5045f",
   "metadata": {},
   "outputs": [],
   "source": [
    "def commit(poly: Polynomial_zmod_flint, domain: list):\n",
    "    #first stage: evaluation above the whole domain and creation of merkle tree\n",
    "    points=[(d, poly(d)) for d in domain]\n",
    "    tree = MerkeTree(domain=points)\n",
    "    return (tree.root, tree)"
   ]
  },
  {
   "cell_type": "code",
   "execution_count": 21,
   "id": "283373d5",
   "metadata": {},
   "outputs": [],
   "source": [
    "def fri_next_layer(poly: Polynomial_zmod_flint, domain: list , rand: int):\n",
    "    #calculate the polynomial and the domain of the next stage\n",
    "    even = 0*x\n",
    "    odd = 0*x\n",
    "    for degree,coef in poly.dict().items():\n",
    "        if degree%2==0:\n",
    "            even = even + coef*x**(degree//2)\n",
    "        else:\n",
    "            odd = odd + coef*x**(degree//2)\n",
    "    next_layer = even + rand*odd\n",
    "    new_domain = []\n",
    "    for i in range(0,len(domain),2):\n",
    "        assert domain[i]**2 == domain[i+1]**2\n",
    "        new_domain.append(domain[i]**2)\n",
    "    return next_layer, new_domain"
   ]
  },
  {
   "cell_type": "code",
   "execution_count": 24,
   "id": "15aff4fc",
   "metadata": {},
   "outputs": [],
   "source": [
    "def evaluate_points_and_path(tree: MerkeTree, index: int):\n",
    "    tree.get_value_and_path_by_index(index=index)"
   ]
  },
  {
   "cell_type": "code",
   "execution_count": 74,
   "id": "3eb66446",
   "metadata": {},
   "outputs": [
    {
     "name": "stdout",
     "output_type": "stream",
     "text": [
      "<class 'sage.rings.polynomial.polynomial_zmod_flint.Polynomial_zmod_flint'>\n",
      "1949650749*x^14 + 254490165*x^13 + 2542374603*x^12 + 1167923054*x^11 + 2345897642*x^10 + 2315637714*x^9 + 2941037616*x^8 + 2682956350*x^7 + 56638226*x^6 + 854385164*x^5 + 1484157149*x^4 + 54628453*x^3 + 2895570615*x^2 + 2333655492*x + 1890800793 \n",
      " \n",
      "\n",
      "1949650749*x^7 + 2796864768*x^6 + 292595223*x^5 + 2035449857*x^4 + 2739594576*x^3 + 2338542313*x^2 + 2950199068*x + 1003230812 \n",
      " \n",
      " 2796864768 \n",
      " \n",
      " [0, 0]\n"
     ]
    },
    {
     "ename": "TypeError",
     "evalue": "evaluate_points_and_path() missing 2 required positional arguments: 'tree' and 'index'",
     "output_type": "error",
     "traceback": [
      "\u001b[0;31m---------------------------------------------------------------------------\u001b[0m",
      "\u001b[0;31mTypeError\u001b[0m                                 Traceback (most recent call last)",
      "\u001b[0;32m<ipython-input-74-9ebdf38f9dbb>\u001b[0m in \u001b[0;36m<module>\u001b[0;34m\u001b[0m\n\u001b[1;32m     11\u001b[0m \u001b[0;34m\u001b[0m\u001b[0m\n\u001b[1;32m     12\u001b[0m \u001b[0mtrace\u001b[0m \u001b[0;34m=\u001b[0m \u001b[0;34m[\u001b[0m\u001b[0mInteger\u001b[0m\u001b[0;34m(\u001b[0m\u001b[0;36m0\u001b[0m\u001b[0;34m)\u001b[0m\u001b[0;34m]\u001b[0m\u001b[0;34m*\u001b[0m\u001b[0mInteger\u001b[0m\u001b[0;34m(\u001b[0m\u001b[0;36m16\u001b[0m\u001b[0;34m)\u001b[0m\u001b[0;34m\u001b[0m\u001b[0;34m\u001b[0m\u001b[0m\n\u001b[0;32m---> 13\u001b[0;31m \u001b[0mproof\u001b[0m \u001b[0;34m=\u001b[0m \u001b[0mfri\u001b[0m\u001b[0;34m(\u001b[0m\u001b[0mpoly\u001b[0m\u001b[0;34m,\u001b[0m\u001b[0mtrace\u001b[0m\u001b[0;34m,\u001b[0m\u001b[0mInteger\u001b[0m\u001b[0;34m(\u001b[0m\u001b[0;36m16\u001b[0m\u001b[0;34m)\u001b[0m\u001b[0;34m)\u001b[0m\u001b[0;34m\u001b[0m\u001b[0;34m\u001b[0m\u001b[0m\n\u001b[0m\u001b[1;32m     14\u001b[0m \u001b[0mproof\u001b[0m\u001b[0;34m\u001b[0m\u001b[0;34m\u001b[0m\u001b[0m\n",
      "\u001b[0;32m<ipython-input-68-2f3a8f87118b>\u001b[0m in \u001b[0;36mfri\u001b[0;34m(poly, domain, degree)\u001b[0m\n\u001b[1;32m      8\u001b[0m         \u001b[0;31m#first stage: evaluation above the whole domain and creation of merkle tree\u001b[0m\u001b[0;34m\u001b[0m\u001b[0;34m\u001b[0m\u001b[0;34m\u001b[0m\u001b[0m\n\u001b[1;32m      9\u001b[0m \u001b[0;34m\u001b[0m\u001b[0m\n\u001b[0;32m---> 10\u001b[0;31m         \u001b[0mevaluate_points_and_path\u001b[0m\u001b[0;34m(\u001b[0m\u001b[0;34m)\u001b[0m\u001b[0;34m\u001b[0m\u001b[0;34m\u001b[0m\u001b[0m\n\u001b[0m\u001b[1;32m     11\u001b[0m         \u001b[0;31m#second stage: takes n number randoms, and claculate n/2 time P(x_i) 1<i<n/2 + merkle path for them\u001b[0m\u001b[0;34m\u001b[0m\u001b[0;34m\u001b[0m\u001b[0;34m\u001b[0m\u001b[0m\n\u001b[1;32m     12\u001b[0m \u001b[0;34m\u001b[0m\u001b[0m\n",
      "\u001b[0;31mTypeError\u001b[0m: evaluate_points_and_path() missing 2 required positional arguments: 'tree' and 'index'"
     ]
    }
   ],
   "source": [
    "trace = trace_calculator(2,15)\n",
    "poly = polynomial_evaluation(trace, field_gen ** ((PRIME-1)/16))\n",
    "#poly = compositon_polynomial(poly, 15, field_gen ** ((PRIME-1)/16), 10, field_gen)\n",
    "#f = 3*x**1 #2895570615*x**12 + x**7\n",
    "#poly = poly.sub(f)\n",
    "#f.coefficients(0)\n",
    "#poly.dict()\n",
    "print(f\"{poly} \\n \\n\" )\n",
    "poly, domain = fri_next_layer(poly,[0,0,0,0], 1)\n",
    "print (f\"{poly} \\n \\n {254490165 + 2542374603} \\n \\n {domain}\" )\n",
    "\n",
    "trace = [0]*16\n",
    "proof = fri(poly,trace,16)\n",
    "proof"
   ]
  },
  {
   "cell_type": "code",
   "execution_count": 75,
   "id": "9ec11f33",
   "metadata": {},
   "outputs": [
    {
     "data": {
      "text/plain": [
       "3221225472"
      ]
     },
     "execution_count": 75,
     "metadata": {},
     "output_type": "execute_result"
    }
   ],
   "source": [
    "trace = []\n",
    "domain = []\n",
    "for i in range (1024):\n",
    "    trace.append(gen1024**i)\n",
    "for i in range (1024):\n",
    "    domain.append(trace[reverse_bit(i, 10)])\n",
    "domain[2]**2"
   ]
  },
  {
   "cell_type": "code",
   "execution_count": 23,
   "id": "47cc1377",
   "metadata": {},
   "outputs": [],
   "source": [
    "def hash_tow_elements(element1, element2):\n",
    "        temp_string = ''.join(str(element1))\n",
    "        temp_string = temp_string.join(str(element2))\n",
    "        return(sha3(temp_string))\n",
    "\n",
    "def hash_one_elements(element):\n",
    "    return(sha3(str(element)))\n",
    "\n",
    "\n",
    "class MerkeTree():\n",
    "    \n",
    "    tree: dict = {}\n",
    "    domain_size: int\n",
    "    \n",
    "    def __init__(self, domain:list):\n",
    "        self.tree={}\n",
    "        self.domain_size = len(domain)\n",
    "        # Calculate the hashes of each point in the domain.\n",
    "        # Inset the leavs and their hashes to the tree. \n",
    "        domain_hashed = []\n",
    "        for element in domain:\n",
    "            hashed_element = hash_one_elements(element)\n",
    "            self.tree[hashed_element] = element\n",
    "            domain_hashed.append(hashed_element)\n",
    "\n",
    "        # Now all the leavs are in the tree.\n",
    "        # Construct the hash piramid.\n",
    "        self.recursive_merkle(nodes_layer=domain_hashed)\n",
    "        print(f\"{self.domain_size=}\")\n",
    "\n",
    "    def recursive_merkle(self, nodes_layer: list):\n",
    "        if len(nodes_layer) <= 1:\n",
    "            #This is the root of the merkle tree.\n",
    "            self.tree['root']=nodes_layer[0]\n",
    "            return\n",
    "\n",
    "        assert len(nodes_layer)%2 ==0\n",
    "        \n",
    "        # Create a new layer of nodes in the tree\n",
    "        new_nodes_layre = []\n",
    "\n",
    "        # Create a new node based on the two node beneath it.\n",
    "        for i in range(len(nodes_layer)/2):\n",
    "            hash_element = hash_tow_elements(nodes_layer[i*2], nodes_layer[i*2+1])\n",
    "            self.tree[hash_element] = (nodes_layer[i*2], nodes_layer[i*2+1])\n",
    "            new_nodes_layre.append(hash_element)\n",
    "            \n",
    "        return self.recursive_merkle(nodes_layer = new_nodes_layre)\n",
    "    \n",
    "    @property\n",
    "    def root(self):\n",
    "        return self.tree['root']\n",
    "    \n",
    "    def get_value_and_path_by_index(self, index: int):\n",
    "        \n",
    "        index_size = log(self.domain_size, 2)\n",
    "        key = self.tree['root']\n",
    "        \n",
    "        # Shift the index from an int to a binary list.\n",
    "        index_as_str = format(index, f'#0{index_size}b')\n",
    "\n",
    "        # Shift from '0b1110' to '1110'\n",
    "        index_as_str = index_as_str[2:] \n",
    "\n",
    "        path = {}\n",
    "        while(index_as_str):\n",
    "            value = self.tree[key]\n",
    "            path[key] = value\n",
    "            direction_bit = int(index_as_str[0])\n",
    "            key = value[direction_bit]\n",
    "            index_as_str = index_as_str[1:]\n",
    "        \n",
    "        #Now the key is the hash of the required index. Reauired value = tree[key] = (coset, CP[coset])\n",
    "        path[key] = self.tree[key]\n",
    "        return(path[key], path)\n"
   ]
  },
  {
   "cell_type": "code",
   "execution_count": 25,
   "id": "dc8297b7-bac6-49f7-b65c-ccdd9536a40b",
   "metadata": {},
   "outputs": [],
   "source": [
    "def verify_path_by_index(root: str, element: tuple, index: int, domain_size: int, path: dict):\n",
    "    \n",
    "    index_size = log(domain_size, 2)\n",
    "    index_as_str = format(index, f'#0{index_size}b')\n",
    "\n",
    "    # shift from '0b1110' to '1110'\n",
    "    index_as_str = index_as_str[2:] \n",
    "    \n",
    "    key=root\n",
    "    while(index_as_str):\n",
    "        value = path[key]\n",
    "        \n",
    "        #Verify the hash:\n",
    "        assert hash_tow_elements(value[0], value[1]) == key\n",
    "        \n",
    "        direction_bit = int(index_as_str[0])\n",
    "        key = value[direction_bit]\n",
    "        index_as_str = index_as_str[1:]\n",
    "\n",
    "    #Now the key is the hash of the required index. Reauired value = tree[key] = (coset, CP[coset])\n",
    "    value = path[key]\n",
    "    print(f\"{value=}\")\n",
    "    print(f\"{key=}\")\n",
    "    print(f\"{hash_one_elements(value)=}\")\n",
    "    assert hash_one_elements(value) == key\n",
    "    assert value == element"
   ]
  },
  {
   "cell_type": "code",
   "execution_count": 27,
   "id": "27caa161-7c1a-42ba-9195-938cc1a0dfb0",
   "metadata": {},
   "outputs": [
    {
     "ename": "ValueError",
     "evalue": "Precision not allowed in integer format specifier",
     "output_type": "error",
     "traceback": [
      "\u001b[0;31m---------------------------------------------------------------------------\u001b[0m",
      "\u001b[0;31mValueError\u001b[0m                                Traceback (most recent call last)",
      "\u001b[0;32m<ipython-input-27-ba767a9a741b>\u001b[0m in \u001b[0;36m<module>\u001b[0;34m\u001b[0m\n\u001b[1;32m      1\u001b[0m \u001b[0;31m#domain = domain_extension(poly=CP, trance_len=16, group_gen=gen8192, field_gen=field_gen)\u001b[0m\u001b[0;34m\u001b[0m\u001b[0;34m\u001b[0m\u001b[0;34m\u001b[0m\u001b[0m\n\u001b[0;32m----> 2\u001b[0;31m \u001b[0mdomain\u001b[0m \u001b[0;34m=\u001b[0m \u001b[0mdomain_extension\u001b[0m\u001b[0;34m(\u001b[0m\u001b[0mtrance_len\u001b[0m\u001b[0;34m=\u001b[0m\u001b[0mtrance_len\u001b[0m\u001b[0;34m,\u001b[0m \u001b[0mgroup_gen\u001b[0m\u001b[0;34m=\u001b[0m\u001b[0mgen8192\u001b[0m\u001b[0;34m,\u001b[0m \u001b[0mfield_gen\u001b[0m\u001b[0;34m=\u001b[0m\u001b[0mfield_gen\u001b[0m\u001b[0;34m)\u001b[0m\u001b[0;34m\u001b[0m\u001b[0;34m\u001b[0m\u001b[0m\n\u001b[0m\u001b[1;32m      3\u001b[0m \u001b[0mroot\u001b[0m\u001b[0;34m,\u001b[0m \u001b[0mmerke_tree\u001b[0m \u001b[0;34m=\u001b[0m \u001b[0mcommit\u001b[0m\u001b[0;34m(\u001b[0m\u001b[0mpoly\u001b[0m\u001b[0;34m=\u001b[0m\u001b[0mCP\u001b[0m\u001b[0;34m,\u001b[0m \u001b[0mdomain\u001b[0m\u001b[0;34m=\u001b[0m\u001b[0mdomain\u001b[0m\u001b[0;34m)\u001b[0m\u001b[0;34m\u001b[0m\u001b[0;34m\u001b[0m\u001b[0m\n\u001b[1;32m      4\u001b[0m \u001b[0;31m#print(merke_tree)\u001b[0m\u001b[0;34m\u001b[0m\u001b[0;34m\u001b[0m\u001b[0;34m\u001b[0m\u001b[0m\n",
      "\u001b[0;32m<ipython-input-17-7f0986c82819>\u001b[0m in \u001b[0;36mdomain_extension\u001b[0;34m(trance_len, group_gen, field_gen)\u001b[0m\n\u001b[1;32m      1\u001b[0m \u001b[0;32mdef\u001b[0m \u001b[0mdomain_extension\u001b[0m\u001b[0;34m(\u001b[0m\u001b[0mtrance_len\u001b[0m\u001b[0;34m:\u001b[0m \u001b[0mint\u001b[0m\u001b[0;34m,\u001b[0m \u001b[0mgroup_gen\u001b[0m\u001b[0;34m:\u001b[0m \u001b[0mIntegerMod_gmp\u001b[0m\u001b[0;34m,\u001b[0m \u001b[0mfield_gen\u001b[0m\u001b[0;34m:\u001b[0m \u001b[0mIntegerMod_gmp\u001b[0m\u001b[0;34m)\u001b[0m\u001b[0;34m:\u001b[0m\u001b[0;34m\u001b[0m\u001b[0;34m\u001b[0m\u001b[0m\n\u001b[1;32m      2\u001b[0m     \u001b[0mcoset_set\u001b[0m \u001b[0;34m=\u001b[0m \u001b[0;34m[\u001b[0m\u001b[0mfield_gen\u001b[0m\u001b[0;34m*\u001b[0m\u001b[0;34m(\u001b[0m\u001b[0mgroup_gen\u001b[0m\u001b[0;34m**\u001b[0m\u001b[0mi\u001b[0m\u001b[0;34m)\u001b[0m \u001b[0;32mfor\u001b[0m \u001b[0mi\u001b[0m \u001b[0;32min\u001b[0m \u001b[0mrange\u001b[0m \u001b[0;34m(\u001b[0m\u001b[0mtrance_len\u001b[0m\u001b[0;34m)\u001b[0m\u001b[0;34m]\u001b[0m\u001b[0;34m\u001b[0m\u001b[0;34m\u001b[0m\u001b[0m\n\u001b[0;32m----> 3\u001b[0;31m     \u001b[0;32mreturn\u001b[0m \u001b[0;34m[\u001b[0m\u001b[0mcoset_set\u001b[0m\u001b[0;34m[\u001b[0m\u001b[0mreverse_bit\u001b[0m\u001b[0;34m(\u001b[0m\u001b[0mi\u001b[0m\u001b[0;34m,\u001b[0m \u001b[0mlog\u001b[0m\u001b[0;34m(\u001b[0m\u001b[0mtrance_len\u001b[0m\u001b[0;34m,\u001b[0m\u001b[0mInteger\u001b[0m\u001b[0;34m(\u001b[0m\u001b[0;36m2\u001b[0m\u001b[0;34m)\u001b[0m\u001b[0;34m)\u001b[0m\u001b[0;34m)\u001b[0m\u001b[0;34m]\u001b[0m \u001b[0;32mfor\u001b[0m \u001b[0mi\u001b[0m \u001b[0;32min\u001b[0m \u001b[0mrange\u001b[0m \u001b[0;34m(\u001b[0m\u001b[0mtrance_len\u001b[0m\u001b[0;34m)\u001b[0m\u001b[0;34m]\u001b[0m\u001b[0;34m\u001b[0m\u001b[0;34m\u001b[0m\u001b[0m\n\u001b[0m",
      "\u001b[0;32m<ipython-input-17-7f0986c82819>\u001b[0m in \u001b[0;36m<listcomp>\u001b[0;34m(.0)\u001b[0m\n\u001b[1;32m      1\u001b[0m \u001b[0;32mdef\u001b[0m \u001b[0mdomain_extension\u001b[0m\u001b[0;34m(\u001b[0m\u001b[0mtrance_len\u001b[0m\u001b[0;34m:\u001b[0m \u001b[0mint\u001b[0m\u001b[0;34m,\u001b[0m \u001b[0mgroup_gen\u001b[0m\u001b[0;34m:\u001b[0m \u001b[0mIntegerMod_gmp\u001b[0m\u001b[0;34m,\u001b[0m \u001b[0mfield_gen\u001b[0m\u001b[0;34m:\u001b[0m \u001b[0mIntegerMod_gmp\u001b[0m\u001b[0;34m)\u001b[0m\u001b[0;34m:\u001b[0m\u001b[0;34m\u001b[0m\u001b[0;34m\u001b[0m\u001b[0m\n\u001b[1;32m      2\u001b[0m     \u001b[0mcoset_set\u001b[0m \u001b[0;34m=\u001b[0m \u001b[0;34m[\u001b[0m\u001b[0mfield_gen\u001b[0m\u001b[0;34m*\u001b[0m\u001b[0;34m(\u001b[0m\u001b[0mgroup_gen\u001b[0m\u001b[0;34m**\u001b[0m\u001b[0mi\u001b[0m\u001b[0;34m)\u001b[0m \u001b[0;32mfor\u001b[0m \u001b[0mi\u001b[0m \u001b[0;32min\u001b[0m \u001b[0mrange\u001b[0m \u001b[0;34m(\u001b[0m\u001b[0mtrance_len\u001b[0m\u001b[0;34m)\u001b[0m\u001b[0;34m]\u001b[0m\u001b[0;34m\u001b[0m\u001b[0;34m\u001b[0m\u001b[0m\n\u001b[0;32m----> 3\u001b[0;31m     \u001b[0;32mreturn\u001b[0m \u001b[0;34m[\u001b[0m\u001b[0mcoset_set\u001b[0m\u001b[0;34m[\u001b[0m\u001b[0mreverse_bit\u001b[0m\u001b[0;34m(\u001b[0m\u001b[0mi\u001b[0m\u001b[0;34m,\u001b[0m \u001b[0mlog\u001b[0m\u001b[0;34m(\u001b[0m\u001b[0mtrance_len\u001b[0m\u001b[0;34m,\u001b[0m\u001b[0mInteger\u001b[0m\u001b[0;34m(\u001b[0m\u001b[0;36m2\u001b[0m\u001b[0;34m)\u001b[0m\u001b[0;34m)\u001b[0m\u001b[0;34m)\u001b[0m\u001b[0;34m]\u001b[0m \u001b[0;32mfor\u001b[0m \u001b[0mi\u001b[0m \u001b[0;32min\u001b[0m \u001b[0mrange\u001b[0m \u001b[0;34m(\u001b[0m\u001b[0mtrance_len\u001b[0m\u001b[0;34m)\u001b[0m\u001b[0;34m]\u001b[0m\u001b[0;34m\u001b[0m\u001b[0;34m\u001b[0m\u001b[0m\n\u001b[0m",
      "\u001b[0;32m<ipython-input-15-73438505a13f>\u001b[0m in \u001b[0;36mreverse_bit\u001b[0;34m(n, width)\u001b[0m\n\u001b[1;32m      1\u001b[0m \u001b[0;32mdef\u001b[0m \u001b[0mreverse_bit\u001b[0m\u001b[0;34m(\u001b[0m\u001b[0mn\u001b[0m\u001b[0;34m,\u001b[0m \u001b[0mwidth\u001b[0m \u001b[0;34m=\u001b[0m \u001b[0mInteger\u001b[0m\u001b[0;34m(\u001b[0m\u001b[0;36m10\u001b[0m\u001b[0;34m)\u001b[0m\u001b[0;34m)\u001b[0m\u001b[0;34m:\u001b[0m\u001b[0;34m\u001b[0m\u001b[0;34m\u001b[0m\u001b[0m\n\u001b[0;32m----> 2\u001b[0;31m     \u001b[0mn_binary\u001b[0m \u001b[0;34m=\u001b[0m \u001b[0;34m'{:0{width}b}'\u001b[0m\u001b[0;34m.\u001b[0m\u001b[0mformat\u001b[0m\u001b[0;34m(\u001b[0m\u001b[0mn\u001b[0m\u001b[0;34m,\u001b[0m \u001b[0mwidth\u001b[0m\u001b[0;34m=\u001b[0m\u001b[0mwidth\u001b[0m\u001b[0;34m)\u001b[0m\u001b[0;34m\u001b[0m\u001b[0;34m\u001b[0m\u001b[0m\n\u001b[0m\u001b[1;32m      3\u001b[0m     \u001b[0;32mreturn\u001b[0m \u001b[0mint\u001b[0m\u001b[0;34m(\u001b[0m\u001b[0mn_binary\u001b[0m\u001b[0;34m[\u001b[0m\u001b[0;34m:\u001b[0m\u001b[0;34m:\u001b[0m\u001b[0;34m-\u001b[0m\u001b[0mInteger\u001b[0m\u001b[0;34m(\u001b[0m\u001b[0;36m1\u001b[0m\u001b[0;34m)\u001b[0m\u001b[0;34m]\u001b[0m\u001b[0;34m,\u001b[0m \u001b[0mInteger\u001b[0m\u001b[0;34m(\u001b[0m\u001b[0;36m2\u001b[0m\u001b[0;34m)\u001b[0m\u001b[0;34m)\u001b[0m\u001b[0;34m\u001b[0m\u001b[0;34m\u001b[0m\u001b[0m\n",
      "\u001b[0;31mValueError\u001b[0m: Precision not allowed in integer format specifier"
     ]
    }
   ],
   "source": [
    "#domain = domain_extension(poly=CP, trance_len=16, group_gen=gen8192, field_gen=field_gen)\n",
    "domain = domain_extension(trance_len=trance_len, group_gen=gen8192, field_gen=field_gen)\n",
    "root, merke_tree = commit(poly=CP, domain=domain)\n",
    "#print(merke_tree)"
   ]
  },
  {
   "cell_type": "code",
   "execution_count": 28,
   "id": "9587407a-21b1-4820-b3c4-69e4c64ae31b",
   "metadata": {},
   "outputs": [
    {
     "ename": "NameError",
     "evalue": "name 'merke_tree' is not defined",
     "output_type": "error",
     "traceback": [
      "\u001b[0;31m---------------------------------------------------------------------------\u001b[0m",
      "\u001b[0;31mNameError\u001b[0m                                 Traceback (most recent call last)",
      "\u001b[0;32m<ipython-input-28-4f2c1a883ace>\u001b[0m in \u001b[0;36m<module>\u001b[0;34m\u001b[0m\n\u001b[0;32m----> 1\u001b[0;31m \u001b[0mpoint\u001b[0m\u001b[0;34m,\u001b[0m \u001b[0mpath\u001b[0m \u001b[0;34m=\u001b[0m \u001b[0mmerke_tree\u001b[0m\u001b[0;34m.\u001b[0m\u001b[0mget_value_and_path_by_index\u001b[0m\u001b[0;34m(\u001b[0m\u001b[0mindex\u001b[0m \u001b[0;34m=\u001b[0m \u001b[0mInteger\u001b[0m\u001b[0;34m(\u001b[0m\u001b[0;36m0\u001b[0m\u001b[0;34m)\u001b[0m\u001b[0;34m)\u001b[0m\u001b[0;34m\u001b[0m\u001b[0;34m\u001b[0m\u001b[0m\n\u001b[0m\u001b[1;32m      2\u001b[0m \u001b[0mprint\u001b[0m\u001b[0;34m(\u001b[0m\u001b[0mmerke_tree\u001b[0m\u001b[0;34m.\u001b[0m\u001b[0mdomain_size\u001b[0m\u001b[0;34m)\u001b[0m\u001b[0;34m\u001b[0m\u001b[0;34m\u001b[0m\u001b[0m\n\u001b[1;32m      3\u001b[0m \u001b[0mprint\u001b[0m\u001b[0;34m(\u001b[0m\u001b[0mpoint\u001b[0m\u001b[0;34m)\u001b[0m\u001b[0;34m\u001b[0m\u001b[0;34m\u001b[0m\u001b[0m\n",
      "\u001b[0;31mNameError\u001b[0m: name 'merke_tree' is not defined"
     ]
    }
   ],
   "source": [
    "point, path = merke_tree.get_value_and_path_by_index(index = 0)\n",
    "print(merke_tree.domain_size)\n",
    "print(point)"
   ]
  },
  {
   "cell_type": "code",
   "execution_count": 88,
   "id": "35b93258-ef4a-4168-8618-83558b63badb",
   "metadata": {},
   "outputs": [
    {
     "name": "stdout",
     "output_type": "stream",
     "text": [
      "value=('2be144c08f2b63ecb72b367d8b450058e559e9d977d6e51c87f2c25f7a38191a', 'b4cf398a29786a69119ab165918e0d21d17b0bdfb365fbdf2d8b90748faa0cf1')\n",
      "key='cf86e5c75b58f229a3983ca5f22212561b2523220202d39e53f6577322ede76e'\n",
      "hash_one_elements(value)='3c8aa93f5ad450f0e11ca89915cc2f1f147e671daa29f5d2cd7b062b66ab995b'\n"
     ]
    },
    {
     "ename": "AssertionError",
     "evalue": "",
     "output_type": "error",
     "traceback": [
      "\u001b[0;31m---------------------------------------------------------------------------\u001b[0m",
      "\u001b[0;31mAssertionError\u001b[0m                            Traceback (most recent call last)",
      "\u001b[0;32m<ipython-input-88-e1888e45cd17>\u001b[0m in \u001b[0;36m<module>\u001b[0;34m\u001b[0m\n\u001b[0;32m----> 1\u001b[0;31m \u001b[0mverify_path_by_index\u001b[0m\u001b[0;34m(\u001b[0m\u001b[0mroot\u001b[0m\u001b[0;34m=\u001b[0m\u001b[0mmerke_tree\u001b[0m\u001b[0;34m.\u001b[0m\u001b[0mroot\u001b[0m\u001b[0;34m,\u001b[0m \u001b[0melement\u001b[0m\u001b[0;34m=\u001b[0m\u001b[0mpoint\u001b[0m\u001b[0;34m,\u001b[0m \u001b[0mindex\u001b[0m\u001b[0;34m=\u001b[0m\u001b[0mInteger\u001b[0m\u001b[0;34m(\u001b[0m\u001b[0;36m3\u001b[0m\u001b[0;34m)\u001b[0m\u001b[0;34m,\u001b[0m \u001b[0mdomain_size\u001b[0m\u001b[0;34m=\u001b[0m\u001b[0mInteger\u001b[0m\u001b[0;34m(\u001b[0m\u001b[0;36m16\u001b[0m\u001b[0;34m)\u001b[0m\u001b[0;34m,\u001b[0m \u001b[0mpath\u001b[0m\u001b[0;34m=\u001b[0m\u001b[0mpath\u001b[0m\u001b[0;34m)\u001b[0m\u001b[0;34m\u001b[0m\u001b[0;34m\u001b[0m\u001b[0m\n\u001b[0m",
      "\u001b[0;32m<ipython-input-87-182284a791ce>\u001b[0m in \u001b[0;36mverify_path_by_index\u001b[0;34m(root, element, index, domain_size, path)\u001b[0m\n\u001b[1;32m     23\u001b[0m     \u001b[0mprint\u001b[0m\u001b[0;34m(\u001b[0m\u001b[0;34mf\"{key=}\"\u001b[0m\u001b[0;34m)\u001b[0m\u001b[0;34m\u001b[0m\u001b[0;34m\u001b[0m\u001b[0m\n\u001b[1;32m     24\u001b[0m     \u001b[0mprint\u001b[0m\u001b[0;34m(\u001b[0m\u001b[0;34mf\"{hash_one_elements(value)=}\"\u001b[0m\u001b[0;34m)\u001b[0m\u001b[0;34m\u001b[0m\u001b[0;34m\u001b[0m\u001b[0m\n\u001b[0;32m---> 25\u001b[0;31m     \u001b[0;32massert\u001b[0m \u001b[0mhash_one_elements\u001b[0m\u001b[0;34m(\u001b[0m\u001b[0mvalue\u001b[0m\u001b[0;34m)\u001b[0m \u001b[0;34m==\u001b[0m \u001b[0mkey\u001b[0m\u001b[0;34m\u001b[0m\u001b[0;34m\u001b[0m\u001b[0m\n\u001b[0m\u001b[1;32m     26\u001b[0m     \u001b[0;32massert\u001b[0m \u001b[0mvalue\u001b[0m \u001b[0;34m==\u001b[0m \u001b[0melement\u001b[0m\u001b[0;34m\u001b[0m\u001b[0;34m\u001b[0m\u001b[0m\n",
      "\u001b[0;31mAssertionError\u001b[0m: "
     ]
    }
   ],
   "source": [
    "verify_path_by_index(root=merke_tree.root, element=point, index=0, domain_size=16, path=path)"
   ]
  },
  {
   "cell_type": "code",
   "execution_count": null,
   "id": "8ff59350-f275-4845-b90e-ec5b3ec92d30",
   "metadata": {},
   "outputs": [],
   "source": []
  }
 ],
 "metadata": {
  "kernelspec": {
   "display_name": "SageMath 9.0",
   "language": "sage",
   "name": "sagemath"
  },
  "language_info": {
   "codemirror_mode": {
    "name": "ipython",
    "version": 3
   },
   "file_extension": ".py",
   "mimetype": "text/x-python",
   "name": "python",
   "nbconvert_exporter": "python",
   "pygments_lexer": "ipython3",
   "version": "3.8.10"
  }
 },
 "nbformat": 4,
 "nbformat_minor": 5
}
