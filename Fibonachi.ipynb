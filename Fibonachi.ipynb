{
 "cells": [
  {
   "cell_type": "code",
   "execution_count": 92,
   "id": "e40c6e1e",
   "metadata": {},
   "outputs": [],
   "source": [
    "import hashlib\n",
    "\n",
    "PRIME = 3*2**30+1\n",
    "FIELD = GF(PRIME)\n",
    "F.<x> = PolynomialRing(GF(PRIME),'x')\n",
    "gen8192 = 1734477367\n",
    "gen1024 = gen8192**8\n",
    "field_gen = FIELD.multiplicative_generator()\n",
    "Y_INDEX = 6\n"
   ]
  },
  {
   "cell_type": "code",
   "execution_count": 81,
   "id": "e1342a66",
   "metadata": {},
   "outputs": [],
   "source": [
    "def traceCalculator(a: int, trance_len: int):\n",
    "    trace = [1, a]\n",
    "    for i in range(2,trance_len):\n",
    "        trace.append((trace[i-1] + trace[i-2])%PRIME)\n",
    "    return trace"
   ]
  },
  {
   "cell_type": "code",
   "execution_count": 82,
   "id": "998106da",
   "metadata": {},
   "outputs": [],
   "source": [
    "def polynomialEvaluation (trace, generator):\n",
    "    points =[]\n",
    "    for i, y in enumerate (trace): \n",
    "        points.append((generator**i, y))\n",
    "    \n",
    "    R = FIELD['x']\n",
    "    polynomial = R.lagrange_polynomial(points)\n",
    "    return polynomial"
   ]
  },
  {
   "cell_type": "code",
   "execution_count": 83,
   "id": "a97c94b7",
   "metadata": {},
   "outputs": [],
   "source": [
    "a=2\n",
    "trance_len = 8\n",
    "trace = traceCalculator(a=a,trance_len=trance_len)\n",
    "#print(trace)\n",
    "poly = polynomialEvaluation(trace=trace, generator=gen1024)\n",
    "# Sainaty check:\n",
    "assert poly(gen1024**Y_INDEX) == trace[Y_INDEX]\n",
    "Y=trace[Y_INDEX]"
   ]
  },
  {
   "cell_type": "code",
   "execution_count": 84,
   "id": "d1398fd6",
   "metadata": {},
   "outputs": [],
   "source": [
    "def compositonPolynomial(poly, trance_len, Y, index_y, gen):\n",
    "    n=trance_len\n",
    "    p1 = (poly-1)/(x-gen**0)\n",
    "    co1 = FiatShamirRandom(p1)\n",
    "    p2 = (poly - Y)/(x-gen**index_y)\n",
    "    co2 = FiatShamirRandom(data=p2)\n",
    "    \n",
    "    # (x-g**0)(x-g**1)...(x-g**(n-1)) = x**n-1\n",
    "    # \n",
    "    constrain_3_numer = poly(gen ** 2 * x) - poly(gen * x) - poly(x)\n",
    "    # constrain_3_numer should divide by all powers of gen: x=g**0, .... x= g**(n-3)\n",
    "    constrain_3_denom = (x**n-1) / ( (x-gen**(n-1)) * (x-gen**(n-2)) )\n",
    "    # p3 = (poly(gen ** 2 * x) - poly(gen * x) - poly(x))*(x-gen**(n-1)) \\\n",
    "    #     * (x-gen**(n-2))*(x-gen**(n-3))/(x**n-1)\n",
    "    p3 = constrain_3_numer / constrain_3_denom\n",
    "    co3 = FiatShamirRandom(p3)\n",
    "    return p1*co1 + p2+co2 + p3*co3"
   ]
  },
  {
   "cell_type": "code",
   "execution_count": 85,
   "id": "90fa1ae1",
   "metadata": {},
   "outputs": [],
   "source": [
    "def merkle(points: list):\n",
    "    if len(points) <= 1:\n",
    "        return points[0]\n",
    "    squeezed_points = []\n",
    "    for i in range(len(points)//2):\n",
    "        temp_string = ''.join(str(points[i*2]))\n",
    "        temp_string = temp_string.join(str(points[i*2+1]))\n",
    "        squeezed_points.append(sha3(temp_string))\n",
    "    if len(points)%2 == 1:\n",
    "        squeezed_points.append(sha3(''.join(str(points[-1]))))\n",
    "    return merkle(squeezed_points)"
   ]
  },
  {
   "cell_type": "code",
   "execution_count": 86,
   "id": "a2124c57",
   "metadata": {},
   "outputs": [],
   "source": [
    "def sha3(string):\n",
    "    byte=string.encode('ascii')\n",
    "    m = hashlib.sha3_256()\n",
    "    m.update(byte)\n",
    "    \n",
    "    return m.hexdigest()"
   ]
  },
  {
   "cell_type": "code",
   "execution_count": 87,
   "id": "328ac964",
   "metadata": {},
   "outputs": [],
   "source": [
    "def FiatShamirRandom(data: str)-> int:\n",
    "    rand = int.from_bytes(data.encode('ascii'), \"big\") \n",
    "    return rand%PRIME"
   ]
  },
  {
   "cell_type": "code",
   "execution_count": 93,
   "id": "13392879",
   "metadata": {},
   "outputs": [
    {
     "data": {
      "text/plain": [
       "'112bda191ff7087fc2d7fda84d713e02eb8cae32817df6a2e2a41224bf81616c'"
      ]
     },
     "execution_count": 93,
     "metadata": {},
     "output_type": "execute_result"
    }
   ],
   "source": [
    "points = traceCalculator(2, 15)\n",
    "merkle(points)"
   ]
  },
  {
   "cell_type": "code",
   "execution_count": 94,
   "id": "3449aefc",
   "metadata": {},
   "outputs": [],
   "source": [
    "def lowDegreeExtension(poly, trance_len, group_gen, field_gen):\n",
    "    coset_set = [field_gen*(group_gen**i) for i in range (trance_len)]\n",
    "    return [(c, poly(c)) for c in coset_set]"
   ]
  },
  {
   "cell_type": "code",
   "execution_count": 95,
   "id": "da4176cf-e272-456a-8c43-cfbf2fbb1f31",
   "metadata": {},
   "outputs": [
    {
     "data": {
      "text/plain": [
       "[(5, 1914300601),\n",
       " (2229935889, 2863431288),\n",
       " (1056415280, 602501715),\n",
       " (2439017906, 588858018),\n",
       " (2623023147, 646562388),\n",
       " (19433037, 2451031545),\n",
       " (380960369, 3214091500),\n",
       " (820071082, 2816596337),\n",
       " (2833855974, 1713287674),\n",
       " (2457247830, 232273036),\n",
       " (1800233432, 2547711649),\n",
       " (13901640, 2822861755),\n",
       " (2540449978, 1077162771),\n",
       " (3171820980, 2173830760),\n",
       " (671626609, 1459861403),\n",
       " (565703797, 1502219098)]"
      ]
     },
     "execution_count": 95,
     "metadata": {},
     "output_type": "execute_result"
    }
   ],
   "source": [
    "lowDegreeExtension(poly=p, trance_len=16, group_gen=gen8192, field_gen=field_gen)"
   ]
  },
  {
   "cell_type": "code",
   "execution_count": null,
   "id": "ee20f60b-807d-42ce-8405-a2b4a658e4c4",
   "metadata": {},
   "outputs": [],
   "source": []
  }
 ],
 "metadata": {
  "kernelspec": {
   "display_name": "SageMath 9.0",
   "language": "sage",
   "name": "sagemath"
  },
  "language_info": {
   "codemirror_mode": {
    "name": "ipython",
    "version": 3
   },
   "file_extension": ".py",
   "mimetype": "text/x-python",
   "name": "python",
   "nbconvert_exporter": "python",
   "pygments_lexer": "ipython3",
   "version": "3.8.10"
  }
 },
 "nbformat": 4,
 "nbformat_minor": 5
}
