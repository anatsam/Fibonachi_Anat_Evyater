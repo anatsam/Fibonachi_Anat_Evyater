{
 "cells": [
  {
   "cell_type": "code",
   "execution_count": 1,
   "id": "5d8d803f",
   "metadata": {},
   "outputs": [],
   "source": [
    "import hashlib\n",
    "from sage.rings.finite_rings.integer_mod import IntegerMod_gmp\n",
    "from sage.rings.polynomial.polynomial_zmod_flint import Polynomial_zmod_flint\n",
    "#from math import log\n",
    "# DIFINES\n",
    "PRIME = 3*2**30+1\n",
    "FIELD = GF(PRIME)"
   ]
  },
  {
   "cell_type": "code",
   "execution_count": 2,
   "id": "f5107c5c",
   "metadata": {},
   "outputs": [],
   "source": [
    "F.<x> = PolynomialRing(GF(PRIME),'x')\n",
    "field_gen = FIELD.multiplicative_generator()\n",
    "gen8192 = field_gen ** ((PRIME-1)/8192)\n",
    "gen1024 = field_gen ** ((PRIME-1)/1024)"
   ]
  },
  {
   "cell_type": "code",
   "execution_count": 3,
   "id": "f24bf0ba",
   "metadata": {},
   "outputs": [],
   "source": [
    "Y_INDEX = 999\n",
    "a = 2 "
   ]
  },
  {
   "cell_type": "code",
   "execution_count": 4,
   "id": "b3e25c93",
   "metadata": {},
   "outputs": [],
   "source": [
    "def trace_calculator(a: int, trance_len: int) -> list:\n",
    "    trace = [1, a]\n",
    "    for i in range(2,trance_len):\n",
    "        trace.append((trace[i-1] + trace[i-2])%PRIME)\n",
    "    return trace"
   ]
  },
  {
   "cell_type": "code",
   "execution_count": 5,
   "id": "c5e76262",
   "metadata": {},
   "outputs": [],
   "source": [
    "def polynomial_evaluation (trace: list, generator: IntegerMod_gmp) -> Polynomial_zmod_flint:\n",
    "    points =[]\n",
    "    for i, y in enumerate (trace): \n",
    "        points.append((generator**i, y))\n",
    "    \n",
    "    R = FIELD['x']\n",
    "    polynomial = R.lagrange_polynomial(points)\n",
    "    print(type(polynomial))\n",
    "    return polynomial"
   ]
  },
  {
   "cell_type": "code",
   "execution_count": 6,
   "id": "f5eae00c",
   "metadata": {},
   "outputs": [
    {
     "name": "stdout",
     "output_type": "stream",
     "text": [
      "<class 'sage.rings.polynomial.polynomial_zmod_flint.Polynomial_zmod_flint'>\n"
     ]
    }
   ],
   "source": [
    "trance_len = 1024\n",
    "trace = trace_calculator(a=a,trance_len=trance_len)\n",
    "#print(trace)\n",
    "poly = polynomial_evaluation(trace=trace, generator=gen1024)\n",
    "# Sainaty check:\n",
    "assert poly(gen1024**Y_INDEX) == trace[Y_INDEX]\n",
    "Y=trace[Y_INDEX]"
   ]
  },
  {
   "cell_type": "code",
   "execution_count": 7,
   "id": "d7845ad7",
   "metadata": {},
   "outputs": [],
   "source": [
    "def compositon_polynomial(poly_list: list, random_co: dict):\n",
    "    cp=0*x\n",
    "    for poly in poly_list:\n",
    "        cp=cp + poly * random_co[poly]\n",
    "    return cp\n"
   ]
  },
  {
   "cell_type": "code",
   "execution_count": 8,
   "id": "39bbb13f",
   "metadata": {},
   "outputs": [],
   "source": [
    "def constrains_polynomials(poly: Polynomial_zmod_flint, trance_len: int, Y: IntegerMod_gmp, index_y: int , gen: IntegerMod_gmp):\n",
    "    n=trance_len\n",
    "    p1 = (poly-1)._divide_if_possible(x-gen**0)\n",
    "    p2 = (poly - Y)._divide_if_possible(x-gen**index_y)\n",
    "    \n",
    "    # (x-g**0)(x-g**1)...(x-g**(n-1)) = x**n-1\n",
    "    # \n",
    "    constrain_3_numer = poly(gen ** 2 * x) - poly(gen * x) - poly(x)\n",
    "    # constrain_3_numer should divide by all powers of gen: x=g**0, .... x= g**(n-3)\n",
    "    constrain_3_denom = (x**n-1)._divide_if_possible( (x-gen**(n-1)) * (x-gen**(n-2)) )\n",
    "    # p3 = (poly(gen ** 2 * x) - poly(gen * x) - poly(x))*(x-gen**(n-1)) \\\n",
    "    #     * (x-gen**(n-2))*(x-gen**(n-3))/(x**n-1)\n",
    "    p3 = constrain_3_numer._divide_if_possible(constrain_3_denom)\n",
    "    return (p1, p2, p3)"
   ]
  },
  {
   "cell_type": "code",
   "execution_count": 9,
   "id": "22c39368",
   "metadata": {},
   "outputs": [],
   "source": [
    "def merkle(points: list):\n",
    "    if len(points) <= 1:\n",
    "        return points[0]\n",
    "    squeezed_points = []\n",
    "    for i in range(len(points)//2):\n",
    "        temp_string = ''.join(str(points[i*2]))\n",
    "        temp_string = temp_string.join(str(points[i*2+1]))\n",
    "        squeezed_points.append(sha3(temp_string))\n",
    "    if len(points)%2 == 1:\n",
    "        squeezed_points.append(sha3(''.join(str(points[-1]))))\n",
    "    return merkle(squeezed_points)"
   ]
  },
  {
   "cell_type": "code",
   "execution_count": 10,
   "id": "ff8357b3",
   "metadata": {},
   "outputs": [],
   "source": [
    "def sha3(string: str):\n",
    "    byte=string.encode('ascii')\n",
    "    m = hashlib.sha3_256()\n",
    "    m.update(byte)\n",
    "    \n",
    "    return m.hexdigest()"
   ]
  },
  {
   "cell_type": "code",
   "execution_count": 11,
   "id": "6c12b3db",
   "metadata": {},
   "outputs": [],
   "source": [
    "def fiat_shamir_random(data: str, nonce = 0)-> int:\n",
    "    if nonce:\n",
    "        data = sha3(data + str(nonce))\n",
    "    rand = int.from_bytes(data.encode('ascii'), \"big\")\n",
    "    return rand%PRIME"
   ]
  },
  {
   "cell_type": "code",
   "execution_count": 12,
   "id": "65101441",
   "metadata": {},
   "outputs": [
    {
     "data": {
      "text/plain": [
       "'112bda191ff7087fc2d7fda84d713e02eb8cae32817df6a2e2a41224bf81616c'"
      ]
     },
     "execution_count": 12,
     "metadata": {},
     "output_type": "execute_result"
    }
   ],
   "source": [
    "points = trace_calculator(2, 15)\n",
    "merkle(points)"
   ]
  },
  {
   "cell_type": "code",
   "execution_count": 13,
   "id": "d588705c",
   "metadata": {},
   "outputs": [],
   "source": [
    "def reverse_bit(n, width = 10):\n",
    "    n_binary = '{:0{width}b}'.format(n, width=width)\n",
    "    return int(n_binary[::-1], 2)"
   ]
  },
  {
   "cell_type": "code",
   "execution_count": 14,
   "id": "de9ceacf",
   "metadata": {},
   "outputs": [],
   "source": [
    "def low_degree_extension(poly: Polynomial_zmod_flint, trance_len: int, group_gen: IntegerMod_gmp, field_gen: IntegerMod_gmp):\n",
    "    coset_set = [field_gen*(group_gen**i) for i in range (trance_len)]\n",
    "    new_coset_set = [coset_set[reverse_bit(i, log(trance_len,2))] for i in range (trance_len)]\n",
    "    return [(c, poly(c)) for c in new_coset_set]\n"
   ]
  },
  {
   "cell_type": "code",
   "execution_count": 15,
   "id": "7bbfcbbf",
   "metadata": {},
   "outputs": [],
   "source": [
    "def domain_extension( trace_len: int, group_gen: IntegerMod_gmp, field_gen: IntegerMod_gmp):\n",
    "    coset_set = [field_gen*(group_gen**i) for i in range (trace_len)]\n",
    "    new_coset_set = [coset_set[reverse_bit(i, log(trace_len,2))] for i in range (trace_len)]\n",
    "    return new_coset_set"
   ]
  },
  {
   "cell_type": "code",
   "execution_count": 16,
   "id": "5e2af96a",
   "metadata": {},
   "outputs": [
    {
     "data": {
      "text/plain": [
       "[5,\n",
       " 2833855974,\n",
       " 2623023147,\n",
       " 2540449978,\n",
       " 1056415280,\n",
       " 1800233432,\n",
       " 380960369,\n",
       " 671626609,\n",
       " 2229935889,\n",
       " 2457247830,\n",
       " 19433037,\n",
       " 3171820980,\n",
       " 2439017906,\n",
       " 13901640,\n",
       " 820071082,\n",
       " 565703797]"
      ]
     },
     "execution_count": 16,
     "metadata": {},
     "output_type": "execute_result"
    }
   ],
   "source": [
    "domain_extension(trace_len=16, group_gen=gen8192, field_gen=field_gen)"
   ]
  },
  {
   "cell_type": "code",
   "execution_count": 17,
   "id": "d24188e9",
   "metadata": {},
   "outputs": [],
   "source": [
    "def fri(poly: Polynomial_zmod_flint, domain: list , degree = 1024, queries = 8) -> dict:\n",
    "    \n",
    "    domain_length = len(domain)\n",
    "    index_to_sample = [0]*queries\n",
    "    proof = {} #{stage: [merkle root, [pathes], random number for naxt-stage]}\n",
    "    for stage in range (log(degree, 2)):\n",
    "        \n",
    "        pathes = [] # [(value, path),...]\n",
    "        merkel_root, merkle_layer = commit(poly, domain)\n",
    "        #first stage: evaluation above the whole domain and creation of merkle tree\n",
    "        if stage == 0: #qurie at queries/2 random indexes\n",
    "            for i in range(0,queries,2):\n",
    "                index_to_sample[i] = fiat_shamir_random(merkel_root,i)%domain_length\n",
    "                index_to_sample[i+1] = index_to_sample[i]+(-1)**(index_to_sample[i]%2)\n",
    "        else: #in every other stage - brings the indexes of the negative element in the domain\n",
    "            new_index_to_sample = []\n",
    "            for index in index_to_sample:\n",
    "                if index%2==0:\n",
    "                    index /= 2\n",
    "                    new_index_to_sample.append(index + (-1)**(index[i]%2))\n",
    "            index_to_sample = new_index_to_sample\n",
    "        for index in index_to_sample:       \n",
    "            value_at_index, path = evaluate_points_and_path(merkle_layer, index)\n",
    "            pathes.append((value_at_index, path))\n",
    "        #second stage: takes n number randoms, and claculate n/2 time P(x_i) 1<i<n/2 + merkle path for them\n",
    "\n",
    "        rand = fiat_shamir_random(merkel_root)\n",
    "        proof[stage]= [merkel_root ,pathes, rand]\n",
    "        poly, domain = fri_next_layer(poly=poly, domain=domain, rand = rand)\n",
    "        #third stage: calculates FRI next Layer\n",
    "    \n",
    "    return proof"
   ]
  },
  {
   "cell_type": "code",
   "execution_count": 18,
   "id": "2d8d99e2",
   "metadata": {},
   "outputs": [],
   "source": [
    "def commit(poly: Polynomial_zmod_flint, domain: list):\n",
    "    #first stage: evaluation above the whole domain and creation of merkle tree\n",
    "    points=[(d, poly(d)) for d in domain]\n",
    "    tree = MerkeTree(domain=points)\n",
    "    return (tree.root, tree)"
   ]
  },
  {
   "cell_type": "code",
   "execution_count": 19,
   "id": "8c5148fa",
   "metadata": {},
   "outputs": [],
   "source": [
    "def fri_next_layer(poly: Polynomial_zmod_flint, domain: list , rand: int):\n",
    "    #calculate the polynomial and the domain of the next stage\n",
    "    even = 0*x\n",
    "    odd = 0*x\n",
    "    for degree,coef in poly.dict().items():\n",
    "        if degree%2==0:\n",
    "            even = even + coef*x**(degree//2)\n",
    "        else:\n",
    "            odd = odd + coef*x**(degree//2)\n",
    "    next_layer = even + rand*odd\n",
    "    new_domain = []\n",
    "    for i in range(0,len(domain),2):\n",
    "        assert domain[i]**2 == domain[i+1]**2\n",
    "        new_domain.append(domain[i]**2)\n",
    "    return next_layer, new_domain"
   ]
  },
  {
   "cell_type": "code",
   "execution_count": 23,
   "id": "bd80095a",
   "metadata": {},
   "outputs": [],
   "source": [
    "def evaluate_points_and_path(tree: MerkeTree, index: int):\n",
    "    return tree.get_value_and_path_by_index(index=index)"
   ]
  },
  {
   "cell_type": "code",
   "execution_count": 21,
   "id": "bfdf9a27",
   "metadata": {},
   "outputs": [
    {
     "data": {
      "text/plain": [
       "3221225472"
      ]
     },
     "execution_count": 21,
     "metadata": {},
     "output_type": "execute_result"
    }
   ],
   "source": [
    "trace = []\n",
    "domain = []\n",
    "for i in range (1024):\n",
    "    trace.append(gen1024**i)\n",
    "for i in range (1024):\n",
    "    domain.append(trace[reverse_bit(i, 10)])\n",
    "domain[2]**2"
   ]
  },
  {
   "cell_type": "code",
   "execution_count": 24,
   "id": "24ab1887",
   "metadata": {},
   "outputs": [],
   "source": [
    "def hash_tow_elements(element1, element2):\n",
    "        temp_string = ''.join(str(element1))\n",
    "        temp_string = temp_string.join(str(element2))\n",
    "        return(sha3(temp_string))\n",
    "\n",
    "def hash_one_elements(element):\n",
    "    return(sha3(str(element)))\n",
    "\n",
    "\n",
    "class MerkeTree():\n",
    "    \n",
    "    tree: dict = {}\n",
    "    domain_size: int\n",
    "    \n",
    "    def __init__(self, domain:list):\n",
    "        self.tree={}\n",
    "        self.domain_size = len(domain)\n",
    "        # Calculate the hashes of each point in the domain.\n",
    "        # Inset the leavs and their hashes to the tree. \n",
    "        domain_hashed = []\n",
    "        for element in domain:\n",
    "            hashed_element = hash_one_elements(element)\n",
    "            self.tree[hashed_element] = element\n",
    "            domain_hashed.append(hashed_element)\n",
    "\n",
    "        # Now all the leavs are in the tree.\n",
    "        # Construct the hash piramid.\n",
    "        self.recursive_merkle(nodes_layer=domain_hashed)\n",
    "        print(f\"MerkeTree is complete. {self.domain_size=}\")\n",
    "\n",
    "    def recursive_merkle(self, nodes_layer: list):\n",
    "        if len(nodes_layer) <= 1:\n",
    "            #This is the root of the merkle tree.\n",
    "            self.tree['root']=nodes_layer[0]\n",
    "            return\n",
    "\n",
    "        assert len(nodes_layer)%2 ==0\n",
    "        \n",
    "        # Create a new layer of nodes in the tree\n",
    "        new_nodes_layre = []\n",
    "\n",
    "        # Create a new node based on the two node beneath it.\n",
    "        for i in range(len(nodes_layer)/2):\n",
    "            hash_element = hash_tow_elements(nodes_layer[i*2], nodes_layer[i*2+1])\n",
    "            self.tree[hash_element] = (nodes_layer[i*2], nodes_layer[i*2+1])\n",
    "            new_nodes_layre.append(hash_element)\n",
    "            \n",
    "        return self.recursive_merkle(nodes_layer = new_nodes_layre)\n",
    "    \n",
    "    @property\n",
    "    def root(self):\n",
    "        return self.tree['root']\n",
    "    \n",
    "    def get_value_and_path_by_index(self, index: int):\n",
    "        \n",
    "        index_size = int(log(self.domain_size, 2))\n",
    "        key = self.tree['root']\n",
    "        \n",
    "        # Shift the index from an int to a binary list.\n",
    "        index_as_str = format(index, f'#0{index_size+2}b')\n",
    "\n",
    "        # Shift from '0b1110' to '1110'\n",
    "        index_as_str = index_as_str[2:] \n",
    "\n",
    "        path = {}\n",
    "        while(index_as_str):\n",
    "            value = self.tree[key]\n",
    "            path[key] = value\n",
    "            direction_bit = int(index_as_str[0])\n",
    "            key = value[direction_bit]\n",
    "            index_as_str = index_as_str[1:]\n",
    "        \n",
    "        #Now the key is the hash of the required index. Reauired value = tree[key] = (coset, CP[coset])\n",
    "        path[key] = self.tree[key]\n",
    "        return(path[key], path)\n"
   ]
  },
  {
   "cell_type": "code",
   "execution_count": 25,
   "id": "d23d403b",
   "metadata": {},
   "outputs": [
    {
     "name": "stdout",
     "output_type": "stream",
     "text": [
      "MerkeTree is complete. self.domain_size=16\n"
     ]
    }
   ],
   "source": [
    "#domain = domain_extension(poly=CP, trance_len=16, group_gen=gen8192, field_gen=field_gen)\n",
    "domain = domain_extension(trace_len=16, group_gen=gen8192, field_gen=field_gen)\n",
    "root, merke_tree = commit(poly=copy, domain=domain)\n",
    "#print(merke_tree)"
   ]
  },
  {
   "cell_type": "code",
   "execution_count": 28,
   "id": "613194ce",
   "metadata": {},
   "outputs": [],
   "source": [
    "def prove(a: int, trace_length: int, destination, queries: int = 2):\n",
    "    trace = trace_calculator(a,trace_length)\n",
    "    Y = trace[destination]\n",
    "    poly = polynomial_evaluation(trace, gen1024)\n",
    "    p1, p2, p3 = constrains_polynomials(poly, len(trace), Y, destination, gen1024) \n",
    "    domain = domain_extension(len(trace)*queries , gen8192, field_gen)\n",
    "    proof_stage_one = {} #{name:{'root' = root, 'value' = value,'path' = path}}\n",
    "    random_co = {}\n",
    "    merkle_p = {}\n",
    "    root_p = {}\n",
    "    value_at_index= {}\n",
    "    path = {}\n",
    "    for p in [p1, p2, p3]:\n",
    "        root_p[p], merkle_p[p] = commit(p, domain)\n",
    "        random_co[p] = fiat_shamir_random(root_p[p])\n",
    "        \n",
    "    cp = compositon_polynomial([p1, p2, p3], random_co)\n",
    "    root_p[cp], merkle_p[cp] = commit(cp, domain)\n",
    "    index = fiat_shamir_random(root_p[cp])%len(domain)\n",
    "    polynomials = [p1, p2, p3, cp]\n",
    "    names = ['p1', 'p2', 'p3', 'cp']\n",
    "    for p , name in zip(polynomials, names):\n",
    "        value_at_index[p], path[p] = evaluate_points_and_path(merkle_p[p], index)\n",
    "        internal_proof_dict={}\n",
    "        internal_proof_dict['root'] = root_p[p]\n",
    "        internal_proof_dict['value'] = value_at_index[p]\n",
    "        internal_proof_dict['path'] = path[p]\n",
    "        proof_stage_one[name] = internal_proof_dict\n",
    "    \n",
    "#   return proof_stage_one\n",
    "    proof_stage_two = fri(cp, domain , degree = 1024, queries = 8)\n",
    "    #{stage: [merkle root, [pathes], random number for naxt-stage]}\n",
    "    \n",
    "    return proof_stage_one, proof_stage_two"
   ]
  },
  {
   "cell_type": "code",
   "execution_count": 29,
   "id": "c61d9b18",
   "metadata": {},
   "outputs": [
    {
     "name": "stdout",
     "output_type": "stream",
     "text": [
      "<class 'sage.rings.polynomial.polynomial_zmod_flint.Polynomial_zmod_flint'>\n",
      "MerkeTree is complete. self.domain_size=2048\n",
      "MerkeTree is complete. self.domain_size=2048\n",
      "MerkeTree is complete. self.domain_size=2048\n",
      "MerkeTree is complete. self.domain_size=2048\n"
     ]
    },
    {
     "data": {
      "text/plain": [
       "{'root': '2412bd682af42070ff19b6c94272d2d3c83af59a128e4ba7d96e7e0bb11f4238',\n",
       " 'value': (2577411424, 2342340732),\n",
       " 'path': {'2412bd682af42070ff19b6c94272d2d3c83af59a128e4ba7d96e7e0bb11f4238': ('1ecde53f42adef01b055a48d6c2e2e42068caa5edf1bae531a509c7f18a57683',\n",
       "   '5ab2f76e96a8ca819c0c9bc1e1259ce5931b9cc9aecc8d19fe3c59eeca222697'),\n",
       "  '1ecde53f42adef01b055a48d6c2e2e42068caa5edf1bae531a509c7f18a57683': ('542770b7ee283e2bfc1944047c8e4b9603d513296305b414ff63fc08481ae03f',\n",
       "   'ac6ae7351b0024eb97264fbc6178d584180b53e26c61e5fc8d3349d7562ba5ff'),\n",
       "  '542770b7ee283e2bfc1944047c8e4b9603d513296305b414ff63fc08481ae03f': ('4c48234554f02a78981f349fb5fb173c2a6989e5d1396b1dec29d8bd06a15ddf',\n",
       "   '2ece512c7a6ed0f8d27d60c5685be4c0b1a0bbc97ef401c3cf69ba7bced6e28d'),\n",
       "  '2ece512c7a6ed0f8d27d60c5685be4c0b1a0bbc97ef401c3cf69ba7bced6e28d': ('bc175cd62e0347361dd4e489da62e8601810795adade89d516552c950fd9fc55',\n",
       "   'ecb927236e4f3d6ad5cf271b0451b4c31f156b04dffd6eb4757f045ff973f2bb'),\n",
       "  'bc175cd62e0347361dd4e489da62e8601810795adade89d516552c950fd9fc55': ('cd01f3a5dc28d4432f24547991f462568cc6c7495ce35dda2ea29d0f3f3287fd',\n",
       "   '7edb65f360ac10cb27a84578db470e11a2a8519d68638b690f2e3a33a099d6aa'),\n",
       "  '7edb65f360ac10cb27a84578db470e11a2a8519d68638b690f2e3a33a099d6aa': ('01be4bda44d449197afc7ad860060729959cce21aed90b96f4c9449e21e9c5c3',\n",
       "   'ff812a6e0edbb2c2e0204447012b57a137f05c26859ea3386106c0057f55b9aa'),\n",
       "  'ff812a6e0edbb2c2e0204447012b57a137f05c26859ea3386106c0057f55b9aa': ('83645f7cc2424698bf469f1e761da39d7160c7eb235db91ee6f2b3cb2ceeb82c',\n",
       "   '2a408db7adba9c5b572afb1d987562184f44d784673898303b9f03aabc26367b'),\n",
       "  '83645f7cc2424698bf469f1e761da39d7160c7eb235db91ee6f2b3cb2ceeb82c': ('e27a573531cbdf4430afdaa0f0daf33330ad53a9d724d73b7eab89d1efb4fe29',\n",
       "   'a6a1394e57f4df6ad1d12e55c086c0769fdd34c7dc2d456deb039873df475847'),\n",
       "  'a6a1394e57f4df6ad1d12e55c086c0769fdd34c7dc2d456deb039873df475847': ('bd5b7374b3ec0e78d96c4c143fb73d226f7487b353bc08340b7c547bd81f7607',\n",
       "   '434a8342354518b47a9f1af3f597328a78d2a131bb57aeea7b81099ed1b17cda'),\n",
       "  'bd5b7374b3ec0e78d96c4c143fb73d226f7487b353bc08340b7c547bd81f7607': ('cdcf56776955d3dd3c09948e38cba18dc555ad558b621b52a35970eff78f6aed',\n",
       "   '4532a688918f65133bbea5e4b4dc591b78ff4ee49bcb941043cd39a852bceaca'),\n",
       "  'cdcf56776955d3dd3c09948e38cba18dc555ad558b621b52a35970eff78f6aed': ('0747810144ff0301d372e664a796d0918a935172ed0c2e5ae2b19cbbb86a60bb',\n",
       "   '9656104f2f32d2a896ea02ea4dcfb43505990c90620baa59d4aa5dcb017b44bc'),\n",
       "  '0747810144ff0301d372e664a796d0918a935172ed0c2e5ae2b19cbbb86a60bb': (2577411424,\n",
       "   2342340732)}}"
      ]
     },
     "execution_count": 29,
     "metadata": {},
     "output_type": "execute_result"
    }
   ],
   "source": [
    "proof = prove(2, 1024, 1000)\n",
    "proof['cp']"
   ]
  },
  {
   "cell_type": "code",
   "execution_count": 30,
   "id": "66000ca4-1c99-402e-b9fe-d19491b7b052",
   "metadata": {},
   "outputs": [],
   "source": [
    "class Verifier_first_stage():\n",
    "    \n",
    "    def __init__(self):\n",
    "        \"\"\"\n",
    "        \"\"\"\n",
    "    \n",
    "    def verify(self, proof_stage_one: dict, domian_size: int):\n",
    "            index = self.get_index(proof_stage_one=proof_stage_one, domian_size=domian_size)\n",
    "            self.verifiy_path_and_values(proof_stage_one=proof_stage_one, index=index, domian_size=domian_size)\n",
    "            coeffs = self.get_coefficients(proof_stage_one=proof_stage_one)\n",
    "            self.validate_cp_value_in_index(proof_stage_one=proof_stage_one, coeffs=coeffs)\n",
    "\n",
    "    def verifiy_path_and_values(self, proof_stage_one: dict, index: int, domian_size: int):\n",
    "        names = ['p1', 'p2', 'p3', 'cp']\n",
    "        for name in names:\n",
    "            internal_proof_dict = proof_stage_one[name]\n",
    "            root = internal_proof_dict['root']\n",
    "            value_at_index = internal_proof_dict['value']\n",
    "            path = internal_proof_dict['path']\n",
    "            self.verify_path_by_index(\n",
    "                root=root, expected_value=value_at_index, index=index, domain_size=domian_size, path=path\n",
    "            )\n",
    "            \n",
    "    def get_index(self, proof_stage_one: dict, domian_size: int):\n",
    "        #print(f\"{proof_stage_one['cp']=}\")\n",
    "        cp_tree_root = proof_stage_one['cp']['root']\n",
    "        return (fiat_shamir_random(cp_tree_root)%domian_size)\n",
    "    \n",
    "    def get_coefficients(self, proof_stage_one:dict) -> dict:\n",
    "        names = ['p1', 'p2', 'p3']\n",
    "        return {name:fiat_shamir_random(proof_stage_one[name]['root']) for name in names}\n",
    "    \n",
    "    def validate_cp_value_in_index(self, proof_stage_one: dict, coeffs: dict):\n",
    "        names = ['p1', 'p2', 'p3']\n",
    "        expected_value = 0\n",
    "        for name in names:\n",
    "            expected_value_int = ((proof_stage_one[name]['value'])[1]*coeffs[name])\n",
    "            expected_value += expected_value_int%PRIME            \n",
    "        assert proof_stage_one['cp']['value'][1] == expected_value\n",
    "    \n",
    "    def verify_path_by_index(self, root: str, expected_value: tuple, index: int, domain_size: int, path: dict):\n",
    "\n",
    "        index_size = int(log(domain_size, 2))\n",
    "        index_as_str = format(index, f'#0{index_size+2}b')\n",
    "        # shift from '0b1110' to '1110'\n",
    "        index_as_str = index_as_str[2:] \n",
    "        key=root\n",
    "        while(index_as_str):\n",
    "            value = path[key]\n",
    "\n",
    "            #Verify the hash:\n",
    "            assert hash_tow_elements(value[0], value[1]) == key\n",
    "\n",
    "            direction_bit = int(index_as_str[0])\n",
    "            key = value[direction_bit]\n",
    "            index_as_str = index_as_str[1:]\n",
    "\n",
    "        #Now the key is the hash of the required index. Reauired value = tree[key] = (coset, CP[coset])\n",
    "        value = path[key]\n",
    "        assert hash_one_elements(value) == key\n",
    "        assert value == expected_value\n",
    "    "
   ]
  },
  {
   "cell_type": "code",
   "execution_count": 31,
   "id": "9c921517-6242-4a36-9458-fcb925b401a6",
   "metadata": {},
   "outputs": [],
   "source": [
    "verifier1 = Verifier_first_stage()\n",
    "verifier1.verify(proof_stage_one=proof, domian_size=2048)"
   ]
  },
  {
   "cell_type": "code",
   "execution_count": null,
   "id": "8f7a9ded-68e1-4a90-82b5-d57dd2219c17",
   "metadata": {},
   "outputs": [],
   "source": []
  }
 ],
 "metadata": {
  "kernelspec": {
   "display_name": "SageMath 9.0",
   "language": "sage",
   "name": "sagemath"
  },
  "language_info": {
   "codemirror_mode": {
    "name": "ipython",
    "version": 3
   },
   "file_extension": ".py",
   "mimetype": "text/x-python",
   "name": "python",
   "nbconvert_exporter": "python",
   "pygments_lexer": "ipython3",
   "version": "3.8.10"
  }
 },
 "nbformat": 4,
 "nbformat_minor": 5
}
