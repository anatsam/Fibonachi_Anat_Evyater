{
 "cells": [
  {
   "cell_type": "code",
   "execution_count": 218,
   "metadata": {},
   "outputs": [],
   "source": [
    "import hashlib\n",
    "\n",
    "PRIME = 3*2**30+1\n",
    "FIELD = GF(PRIME)\n",
    "F.<x> = PolynomialRing(GF(PRIME),'x')\n",
    "field_gen = FIELD.multiplicative_generator()\n",
    "gen8192 = field_gen ** ((PRIME-1)/8192)\n",
    "gen1024 = gen8192** ((PRIME-1)/1024)\n",
    "Y_INDEX = 6"
   ]
  },
  {
   "cell_type": "code",
   "execution_count": 81,
   "metadata": {},
   "outputs": [],
   "source": [
    "def traceCalculator(a: int, trance_len: int):\n",
    "    trace = [1, a]\n",
    "    for i in range(2,trance_len):\n",
    "        trace.append((trace[i-1] + trace[i-2])%PRIME)\n",
    "    return trace"
   ]
  },
  {
   "cell_type": "code",
   "execution_count": 82,
   "metadata": {},
   "outputs": [],
   "source": [
    "def polynomialEvaluation (trace, generator):\n",
    "    points =[]\n",
    "    for i, y in enumerate (trace): \n",
    "        points.append((generator**i, y))\n",
    "    \n",
    "    R = FIELD['x']\n",
    "    polynomial = R.lagrange_polynomial(points)\n",
    "    return polynomial"
   ]
  },
  {
   "cell_type": "code",
   "execution_count": 83,
   "metadata": {},
   "outputs": [],
   "source": [
    "a=2\n",
    "trance_len = 8\n",
    "trace = traceCalculator(a=a,trance_len=trance_len)\n",
    "#print(trace)\n",
    "poly = polynomialEvaluation(trace=trace, generator=gen1024)\n",
    "# Sainaty check:\n",
    "assert poly(gen1024**Y_INDEX) == trace[Y_INDEX]\n",
    "Y=trace[Y_INDEX]"
   ]
  },
  {
   "cell_type": "code",
   "execution_count": 84,
   "metadata": {},
   "outputs": [],
   "source": [
    "def compositonPolynomial(poly, trance_len, Y, index_y, gen):\n",
    "    n=trance_len\n",
    "    p1 = (poly-1)/(x-gen**0)\n",
    "    co1 = FiatShamirRandom(p1)\n",
    "    p2 = (poly - Y)/(x-gen**index_y)\n",
    "    co2 = FiatShamirRandom(data=p2)\n",
    "    \n",
    "    # (x-g**0)(x-g**1)...(x-g**(n-1)) = x**n-1\n",
    "    # \n",
    "    constrain_3_numer = poly(gen ** 2 * x) - poly(gen * x) - poly(x)\n",
    "    # constrain_3_numer should divide by all powers of gen: x=g**0, .... x= g**(n-3)\n",
    "    constrain_3_denom = (x**n-1) / ( (x-gen**(n-1)) * (x-gen**(n-2)) )\n",
    "    # p3 = (poly(gen ** 2 * x) - poly(gen * x) - poly(x))*(x-gen**(n-1)) \\\n",
    "    #     * (x-gen**(n-2))*(x-gen**(n-3))/(x**n-1)\n",
    "    p3 = constrain_3_numer / constrain_3_denom\n",
    "    co3 = FiatShamirRandom(p3)\n",
    "    return p1*co1 + p2+co2 + p3*co3"
   ]
  },
  {
   "cell_type": "code",
   "execution_count": 85,
   "metadata": {},
   "outputs": [],
   "source": [
    "def merkle(points: list):\n",
    "    if len(points) <= 1:\n",
    "        return points[0]\n",
    "    squeezed_points = []\n",
    "    for i in range(len(points)//2):\n",
    "        temp_string = ''.join(str(points[i*2]))\n",
    "        temp_string = temp_string.join(str(points[i*2+1]))\n",
    "        squeezed_points.append(sha3(temp_string))\n",
    "    if len(points)%2 == 1:\n",
    "        squeezed_points.append(sha3(''.join(str(points[-1]))))\n",
    "    return merkle(squeezed_points)"
   ]
  },
  {
   "cell_type": "code",
   "execution_count": 86,
   "metadata": {},
   "outputs": [],
   "source": [
    "def sha3(string):\n",
    "    byte=string.encode('ascii')\n",
    "    m = hashlib.sha3_256()\n",
    "    m.update(byte)\n",
    "    \n",
    "    return m.hexdigest()"
   ]
  },
  {
   "cell_type": "code",
   "execution_count": 87,
   "metadata": {},
   "outputs": [],
   "source": [
    "def FiatShamirRandom(data: str)-> int:\n",
    "    rand = int.from_bytes(data.encode('ascii'), \"big\") \n",
    "    return rand%PRIME"
   ]
  },
  {
   "cell_type": "code",
   "execution_count": 93,
   "metadata": {},
   "outputs": [
    {
     "data": {
      "text/plain": [
       "'112bda191ff7087fc2d7fda84d713e02eb8cae32817df6a2e2a41224bf81616c'"
      ]
     },
     "execution_count": 93,
     "metadata": {},
     "output_type": "execute_result"
    }
   ],
   "source": [
    "points = traceCalculator(2, 15)\n",
    "merkle(points)"
   ]
  },
  {
   "cell_type": "code",
   "execution_count": 94,
   "metadata": {},
   "outputs": [],
   "source": [
    "def lowDegreeExtension(poly, trance_len, group_gen, field_gen):\n",
    "    coset_set = [field_gen*(group_gen**i) for i in range (trance_len)]\n",
    "    return [(c, poly(c)) for c in coset_set]"
   ]
  },
  {
   "cell_type": "code",
   "execution_count": 95,
   "metadata": {},
   "outputs": [
    {
     "data": {
      "text/plain": [
       "[(5, 1914300601),\n",
       " (2229935889, 2863431288),\n",
       " (1056415280, 602501715),\n",
       " (2439017906, 588858018),\n",
       " (2623023147, 646562388),\n",
       " (19433037, 2451031545),\n",
       " (380960369, 3214091500),\n",
       " (820071082, 2816596337),\n",
       " (2833855974, 1713287674),\n",
       " (2457247830, 232273036),\n",
       " (1800233432, 2547711649),\n",
       " (13901640, 2822861755),\n",
       " (2540449978, 1077162771),\n",
       " (3171820980, 2173830760),\n",
       " (671626609, 1459861403),\n",
       " (565703797, 1502219098)]"
      ]
     },
     "execution_count": 95,
     "metadata": {},
     "output_type": "execute_result"
    }
   ],
   "source": [
    "lowDegreeExtension(poly=p, trance_len=16, group_gen=gen8192, field_gen=field_gen)"
   ]
  },
  {
   "cell_type": "code",
   "execution_count": 203,
   "metadata": {},
   "outputs": [],
   "source": [
    "def FRI(poly, domain):\n",
    "    '''if poly.degree() <1:\n",
    "        poly(domain[0])'''\n",
    "    merkel_root, points = commit(poly, domain)\n",
    "    #first stage: evaluation above the whole domain and creation of merkle tree\n",
    "    \n",
    "    evaluate_Points_and_path()\n",
    "    #second stage: takes n number randoms, and claculate n/2 time P(x_i) 1<i<n/2 + merkle path for them\n",
    "    \n",
    "    new_poly, new_domain = FRI_next_layer(poly, domain)\n",
    "    #third stage: takes the hash of the merkle root (using fiat-shamir) as field element\n",
    "    #and calculate FRI next Layer\n",
    "    \n",
    "    return c.join(FRI(new_poly, new_domain))"
   ]
  },
  {
   "cell_type": "code",
   "execution_count": 204,
   "metadata": {},
   "outputs": [],
   "source": [
    "def commit(poly, domain):\n",
    "    pass"
   ]
  },
  {
   "cell_type": "code",
   "execution_count": 205,
   "metadata": {},
   "outputs": [],
   "source": [
    "def FRI_next_layer(poly, domain):\n",
    "    #calculate the polynomial and the domain of the next stage\n",
    "    pass"
   ]
  },
  {
   "cell_type": "code",
   "execution_count": 206,
   "metadata": {},
   "outputs": [],
   "source": [
    "def evaluate_Points_and_path():\n",
    "    pass"
   ]
  },
  {
   "cell_type": "code",
   "execution_count": null,
   "metadata": {},
   "outputs": [],
   "source": []
  }
 ],
 "metadata": {
  "kernelspec": {
   "display_name": "SageMath 9.0",
   "language": "sage",
   "name": "sagemath"
  },
  "language_info": {
   "codemirror_mode": {
    "name": "ipython",
    "version": 3
   },
   "file_extension": ".py",
   "mimetype": "text/x-python",
   "name": "python",
   "nbconvert_exporter": "python",
   "pygments_lexer": "ipython3",
   "version": "3.8.10"
  }
 },
 "nbformat": 4,
 "nbformat_minor": 5
}
