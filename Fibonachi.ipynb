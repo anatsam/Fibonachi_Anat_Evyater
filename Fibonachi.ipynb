{
 "cells": [
  {
   "cell_type": "code",
   "execution_count": 26,
   "metadata": {},
   "outputs": [],
   "source": [
    "import hashlib\n",
    "from sage.rings.finite_rings.integer_mod import IntegerMod_gmp\n",
    "from sage.rings.polynomial.polynomial_zmod_flint import Polynomial_zmod_flint\n",
    "#from math import log\n",
    "# DIFINES\n",
    "PRIME = 3*2**30+1\n",
    "FIELD = GF(PRIME)"
   ]
  },
  {
   "cell_type": "code",
   "execution_count": 27,
   "metadata": {},
   "outputs": [],
   "source": [
    "F.<x> = PolynomialRing(GF(PRIME),'x')\n",
    "field_gen = FIELD.multiplicative_generator()\n",
    "gen8192 = field_gen ** ((PRIME-1)/8192)\n",
    "gen1024 = field_gen ** ((PRIME-1)/1024)"
   ]
  },
  {
   "cell_type": "code",
   "execution_count": 28,
   "metadata": {},
   "outputs": [],
   "source": [
    "Y_INDEX = 999\n",
    "a = 2 "
   ]
  },
  {
   "cell_type": "code",
   "execution_count": 29,
   "metadata": {},
   "outputs": [],
   "source": [
    "def trace_calculator(a: int, trance_len: int) -> list:\n",
    "    trace = [1, a]\n",
    "    for i in range(2,trance_len):\n",
    "        trace.append((trace[i-1] + trace[i-2])%PRIME)\n",
    "    return trace"
   ]
  },
  {
   "cell_type": "code",
   "execution_count": 54,
   "metadata": {},
   "outputs": [],
   "source": [
    "def polynomial_evaluation (trace: list, generator: IntegerMod_gmp) -> Polynomial_zmod_flint:\n",
    "    points =[]\n",
    "    for i, y in enumerate (trace): \n",
    "        points.append((generator**i, y))\n",
    "    \n",
    "    R = FIELD['x']\n",
    "    polynomial = R.lagrange_polynomial(points)\n",
    "    return polynomial"
   ]
  },
  {
   "cell_type": "code",
   "execution_count": 31,
   "metadata": {},
   "outputs": [
    {
     "name": "stdout",
     "output_type": "stream",
     "text": [
      "<class 'sage.rings.polynomial.polynomial_zmod_flint.Polynomial_zmod_flint'>\n"
     ]
    }
   ],
   "source": [
    "trance_len = 1024\n",
    "trace = trace_calculator(a=a,trance_len=trance_len)\n",
    "#print(trace)\n",
    "poly = polynomial_evaluation(trace=trace, generator=gen1024)\n",
    "# Sainaty check:\n",
    "assert poly(gen1024**Y_INDEX) == trace[Y_INDEX]\n",
    "Y=trace[Y_INDEX]"
   ]
  },
  {
   "cell_type": "code",
   "execution_count": 32,
   "metadata": {},
   "outputs": [],
   "source": [
    "def compositon_polynomial(poly_list: list, random_co: dict):\n",
    "    cp=0*x\n",
    "    for poly in poly_list:\n",
    "        cp=cp + poly * random_co[poly]\n",
    "    return cp\n"
   ]
  },
  {
   "cell_type": "code",
   "execution_count": 33,
   "metadata": {},
   "outputs": [],
   "source": [
    "def constrains_polynomials(poly: Polynomial_zmod_flint, trance_len: int, Y: IntegerMod_gmp, index_y: int , gen: IntegerMod_gmp):\n",
    "    n=trance_len\n",
    "    p1 = (poly-1)._divide_if_possible(x-gen**0)\n",
    "    p2 = (poly - Y)._divide_if_possible(x-gen**index_y)\n",
    "    \n",
    "    # (x-g**0)(x-g**1)...(x-g**(n-1)) = x**n-1\n",
    "    # \n",
    "    constrain_3_numer = poly(gen ** 2 * x) - poly(gen * x) - poly(x)\n",
    "    # constrain_3_numer should divide by all powers of gen: x=g**0, .... x= g**(n-3)\n",
    "    constrain_3_denom = (x**n-1)._divide_if_possible( (x-gen**(n-1)) * (x-gen**(n-2)) )\n",
    "    # p3 = (poly(gen ** 2 * x) - poly(gen * x) - poly(x))*(x-gen**(n-1)) \\\n",
    "    #     * (x-gen**(n-2))*(x-gen**(n-3))/(x**n-1)\n",
    "    p3 = constrain_3_numer._divide_if_possible(constrain_3_denom)\n",
    "    return (p1, p2, p3)"
   ]
  },
  {
   "cell_type": "code",
   "execution_count": 34,
   "metadata": {},
   "outputs": [],
   "source": [
    "def merkle(points: list):\n",
    "    if len(points) <= 1:\n",
    "        return points[0]\n",
    "    squeezed_points = []\n",
    "    for i in range(len(points)//2):\n",
    "        temp_string = ''.join(str(points[i*2]))\n",
    "        temp_string = temp_string.join(str(points[i*2+1]))\n",
    "        squeezed_points.append(sha3(temp_string))\n",
    "    if len(points)%2 == 1:\n",
    "        squeezed_points.append(sha3(''.join(str(points[-1]))))\n",
    "    return merkle(squeezed_points)"
   ]
  },
  {
   "cell_type": "code",
   "execution_count": 35,
   "metadata": {},
   "outputs": [],
   "source": [
    "def sha3(string: str):\n",
    "    byte=string.encode('ascii')\n",
    "    m = hashlib.sha3_256()\n",
    "    m.update(byte)\n",
    "    \n",
    "    return m.hexdigest()"
   ]
  },
  {
   "cell_type": "code",
   "execution_count": 36,
   "metadata": {},
   "outputs": [],
   "source": [
    "def fiat_shamir_random(data: str, nonce = 0)-> int:\n",
    "    if nonce:\n",
    "        data = sha3(data + str(nonce))\n",
    "    rand = int.from_bytes(data.encode('ascii'), \"big\")\n",
    "    return rand%PRIME"
   ]
  },
  {
   "cell_type": "code",
   "execution_count": 37,
   "metadata": {},
   "outputs": [
    {
     "data": {
      "text/plain": [
       "'112bda191ff7087fc2d7fda84d713e02eb8cae32817df6a2e2a41224bf81616c'"
      ]
     },
     "execution_count": 37,
     "metadata": {},
     "output_type": "execute_result"
    }
   ],
   "source": [
    "points = trace_calculator(2, 15)\n",
    "merkle(points)"
   ]
  },
  {
   "cell_type": "code",
   "execution_count": 38,
   "metadata": {},
   "outputs": [],
   "source": [
    "def reverse_bit(n, width = 10):\n",
    "    n_binary = '{:0{width}b}'.format(n, width=width)\n",
    "    return int(n_binary[::-1], 2)"
   ]
  },
  {
   "cell_type": "code",
   "execution_count": 39,
   "metadata": {},
   "outputs": [],
   "source": [
    "def low_degree_extension(poly: Polynomial_zmod_flint, trance_len: int, group_gen: IntegerMod_gmp, field_gen: IntegerMod_gmp):\n",
    "    coset_set = [field_gen*(group_gen**i) for i in range (trance_len)]\n",
    "    new_coset_set = [coset_set[reverse_bit(i, log(trance_len,2))] for i in range (trance_len)]\n",
    "    return [(c, poly(c)) for c in new_coset_set]\n"
   ]
  },
  {
   "cell_type": "code",
   "execution_count": 40,
   "metadata": {},
   "outputs": [],
   "source": [
    "def domain_extension( trace_len: int, group_gen: IntegerMod_gmp, field_gen: IntegerMod_gmp):\n",
    "    coset_set = [field_gen*(group_gen**i) for i in range (trace_len)]\n",
    "    new_coset_set = [coset_set[reverse_bit(i, log(trace_len,2))] for i in range (trace_len)]\n",
    "    return new_coset_set"
   ]
  },
  {
   "cell_type": "code",
   "execution_count": 41,
   "metadata": {},
   "outputs": [
    {
     "data": {
      "text/plain": [
       "[5,\n",
       " 2833855974,\n",
       " 2623023147,\n",
       " 2540449978,\n",
       " 1056415280,\n",
       " 1800233432,\n",
       " 380960369,\n",
       " 671626609,\n",
       " 2229935889,\n",
       " 2457247830,\n",
       " 19433037,\n",
       " 3171820980,\n",
       " 2439017906,\n",
       " 13901640,\n",
       " 820071082,\n",
       " 565703797]"
      ]
     },
     "execution_count": 41,
     "metadata": {},
     "output_type": "execute_result"
    }
   ],
   "source": [
    "domain_extension(trace_len=16, group_gen=gen8192, field_gen=field_gen)"
   ]
  },
  {
   "cell_type": "code",
   "execution_count": 50,
   "metadata": {},
   "outputs": [],
   "source": [
    "def fri(poly: Polynomial_zmod_flint, domain: list , degree = 1024, queries = 8) -> dict:\n",
    "    \n",
    "    domain_length = len(domain)\n",
    "    index_to_sample = [0]*queries\n",
    "    proof = {} #{stage: {'root': merkle root, 'pathes':[pathes],'random':random number for naxt-stage}}\n",
    "    for stage in range (log(degree, 2)):\n",
    "        \n",
    "        pathes = [] # [(value, path),...]\n",
    "        merkel_root, merkle_layer = commit(poly, domain)\n",
    "        #first stage: evaluation above the whole domain and creation of merkle tree\n",
    "        if stage == 0: #qurie at queries/2 random indexes\n",
    "            for i in range(0,queries,2):\n",
    "                index_to_sample[i] = fiat_shamir_random(merkel_root,i)%domain_length\n",
    "                index_to_sample[i+1] = index_to_sample[i]+(-1)**(index_to_sample[i]%2)\n",
    "        else: #in every other stage - brings the indexes of the negative element in the domain\n",
    "            new_index_to_sample = []\n",
    "            for index in index_to_sample:\n",
    "                index//=2\n",
    "                temp_index = index + (-1)**(index%2)\n",
    "                if temp_index not in new_index_to_sample:\n",
    "                    new_index_to_sample.append(temp_index)\n",
    "            index_to_sample = new_index_to_sample\n",
    "        for index in index_to_sample:\n",
    "            value_at_index, path = evaluate_points_and_path(merkle_layer, int(index))\n",
    "            pathes.append((value_at_index, path))\n",
    "        #second stage: takes n number randoms, and claculate n/2 time P(x_i) 1<i<n/2 + merkle path for them\n",
    "\n",
    "        rand = fiat_shamir_random(merkel_root)\n",
    "        proof[stage]= {'root':merkel_root ,'pathes':pathes,'random': rand}\n",
    "        poly, domain = fri_next_layer(poly=poly, domain=domain, rand = rand)\n",
    "        #third stage: calculates FRI next Layer\n",
    "    \n",
    "    return proof"
   ]
  },
  {
   "cell_type": "code",
   "execution_count": 43,
   "metadata": {},
   "outputs": [],
   "source": [
    "def commit(poly: Polynomial_zmod_flint, domain: list):\n",
    "    #first stage: evaluation above the whole domain and creation of merkle tree\n",
    "    points=[(d, poly(d)) for d in domain]\n",
    "    tree = MerkeTree(domain=points)\n",
    "    return (tree.root, tree)"
   ]
  },
  {
   "cell_type": "code",
   "execution_count": 44,
   "metadata": {},
   "outputs": [],
   "source": [
    "def fri_next_layer(poly: Polynomial_zmod_flint, domain: list , rand: int):\n",
    "    #calculate the polynomial and the domain of the next stage\n",
    "    even = 0*x\n",
    "    odd = 0*x\n",
    "    for degree,coef in poly.dict().items():\n",
    "        if degree%2==0:\n",
    "            even = even + coef*x**(degree//2)\n",
    "        else:\n",
    "            odd = odd + coef*x**(degree//2)\n",
    "    next_layer = even + rand*odd\n",
    "    new_domain = []\n",
    "    for i in range(0,len(domain),2):\n",
    "        assert domain[i]**2 == domain[i+1]**2\n",
    "        new_domain.append(domain[i]**2)\n",
    "    return next_layer, new_domain"
   ]
  },
  {
   "cell_type": "code",
   "execution_count": 45,
   "metadata": {},
   "outputs": [],
   "source": [
    "def evaluate_points_and_path(tree: MerkeTree, index: int):\n",
    "    return tree.get_value_and_path_by_index(index=index)"
   ]
  },
  {
   "cell_type": "code",
   "execution_count": 46,
   "metadata": {},
   "outputs": [
    {
     "data": {
      "text/plain": [
       "3221225472"
      ]
     },
     "execution_count": 46,
     "metadata": {},
     "output_type": "execute_result"
    }
   ],
   "source": [
    "trace = []\n",
    "domain = []\n",
    "for i in range (1024):\n",
    "    trace.append(gen1024**i)\n",
    "for i in range (1024):\n",
    "    domain.append(trace[reverse_bit(i, 10)])\n",
    "domain[2]**2"
   ]
  },
  {
   "cell_type": "code",
   "execution_count": 55,
   "metadata": {},
   "outputs": [],
   "source": [
    "def hash_tow_elements(element1, element2):\n",
    "        temp_string = ''.join(str(element1))\n",
    "        temp_string = temp_string.join(str(element2))\n",
    "        return(sha3(temp_string))\n",
    "\n",
    "def hash_one_elements(element):\n",
    "    return(sha3(str(element)))\n",
    "\n",
    "\n",
    "class MerkeTree():\n",
    "    \n",
    "    tree: dict = {}\n",
    "    domain_size: int\n",
    "    \n",
    "    def __init__(self, domain:list):\n",
    "        self.tree={}\n",
    "        self.domain_size = len(domain)\n",
    "        # Calculate the hashes of each point in the domain.\n",
    "        # Inset the leavs and their hashes to the tree. \n",
    "        domain_hashed = []\n",
    "        for element in domain:\n",
    "            hashed_element = hash_one_elements(element)\n",
    "            self.tree[hashed_element] = element\n",
    "            domain_hashed.append(hashed_element)\n",
    "\n",
    "        # Now all the leavs are in the tree.\n",
    "        # Construct the hash piramid.\n",
    "        self.recursive_merkle(nodes_layer=domain_hashed)\n",
    "\n",
    "    def recursive_merkle(self, nodes_layer: list):\n",
    "        if len(nodes_layer) <= 1:\n",
    "            #This is the root of the merkle tree.\n",
    "            self.tree['root']=nodes_layer[0]\n",
    "            return\n",
    "\n",
    "        assert len(nodes_layer)%2 ==0\n",
    "        \n",
    "        # Create a new layer of nodes in the tree\n",
    "        new_nodes_layre = []\n",
    "\n",
    "        # Create a new node based on the two node beneath it.\n",
    "        for i in range(len(nodes_layer)/2):\n",
    "            hash_element = hash_tow_elements(nodes_layer[i*2], nodes_layer[i*2+1])\n",
    "            self.tree[hash_element] = (nodes_layer[i*2], nodes_layer[i*2+1])\n",
    "            new_nodes_layre.append(hash_element)\n",
    "            \n",
    "        return self.recursive_merkle(nodes_layer = new_nodes_layre)\n",
    "    \n",
    "    @property\n",
    "    def root(self):\n",
    "        return self.tree['root']\n",
    "    \n",
    "    def get_value_and_path_by_index(self, index: int):\n",
    "        \n",
    "        index_size = int(log(self.domain_size, 2))\n",
    "        key = self.tree['root']\n",
    "        \n",
    "        # Shift the index from an int to a binary list.\n",
    "        index_as_str = format(index, f'#0{index_size+2}b')\n",
    "\n",
    "        # Shift from '0b1110' to '1110'\n",
    "        index_as_str = index_as_str[2:] \n",
    "\n",
    "        path = {}\n",
    "        while(index_as_str):\n",
    "            value = self.tree[key]\n",
    "            path[key] = value\n",
    "            direction_bit = int(index_as_str[0])\n",
    "            key = value[direction_bit]\n",
    "            index_as_str = index_as_str[1:]\n",
    "        \n",
    "        #Now the key is the hash of the required index. Reauired value = tree[key] = (coset, CP[coset])\n",
    "        path[key] = self.tree[key]\n",
    "        return(path[key], path)\n"
   ]
  },
  {
   "cell_type": "code",
   "execution_count": 48,
   "metadata": {},
   "outputs": [
    {
     "name": "stdout",
     "output_type": "stream",
     "text": [
      "MerkeTree is complete. self.domain_size=16\n"
     ]
    }
   ],
   "source": [
    "#domain = domain_extension(poly=CP, trance_len=16, group_gen=gen8192, field_gen=field_gen)\n",
    "domain = domain_extension(trace_len=16, group_gen=gen8192, field_gen=field_gen)\n",
    "root, merke_tree = commit(poly=copy, domain=domain)\n",
    "#print(merke_tree)"
   ]
  },
  {
   "cell_type": "code",
   "execution_count": 57,
   "metadata": {},
   "outputs": [],
   "source": [
    "def prove(a: int, trace_length: int, destination, queries: int = 8):\n",
    "    trace = trace_calculator(a,trace_length)\n",
    "    Y = trace[destination]\n",
    "    poly = polynomial_evaluation(trace, gen1024)\n",
    "    p1, p2, p3 = constrains_polynomials(poly, len(trace), Y, destination, gen1024)\n",
    "    domain_size = len(trace)*queries\n",
    "    domain_gen = field_gen ** ((PRIME-1)/domain_size)\n",
    "    domain = domain_extension(domain_size , domain_gen, field_gen)\n",
    "    proof_stage_one = {} #{name:{'root' = root, 'value' = value,'path' = path}}\n",
    "    random_co = {}\n",
    "    merkle_p = {}\n",
    "    root_p = {}\n",
    "    value_at_index= {}\n",
    "    path = {}\n",
    "    for p in [p1, p2, p3]:\n",
    "        root_p[p], merkle_p[p] = commit(p, domain)\n",
    "        random_co[p] = fiat_shamir_random(root_p[p])\n",
    "        \n",
    "    cp = compositon_polynomial([p1, p2, p3], random_co)\n",
    "    root_p[cp], merkle_p[cp] = commit(cp, domain)\n",
    "    index = fiat_shamir_random(root_p[cp])%len(domain)\n",
    "    polynomials = [p1, p2, p3, cp]\n",
    "    names = ['p1', 'p2', 'p3', 'cp']\n",
    "    for p , name in zip(polynomials, names):\n",
    "        value_at_index[p], path[p] = evaluate_points_and_path(merkle_p[p], index)\n",
    "        internal_proof_dict={}\n",
    "        internal_proof_dict['root'] = root_p[p]\n",
    "        internal_proof_dict['value'] = value_at_index[p]\n",
    "        internal_proof_dict['path'] = path[p]\n",
    "        proof_stage_one[name] = internal_proof_dict\n",
    "    \n",
    "#   return proof_stage_one\n",
    "    proof_stage_two = fri(cp, domain , degree = 1024, queries = 8)\n",
    "    #{stage: {'root': merkle root, 'pathes':[pathes],'random':random number for naxt-stage}}\n",
    "    \n",
    "    return proof_stage_one, proof_stage_two"
   ]
  },
  {
   "cell_type": "code",
   "execution_count": 58,
   "metadata": {},
   "outputs": [
    {
     "data": {
      "text/plain": [
       "[((951016390, 1109021098),\n",
       "  {'f7d397c58baffbfe8864bd85daa1bf33d2d93e8a6472815ec58601462d54dfc4': ('da575f2e7d9e460d9b23d50bedee2530d911abcdd2ee468fb47964552940844e',\n",
       "    '4d569f25fde3fb2613520a560cca832850873f0f42c4e600a1b79cf8693b13f4'),\n",
       "   'da575f2e7d9e460d9b23d50bedee2530d911abcdd2ee468fb47964552940844e': ('0b21473c73b25831c854c2385a41fcde7b890df9835953518cf5879641d55c0e',\n",
       "    '8d5c169abd908cf9850915ee9317ff317b712d8f219ebc0ef20e531a72370b31'),\n",
       "   '8d5c169abd908cf9850915ee9317ff317b712d8f219ebc0ef20e531a72370b31': ('695aa4c4a6c632b1ee0fd7c5a2d64cf66e4589c48b9fffe4ec8a9c6a830b233d',\n",
       "    '8624a9a293613dc76bdab594e374c7e30b6811695278dffe1ebf56f6cb8d86bb'),\n",
       "   '695aa4c4a6c632b1ee0fd7c5a2d64cf66e4589c48b9fffe4ec8a9c6a830b233d': ('6f8663ff2f0e899888021c1ef58f32b311119e01a6eb256a44ce6221a4944e35',\n",
       "    '39fd8ccb90d86756d4fb53627455dd9ef034b57660af83381ec4a80088f4c12e'),\n",
       "   '39fd8ccb90d86756d4fb53627455dd9ef034b57660af83381ec4a80088f4c12e': ('1cca4bff3455e99194f6073bbd83697351b06047617bb61d99987d6f451cef4e',\n",
       "    '3769552958873e38bee46a36f4e24174fcfa0b7d035897d1fe6b7bdcfc1ba386'),\n",
       "   '1cca4bff3455e99194f6073bbd83697351b06047617bb61d99987d6f451cef4e': ('a45bb3556329abd634a68bd5c6c60b2d822838139d5273a67fb8e71bfa5c5176',\n",
       "    '53f9c40bb0db3fa243b89c72f76b9b1cb98812256aafec283959f1cf74acc628'),\n",
       "   'a45bb3556329abd634a68bd5c6c60b2d822838139d5273a67fb8e71bfa5c5176': ('1be0595c782bca2e647d82c19e307d1f2f89afd638c1b78b41ef86af7dc7885c',\n",
       "    'c9b258fc50decbd033ab3e35be421d9582bcb6de282fdc2b6c46537995c26151'),\n",
       "   '1be0595c782bca2e647d82c19e307d1f2f89afd638c1b78b41ef86af7dc7885c': ('2b7dcb5e9c9898a753c6a0bfec450dbc38b7cae67341f92efa8b9151a5938f73',\n",
       "    '2522713ec807106074d069385b4452740a75d9b101cffc3c34097f01ddffbf33'),\n",
       "   '2522713ec807106074d069385b4452740a75d9b101cffc3c34097f01ddffbf33': ('ca399a15e813c6adf6ae2cadf41a9e0a4846c36f5e906e452d5cd9798b94ff24',\n",
       "    '1741dec95648eeecf9d7b049f612b24c642a061e331d321d8c7542cdd61454f9'),\n",
       "   'ca399a15e813c6adf6ae2cadf41a9e0a4846c36f5e906e452d5cd9798b94ff24': ('a1eb313b1e03f468f5919bff6cd73974496a68bd2ece483a92146507ebf4cf50',\n",
       "    '049bcbc85ff3deeae1e654d452a0a8c72fb4b7416c66b1e20a93f41a53fc8f9c'),\n",
       "   '049bcbc85ff3deeae1e654d452a0a8c72fb4b7416c66b1e20a93f41a53fc8f9c': (951016390,\n",
       "    1109021098)}),\n",
       " ((1012759291, 3053494784),\n",
       "  {'f7d397c58baffbfe8864bd85daa1bf33d2d93e8a6472815ec58601462d54dfc4': ('da575f2e7d9e460d9b23d50bedee2530d911abcdd2ee468fb47964552940844e',\n",
       "    '4d569f25fde3fb2613520a560cca832850873f0f42c4e600a1b79cf8693b13f4'),\n",
       "   'da575f2e7d9e460d9b23d50bedee2530d911abcdd2ee468fb47964552940844e': ('0b21473c73b25831c854c2385a41fcde7b890df9835953518cf5879641d55c0e',\n",
       "    '8d5c169abd908cf9850915ee9317ff317b712d8f219ebc0ef20e531a72370b31'),\n",
       "   '0b21473c73b25831c854c2385a41fcde7b890df9835953518cf5879641d55c0e': ('ba74beada8a0c0844c401eea96cfc8af1232a58abebecbaaa8083b35b2926ddb',\n",
       "    '04c2acb9568a360703a8bba15084130e1e5a1fca3c55775458876e52fab06e9a'),\n",
       "   'ba74beada8a0c0844c401eea96cfc8af1232a58abebecbaaa8083b35b2926ddb': ('a3d3c65061bb9346725af84abc17c0734f588ec28dcad295a1229bb0a00d4742',\n",
       "    'e5df8dd0da234640b65bba151ac81175eb2b33f6c3bc4b203c19c36022eb5789'),\n",
       "   'e5df8dd0da234640b65bba151ac81175eb2b33f6c3bc4b203c19c36022eb5789': ('4eb4ae751312c581d5111113d3cfdb348f8d67da9f8afd2def582f58cd9bf00a',\n",
       "    'cfbbbe0420f418be23550e443c3d3eb8b23eadae066d9f74b4f9547c71e10606'),\n",
       "   '4eb4ae751312c581d5111113d3cfdb348f8d67da9f8afd2def582f58cd9bf00a': ('ce84cdc17dce870bf26f16991e3e31799fc003e1113aaa69cd515c93f646ded8',\n",
       "    'c73d4949337beb51ed05175dd285ff68dccf3ca10a62992f829979802b2b9e09'),\n",
       "   'c73d4949337beb51ed05175dd285ff68dccf3ca10a62992f829979802b2b9e09': ('6950a5b3818c2b0ada72dde5a2f629d97fd3adc9b6cfce2557c72b329b469a2d',\n",
       "    'aad0f79ca791db7e7c0147954653e7e0401592317b6839c12094b658abe927e8'),\n",
       "   '6950a5b3818c2b0ada72dde5a2f629d97fd3adc9b6cfce2557c72b329b469a2d': ('560ef93d5ce7ec52593da5894629cd4c931e8473ba9fef3b992b5e58baa8373e',\n",
       "    '58645be14a49124134632e72aa29580ae10e98530bed6f68fde690eb7b6e7cb1'),\n",
       "   '560ef93d5ce7ec52593da5894629cd4c931e8473ba9fef3b992b5e58baa8373e': ('22615f835f8166ac4bcfee8df671f5e0ef29b3701bfccec7266d32c1de0fcd07',\n",
       "    'd5187692f0a8f72de02514451fda507e7ef6a3d412b1a9d8b1f0660d687f2629'),\n",
       "   'd5187692f0a8f72de02514451fda507e7ef6a3d412b1a9d8b1f0660d687f2629': ('9c7873e144a0db32ba03ea5bb98eca18b19e302d43c0750bcf0b00b4781c3e16',\n",
       "    'd7dfe9221ff5d3643c611d65273a0bfbe94d3fbf12fea43d530cee5220637d3e'),\n",
       "   '9c7873e144a0db32ba03ea5bb98eca18b19e302d43c0750bcf0b00b4781c3e16': (1012759291,\n",
       "    3053494784)}),\n",
       " ((374152672, 171844016),\n",
       "  {'f7d397c58baffbfe8864bd85daa1bf33d2d93e8a6472815ec58601462d54dfc4': ('da575f2e7d9e460d9b23d50bedee2530d911abcdd2ee468fb47964552940844e',\n",
       "    '4d569f25fde3fb2613520a560cca832850873f0f42c4e600a1b79cf8693b13f4'),\n",
       "   'da575f2e7d9e460d9b23d50bedee2530d911abcdd2ee468fb47964552940844e': ('0b21473c73b25831c854c2385a41fcde7b890df9835953518cf5879641d55c0e',\n",
       "    '8d5c169abd908cf9850915ee9317ff317b712d8f219ebc0ef20e531a72370b31'),\n",
       "   '8d5c169abd908cf9850915ee9317ff317b712d8f219ebc0ef20e531a72370b31': ('695aa4c4a6c632b1ee0fd7c5a2d64cf66e4589c48b9fffe4ec8a9c6a830b233d',\n",
       "    '8624a9a293613dc76bdab594e374c7e30b6811695278dffe1ebf56f6cb8d86bb'),\n",
       "   '8624a9a293613dc76bdab594e374c7e30b6811695278dffe1ebf56f6cb8d86bb': ('a91021fa82c45adaa0161677c6c685275415d326bed79fdf39e7564d4937adc5',\n",
       "    '54bcc174cb0d5b8eda11f72a797e8c957a4923a21ae344e56efc1ee418a44f2a'),\n",
       "   'a91021fa82c45adaa0161677c6c685275415d326bed79fdf39e7564d4937adc5': ('2b41b78d33f71a8ffcbdc9cca696e8b964310992051a1988993cb05dcdd1a949',\n",
       "    'cbbf974694c239ab3aa97ae3f5606c39e641bf9f3188dd7f0a68affc21c5cd9c'),\n",
       "   '2b41b78d33f71a8ffcbdc9cca696e8b964310992051a1988993cb05dcdd1a949': ('372fd8b23c0019cc63f7fdf2e6f507b22c6d582d12216192db8daa397ce6d68c',\n",
       "    '5f1d44987b20e2e99ceaf3889b58c3b29f256831dfd4f67d9654bb777af0778b'),\n",
       "   '5f1d44987b20e2e99ceaf3889b58c3b29f256831dfd4f67d9654bb777af0778b': ('ab733972d44ae00ee2fd9d73ee0b6f0b93f7928b7355f09b44b28665b2594d93',\n",
       "    'ff3af16e8e55d768ca4a5d654ef8f48ce2178be4a25890c3e028d129d71d17f3'),\n",
       "   'ab733972d44ae00ee2fd9d73ee0b6f0b93f7928b7355f09b44b28665b2594d93': ('7c729c3b56db9bf909e4701a641718e546598386c979961364925c98d598d225',\n",
       "    'c15194d55b2e25ca9267326b69c811ba6718afde2be6af336e0185f76c614611'),\n",
       "   'c15194d55b2e25ca9267326b69c811ba6718afde2be6af336e0185f76c614611': ('0f124677b4c5a650daeb81f320c8e2278bfdaf7a5790dbcdbf5fa397674ef0f2',\n",
       "    '7bed522a736cd68f75dbc7f8a96fd781e70a86cc45aeac5bb13b13ecd8125428'),\n",
       "   '7bed522a736cd68f75dbc7f8a96fd781e70a86cc45aeac5bb13b13ecd8125428': ('c8be954c0b3b0bbe97ea54ecd78c377efc9be88b67f6e68f56930fbe49b426eb',\n",
       "    '3772fd3b80669e651cc09654870831188ec9d0298409a511216a4e0d8578b585'),\n",
       "   '3772fd3b80669e651cc09654870831188ec9d0298409a511216a4e0d8578b585': (374152672,\n",
       "    171844016)}),\n",
       " ((3113988432, 757698004),\n",
       "  {'f7d397c58baffbfe8864bd85daa1bf33d2d93e8a6472815ec58601462d54dfc4': ('da575f2e7d9e460d9b23d50bedee2530d911abcdd2ee468fb47964552940844e',\n",
       "    '4d569f25fde3fb2613520a560cca832850873f0f42c4e600a1b79cf8693b13f4'),\n",
       "   'da575f2e7d9e460d9b23d50bedee2530d911abcdd2ee468fb47964552940844e': ('0b21473c73b25831c854c2385a41fcde7b890df9835953518cf5879641d55c0e',\n",
       "    '8d5c169abd908cf9850915ee9317ff317b712d8f219ebc0ef20e531a72370b31'),\n",
       "   '8d5c169abd908cf9850915ee9317ff317b712d8f219ebc0ef20e531a72370b31': ('695aa4c4a6c632b1ee0fd7c5a2d64cf66e4589c48b9fffe4ec8a9c6a830b233d',\n",
       "    '8624a9a293613dc76bdab594e374c7e30b6811695278dffe1ebf56f6cb8d86bb'),\n",
       "   '8624a9a293613dc76bdab594e374c7e30b6811695278dffe1ebf56f6cb8d86bb': ('a91021fa82c45adaa0161677c6c685275415d326bed79fdf39e7564d4937adc5',\n",
       "    '54bcc174cb0d5b8eda11f72a797e8c957a4923a21ae344e56efc1ee418a44f2a'),\n",
       "   'a91021fa82c45adaa0161677c6c685275415d326bed79fdf39e7564d4937adc5': ('2b41b78d33f71a8ffcbdc9cca696e8b964310992051a1988993cb05dcdd1a949',\n",
       "    'cbbf974694c239ab3aa97ae3f5606c39e641bf9f3188dd7f0a68affc21c5cd9c'),\n",
       "   '2b41b78d33f71a8ffcbdc9cca696e8b964310992051a1988993cb05dcdd1a949': ('372fd8b23c0019cc63f7fdf2e6f507b22c6d582d12216192db8daa397ce6d68c',\n",
       "    '5f1d44987b20e2e99ceaf3889b58c3b29f256831dfd4f67d9654bb777af0778b'),\n",
       "   '5f1d44987b20e2e99ceaf3889b58c3b29f256831dfd4f67d9654bb777af0778b': ('ab733972d44ae00ee2fd9d73ee0b6f0b93f7928b7355f09b44b28665b2594d93',\n",
       "    'ff3af16e8e55d768ca4a5d654ef8f48ce2178be4a25890c3e028d129d71d17f3'),\n",
       "   'ab733972d44ae00ee2fd9d73ee0b6f0b93f7928b7355f09b44b28665b2594d93': ('7c729c3b56db9bf909e4701a641718e546598386c979961364925c98d598d225',\n",
       "    'c15194d55b2e25ca9267326b69c811ba6718afde2be6af336e0185f76c614611'),\n",
       "   '7c729c3b56db9bf909e4701a641718e546598386c979961364925c98d598d225': ('f5eff64ed0b6ef77190dfed55acdab68ba5b927f5aba0c721dc190616c16e64c',\n",
       "    '49a35e413e4d112324b014b298a8d6eb461ed1ab050246302bcf6c83c0d59ef0'),\n",
       "   '49a35e413e4d112324b014b298a8d6eb461ed1ab050246302bcf6c83c0d59ef0': ('bd83de1f05a01110a2abcaed1a82d88b743550d02d041d9d00de6ce69d92a99c',\n",
       "    'bb463e5cdc911ba2d6d8a78c32c55b7eccf9fe0086db9450557990c899635a8f'),\n",
       "   'bb463e5cdc911ba2d6d8a78c32c55b7eccf9fe0086db9450557990c899635a8f': (3113988432,\n",
       "    757698004)})]"
      ]
     },
     "execution_count": 58,
     "metadata": {},
     "output_type": "execute_result"
    }
   ],
   "source": [
    "proof = prove(2, 1024, 1000)\n",
    "proof[1][3]['pathes']"
   ]
  },
  {
   "cell_type": "code",
   "execution_count": null,
   "metadata": {},
   "outputs": [],
   "source": [
    "class Verifier_first_stage():\n",
    "    \n",
    "    def __init__(self):\n",
    "        \"\"\"\n",
    "        \"\"\"\n",
    "    \n",
    "    def verify(self, proof_stage_one: dict, domian_size: int):\n",
    "            index = self.get_index(proof_stage_one=proof_stage_one, domian_size=domian_size)\n",
    "            self.verifiy_path_and_values(proof_stage_one=proof_stage_one, index=index, domian_size=domian_size)\n",
    "            coeffs = self.get_coefficients(proof_stage_one=proof_stage_one)\n",
    "            self.validate_cp_value_in_index(proof_stage_one=proof_stage_one, coeffs=coeffs)\n",
    "\n",
    "    def verifiy_path_and_values(self, proof_stage_one: dict, index: int, domian_size: int):\n",
    "        names = ['p1', 'p2', 'p3', 'cp']\n",
    "        for name in names:\n",
    "            internal_proof_dict = proof_stage_one[name]\n",
    "            root = internal_proof_dict['root']\n",
    "            value_at_index = internal_proof_dict['value']\n",
    "            path = internal_proof_dict['path']\n",
    "            self.verify_path_by_index(\n",
    "                root=root, expected_value=value_at_index, index=index, domain_size=domian_size, path=path\n",
    "            )\n",
    "            \n",
    "    def get_index(self, proof_stage_one: dict, domian_size: int):\n",
    "        #print(f\"{proof_stage_one['cp']=}\")\n",
    "        cp_tree_root = proof_stage_one['cp']['root']\n",
    "        return (fiat_shamir_random(cp_tree_root)%domian_size)\n",
    "    \n",
    "    def get_coefficients(self, proof_stage_one:dict) -> dict:\n",
    "        names = ['p1', 'p2', 'p3']\n",
    "        return {name:fiat_shamir_random(proof_stage_one[name]['root']) for name in names}\n",
    "    \n",
    "    def validate_cp_value_in_index(self, proof_stage_one: dict, coeffs: dict):\n",
    "        names = ['p1', 'p2', 'p3']\n",
    "        expected_value = 0\n",
    "        for name in names:\n",
    "            expected_value_int = ((proof_stage_one[name]['value'])[1]*coeffs[name])\n",
    "            expected_value += expected_value_int%PRIME            \n",
    "        assert proof_stage_one['cp']['value'][1] == expected_value\n",
    "    \n",
    "    def verify_path_by_index(self, root: str, expected_value: tuple, index: int, domain_size: int, path: dict):\n",
    "\n",
    "        index_size = int(log(domain_size, 2))\n",
    "        index_as_str = format(index, f'#0{index_size+2}b')\n",
    "        # shift from '0b1110' to '1110'\n",
    "        index_as_str = index_as_str[2:] \n",
    "        key=root\n",
    "        while(index_as_str):\n",
    "            value = path[key]\n",
    "\n",
    "            #Verify the hash:\n",
    "            assert hash_tow_elements(value[0], value[1]) == key\n",
    "\n",
    "            direction_bit = int(index_as_str[0])\n",
    "            key = value[direction_bit]\n",
    "            index_as_str = index_as_str[1:]\n",
    "\n",
    "        #Now the key is the hash of the required index. Reauired value = tree[key] = (coset, CP[coset])\n",
    "        value = path[key]\n",
    "        assert hash_one_elements(value) == key\n",
    "        assert value == expected_value\n",
    "    "
   ]
  },
  {
   "cell_type": "code",
   "execution_count": null,
   "metadata": {},
   "outputs": [],
   "source": [
    "verifier1 = Verifier_first_stage()\n",
    "verifier1.verify(proof_stage_one=proof, domian_size=2048)"
   ]
  },
  {
   "cell_type": "code",
   "execution_count": null,
   "metadata": {},
   "outputs": [],
   "source": []
  },
  {
   "cell_type": "code",
   "execution_count": null,
   "metadata": {},
   "outputs": [],
   "source": []
  },
  {
   "cell_type": "code",
   "execution_count": null,
   "metadata": {},
   "outputs": [],
   "source": []
  }
 ],
 "metadata": {
  "kernelspec": {
   "display_name": "SageMath 9.0",
   "language": "sage",
   "name": "sagemath"
  },
  "language_info": {
   "codemirror_mode": {
    "name": "ipython",
    "version": 3
   },
   "file_extension": ".py",
   "mimetype": "text/x-python",
   "name": "python",
   "nbconvert_exporter": "python",
   "pygments_lexer": "ipython3",
   "version": "3.8.10"
  }
 },
 "nbformat": 4,
 "nbformat_minor": 5
}
