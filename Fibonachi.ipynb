{
 "cells": [
  {
   "cell_type": "code",
   "execution_count": 54,
   "id": "07eb4d91",
   "metadata": {},
   "outputs": [],
   "source": [
    "import hashlib\n",
    "from sage.rings.finite_rings.integer_mod import IntegerMod_gmp\n",
    "from sage.rings.polynomial.polynomial_zmod_flint import Polynomial_zmod_flint\n",
    "\n",
    "# DIFINES\n",
    "PRIME = 3*2**30+1\n",
    "FIELD = GF(PRIME)"
   ]
  },
  {
   "cell_type": "code",
   "execution_count": 55,
   "id": "c52cd2b5",
   "metadata": {},
   "outputs": [],
   "source": [
    "F.<x> = PolynomialRing(GF(PRIME),'x')\n",
    "field_gen = FIELD.multiplicative_generator()\n",
    "gen8192 = field_gen ** ((PRIME-1)/8192)\n",
    "gen1024 = field_gen ** ((PRIME-1)/1024)"
   ]
  },
  {
   "cell_type": "code",
   "execution_count": 56,
   "id": "58f41a7e",
   "metadata": {},
   "outputs": [],
   "source": [
    "Y_INDEX = 999\n",
    "a = 2 "
   ]
  },
  {
   "cell_type": "code",
   "execution_count": 57,
   "id": "56246afd",
   "metadata": {},
   "outputs": [],
   "source": [
    "def trace_calculator(a: int, trance_len: int) -> list:\n",
    "    trace = [1, a]\n",
    "    for i in range(2,trance_len):\n",
    "        trace.append((trace[i-1] + trace[i-2])%PRIME)\n",
    "    return trace"
   ]
  },
  {
   "cell_type": "code",
   "execution_count": 58,
   "id": "32cbb830",
   "metadata": {},
   "outputs": [],
   "source": [
    "def polynomial_evaluation (trace: list, generator: IntegerMod_gmp) -> Polynomial_zmod_flint:\n",
    "    points =[]\n",
    "    for i, y in enumerate (trace): \n",
    "        points.append((generator**i, y))\n",
    "    \n",
    "    R = FIELD['x']\n",
    "    polynomial = R.lagrange_polynomial(points)\n",
    "    print(type(polynomial))\n",
    "    return polynomial"
   ]
  },
  {
   "cell_type": "code",
   "execution_count": 59,
   "id": "d8c77d2a",
   "metadata": {},
   "outputs": [
    {
     "name": "stdout",
     "output_type": "stream",
     "text": [
      "<class 'sage.rings.polynomial.polynomial_zmod_flint.Polynomial_zmod_flint'>\n"
     ]
    }
   ],
   "source": [
    "trance_len = 1024\n",
    "trace = trace_calculator(a=a,trance_len=trance_len)\n",
    "#print(trace)\n",
    "poly = polynomial_evaluation(trace=trace, generator=gen1024)\n",
    "# Sainaty check:\n",
    "assert poly(gen1024**Y_INDEX) == trace[Y_INDEX]\n",
    "Y=trace[Y_INDEX]"
   ]
  },
  {
   "cell_type": "code",
   "execution_count": 60,
   "id": "79ec4488",
   "metadata": {},
   "outputs": [],
   "source": [
    "def compositon_polynomial(poly: Polynomial_zmod_flint, trance_len: int, Y: IntegerMod_gmp, index_y: int , gen: IntegerMod_gmp):\n",
    "    n=trance_len\n",
    "    p1 = (poly-1)/(x-gen**0)\n",
    "    co1 = fiat_shamir_random(data=str(p1))\n",
    "    p2 = (poly - Y)/(x-gen**index_y)\n",
    "    co2 = fiat_shamir_random(data=str(p2))\n",
    "    \n",
    "    # (x-g**0)(x-g**1)...(x-g**(n-1)) = x**n-1\n",
    "    # \n",
    "    constrain_3_numer = poly(gen ** 2 * x) - poly(gen * x) - poly(x)\n",
    "    # constrain_3_numer should divide by all powers of gen: x=g**0, .... x= g**(n-3)\n",
    "    constrain_3_denom = (x**n-1) / ( (x-gen**(n-1)) * (x-gen**(n-2)) )\n",
    "    # p3 = (poly(gen ** 2 * x) - poly(gen * x) - poly(x))*(x-gen**(n-1)) \\\n",
    "    #     * (x-gen**(n-2))*(x-gen**(n-3))/(x**n-1)\n",
    "    p3 = constrain_3_numer / constrain_3_denom\n",
    "    co3 = fiat_shamir_random(data=str(p3))\n",
    "    return p1*co1 + p2+co2 + p3*co3"
   ]
  },
  {
   "cell_type": "code",
   "execution_count": 61,
   "id": "02f1b558",
   "metadata": {},
   "outputs": [],
   "source": [
    "def merkle(points: list):\n",
    "    if len(points) <= 1:\n",
    "        return points[0]\n",
    "    squeezed_points = []\n",
    "    for i in range(len(points)//2):\n",
    "        temp_string = ''.join(str(points[i*2]))\n",
    "        temp_string = temp_string.join(str(points[i*2+1]))\n",
    "        squeezed_points.append(sha3(temp_string))\n",
    "    if len(points)%2 == 1:\n",
    "        squeezed_points.append(sha3(''.join(str(points[-1]))))\n",
    "    return merkle(squeezed_points)"
   ]
  },
  {
   "cell_type": "code",
   "execution_count": 62,
   "id": "67f3f982",
   "metadata": {},
   "outputs": [],
   "source": [
    "def sha3(string: str):\n",
    "    byte=string.encode('ascii')\n",
    "    m = hashlib.sha3_256()\n",
    "    m.update(byte)\n",
    "    \n",
    "    return m.hexdigest()"
   ]
  },
  {
   "cell_type": "code",
   "execution_count": 63,
   "id": "7de03017",
   "metadata": {},
   "outputs": [],
   "source": [
    "def fiat_shamir_random(data: str)-> int:\n",
    "    rand = int.from_bytes(data.encode('ascii'), \"big\") \n",
    "    return rand%PRIME"
   ]
  },
  {
   "cell_type": "code",
   "execution_count": 64,
   "id": "17fa7255",
   "metadata": {},
   "outputs": [],
   "source": [
    "CP = compositon_polynomial(poly=poly, trance_len=trance_len, Y=Y, index_y=Y_INDEX , gen=gen1024)"
   ]
  },
  {
   "cell_type": "code",
   "execution_count": 65,
   "id": "0baf4a72",
   "metadata": {},
   "outputs": [
    {
     "data": {
      "text/plain": [
       "'112bda191ff7087fc2d7fda84d713e02eb8cae32817df6a2e2a41224bf81616c'"
      ]
     },
     "execution_count": 65,
     "metadata": {},
     "output_type": "execute_result"
    }
   ],
   "source": [
    "points = trace_calculator(2, 15)\n",
    "merkle(points)"
   ]
  },
  {
   "cell_type": "code",
   "execution_count": 66,
   "id": "f2041dc1",
   "metadata": {},
   "outputs": [],
   "source": [
    "#CP"
   ]
  },
  {
   "cell_type": "code",
   "execution_count": 67,
   "id": "49f9940b",
   "metadata": {},
   "outputs": [],
   "source": [
    "def reverse_bit(n, width = 10):\n",
    "    n_binary = '{:0{width}b}'.format(n, width=width)\n",
    "    return int(n_binary[::-1], 2)"
   ]
  },
  {
   "cell_type": "code",
   "execution_count": 68,
   "id": "d032b572",
   "metadata": {},
   "outputs": [],
   "source": [
    "def low_degree_extension(poly: Polynomial_zmod_flint, trance_len: int, group_gen: IntegerMod_gmp, field_gen: IntegerMod_gmp):\n",
    "    coset_set = [field_gen*(group_gen**i) for i in range (trance_len)]\n",
    "    new_coset_set = [coset_set[reverse_bit(i, log(trance_len,2))] for i in range (trance_len)]\n",
    "    return [(c, poly(c)) for c in new_coset_set]"
   ]
  },
  {
   "cell_type": "code",
   "execution_count": 69,
   "id": "f5f96e4e",
   "metadata": {},
   "outputs": [
    {
     "data": {
      "text/plain": [
       "[(5, 240136124),\n",
       " (2833855974, 3137794864),\n",
       " (2623023147, 832770097),\n",
       " (2540449978, 178471777),\n",
       " (1056415280, 2443620285),\n",
       " (1800233432, 3212932430),\n",
       " (380960369, 1435039985),\n",
       " (671626609, 1479639957),\n",
       " (2229935889, 2287296401),\n",
       " (2457247830, 2896588392),\n",
       " (19433037, 3031081945),\n",
       " (3171820980, 546310648),\n",
       " (2439017906, 1350764941),\n",
       " (13901640, 2967064874),\n",
       " (820071082, 450352649),\n",
       " (565703797, 1281215413)]"
      ]
     },
     "execution_count": 69,
     "metadata": {},
     "output_type": "execute_result"
    }
   ],
   "source": [
    "low_degree_extension(poly=CP, trance_len=16, group_gen=gen8192, field_gen=field_gen)"
   ]
  },
  {
   "cell_type": "code",
   "execution_count": 70,
   "id": "7c59b3a3",
   "metadata": {},
   "outputs": [],
   "source": [
    "def fri(poly: Polynomial_zmod_flint, domain: list , degree = 1024) -> dict:\n",
    "    \n",
    "    proof = {} #{stage: [merkle root, [pathes], random number for naxt-stage]}\n",
    "    for stage in range (log(degree, 2)):\n",
    "        \n",
    "        pathes = []\n",
    "        points, merkel_root = commit(poly=poly, domain=domain)\n",
    "        #first stage: evaluation above the whole domain and creation of merkle tree\n",
    "\n",
    "        evaluate_points_and_path()\n",
    "        #second stage: takes n number randoms, and claculate n/2 time P(x_i) 1<i<n/2 + merkle path for them\n",
    "\n",
    "        rand = fiat_shamir_random(merkel_root)\n",
    "        proof[stage]= [merkel_root ,pathes, rand]\n",
    "        poly, domain = fri_next_layer(poly=poly, domain=domain, rand = rand)\n",
    "        #third stage: calculates FRI next Layer\n",
    "    \n",
    "    return proof"
   ]
  },
  {
   "cell_type": "code",
   "execution_count": 71,
   "id": "3fb5045f",
   "metadata": {},
   "outputs": [],
   "source": [
    "def commit(poly: Polynomial_zmod_flint, domain: list):\n",
    "    #first stage: evaluation above the whole domain and creation of merkle tree\n",
    "    points=[(d, poly(d)) for d in domain]\n",
    "    return (points, merkle(points=points))"
   ]
  },
  {
   "cell_type": "code",
   "execution_count": 72,
   "id": "283373d5",
   "metadata": {},
   "outputs": [],
   "source": [
    "def fri_next_layer(poly: Polynomial_zmod_flint, domain: list , rand: int):\n",
    "    #calculate the polynomial and the domain of the next stage\n",
    "    even = 0*x\n",
    "    odd = 0*x\n",
    "    for degree,coef in poly.dict().items():\n",
    "        if degree%2==0:\n",
    "            even = even + coef*x**(degree//2)\n",
    "        else:\n",
    "            odd = odd + coef*x**(degree//2)\n",
    "    next_layer = even + rand*odd\n",
    "    new_domain = []\n",
    "    for i in range(0,len(domain),2):\n",
    "        assert domain[i]**2 == domain[i+1]**2\n",
    "        new_domain.append(domain[i]**2)\n",
    "    return next_layer, new_domain"
   ]
  },
  {
   "cell_type": "code",
   "execution_count": 73,
   "id": "15aff4fc",
   "metadata": {},
   "outputs": [],
   "source": [
    "def evaluate_points_and_path():\n",
    "    pass"
   ]
  },
  {
   "cell_type": "code",
   "execution_count": 74,
   "id": "3eb66446",
   "metadata": {},
   "outputs": [
    {
     "name": "stdout",
     "output_type": "stream",
     "text": [
      "<class 'sage.rings.polynomial.polynomial_zmod_flint.Polynomial_zmod_flint'>\n",
      "1949650749*x^14 + 254490165*x^13 + 2542374603*x^12 + 1167923054*x^11 + 2345897642*x^10 + 2315637714*x^9 + 2941037616*x^8 + 2682956350*x^7 + 56638226*x^6 + 854385164*x^5 + 1484157149*x^4 + 54628453*x^3 + 2895570615*x^2 + 2333655492*x + 1890800793 \n",
      " \n",
      "\n",
      "1949650749*x^7 + 2796864768*x^6 + 292595223*x^5 + 2035449857*x^4 + 2739594576*x^3 + 2338542313*x^2 + 2950199068*x + 1003230812 \n",
      " \n",
      " 2796864768 \n",
      " \n",
      " [0, 0]\n"
     ]
    },
    {
     "data": {
      "text/plain": [
       "{0: ['c87e08942e4e9cbd3fab82cfa4226926a81329539ce8625da2de602bffecef6b',\n",
       "  [],\n",
       "  1369968218],\n",
       " 1: ['f358532b1d5611ca6e474d6569c808bf01b4f8d3210de943197e3b33acb0cda3',\n",
       "  [],\n",
       "  2733178454],\n",
       " 2: ['81cb2040b6b34230ef32cc06c6bc7f73d629c932b241187e787ed558f4dda829',\n",
       "  [],\n",
       "  2355736069],\n",
       " 3: ['ad8a8fd47b6f1a3da797f1fd55d9f85973bd47719234e83b9571722e0b50f4dc',\n",
       "  [],\n",
       "  3033393731]}"
      ]
     },
     "execution_count": 74,
     "metadata": {},
     "output_type": "execute_result"
    }
   ],
   "source": [
    "trace = trace_calculator(2,15)\n",
    "poly = polynomial_evaluation(trace, field_gen ** ((PRIME-1)/16))\n",
    "#poly = compositon_polynomial(poly, 15, field_gen ** ((PRIME-1)/16), 10, field_gen)\n",
    "#f = 3*x**1 #2895570615*x**12 + x**7\n",
    "#poly = poly.sub(f)\n",
    "#f.coefficients(0)\n",
    "#poly.dict()\n",
    "print(f\"{poly} \\n \\n\" )\n",
    "poly, domain = fri_next_layer(poly,[0,0,0,0], 1)\n",
    "print (f\"{poly} \\n \\n {254490165 + 2542374603} \\n \\n {domain}\" )\n",
    "\n",
    "trace = [0]*16\n",
    "proof = fri(poly,trace,16)\n",
    "proof"
   ]
  },
  {
   "cell_type": "code",
   "execution_count": 75,
   "id": "9ec11f33",
   "metadata": {},
   "outputs": [
    {
     "data": {
      "text/plain": [
       "3221225472"
      ]
     },
     "execution_count": 75,
     "metadata": {},
     "output_type": "execute_result"
    }
   ],
   "source": [
    "trace = []\n",
    "domain = []\n",
    "for i in range (1024):\n",
    "    trace.append(gen1024**i)\n",
    "for i in range (1024):\n",
    "    domain.append(trace[reverse_bit(i, 10)])\n",
    "domain[2]**2"
   ]
  },
  {
   "cell_type": "code",
   "execution_count": 76,
   "id": "47cc1377",
   "metadata": {},
   "outputs": [],
   "source": [
    "def hash_tow_elements(element1, element2):\n",
    "        temp_string = ''.join(str(element1))\n",
    "        temp_string = temp_string.join(str(element2))\n",
    "        return(sha3(temp_string))\n",
    "\n",
    "def hash_one_elements(element):\n",
    "    return(sha3(str(element)))\n",
    "\n",
    "\n",
    "class MerkeTree():\n",
    "    \n",
    "    tree: dict = {}\n",
    "    \n",
    "    def __init__(self, domain:list):\n",
    "        self.tree={}\n",
    "        \n",
    "        # Calculate the hashes of each point in the domain.\n",
    "        # Inset the leavs and their hashes to the tree. \n",
    "        domain_hashed = []\n",
    "        for element in domain:\n",
    "            hashed_element = hash_one_elements(element)\n",
    "            self.tree[hashed_element] = element\n",
    "            domain_hashed.append(hashed_element)\n",
    "\n",
    "        # Now all the leavs are in the tree.\n",
    "        # Construct the hash piramid.\n",
    "        self.recursive_merkle(nodes_layer=domain_hashed)\n",
    "\n",
    "    def recursive_merkle(self, nodes_layer: list):\n",
    "        if len(nodes_layer) <= 1:\n",
    "            #This is the root of the merkle tree.\n",
    "            self.tree['root']=nodes_layer[0]\n",
    "            return\n",
    "\n",
    "        assert len(nodes_layer)%2 ==0\n",
    "        \n",
    "        # Create a new layer of nodes in the tree\n",
    "        new_nodes_layre = []\n",
    "\n",
    "        # Create a new node based on the two node beneath it.\n",
    "        for i in range(len(nodes_layer)/2):\n",
    "            hash_element = hash_tow_elements(nodes_layer[i*2], nodes_layer[i*2+1])\n",
    "            self.tree[hash_element] = (nodes_layer[i*2], nodes_layer[i*2+1])\n",
    "            new_nodes_layre.append(hash_element)\n",
    "            \n",
    "        return self.recursive_merkle(nodes_layer = new_nodes_layre)\n",
    "    \n",
    "    @property\n",
    "    def root(self):\n",
    "        return self.tree['root']\n",
    "    \n",
    "    def get_value_and_path_by_index(self, index: int, index_size: int):\n",
    "        key = self.tree['root']\n",
    "        \n",
    "        # Shift the index from an int to a binary list.\n",
    "        index_as_str = format(index, f'#0{index_size}b')\n",
    "\n",
    "        # Shift from '0b1110' to '1110'\n",
    "        index_as_str = index_as_str[2:] \n",
    "\n",
    "        path = {}\n",
    "        while(index_as_str):\n",
    "            value = self.tree[key]\n",
    "            path[key] = value\n",
    "            direction_bit = int(index_as_str[0])\n",
    "            key = value[direction_bit]\n",
    "            index_as_str = index_as_str[1:]\n",
    "        \n",
    "        #Now the key is the hash of the required index. Reauired value = tree[key] = (coset, CP[coset])\n",
    "        path[key] = self.tree[key]\n",
    "        return(path[key], path)\n"
   ]
  },
  {
   "cell_type": "code",
   "execution_count": 84,
   "id": "dc8297b7-bac6-49f7-b65c-ccdd9536a40b",
   "metadata": {},
   "outputs": [],
   "source": [
    "def verify_path_by_index(root: str, element: tuple, index: int, index_size: int, path: dict):\n",
    "    index_as_str = format(index, f'#0{index_size}b')\n",
    "\n",
    "    # shift from '0b1110' to '1110'\n",
    "    index_as_str = index_as_str[2:] \n",
    "    \n",
    "    key=root\n",
    "    while(index_as_str):\n",
    "        value = path[key]\n",
    "        \n",
    "        #Verify the hash:\n",
    "        assert hash_tow_elements(value[0], value[1]) == key\n",
    "        \n",
    "        direction_bit = int(index_as_str[0])\n",
    "        key = value[direction_bit]\n",
    "        index_as_str = index_as_str[1:]\n",
    "\n",
    "    #Now the key is the hash of the required index. Reauired value = tree[key] = (coset, CP[coset])\n",
    "    value = path[key]\n",
    "    assert hash_one_elements(value) == key\n",
    "    assert value == element"
   ]
  },
  {
   "cell_type": "code",
   "execution_count": 85,
   "id": "27caa161-7c1a-42ba-9195-938cc1a0dfb0",
   "metadata": {},
   "outputs": [],
   "source": [
    "domain = low_degree_extension(poly=CP, trance_len=16, group_gen=gen8192, field_gen=field_gen)\n",
    "merke_tree = MerkeTree(domain=domain)\n",
    "#print(merke_tree)"
   ]
  },
  {
   "cell_type": "code",
   "execution_count": 86,
   "id": "9587407a-21b1-4820-b3c4-69e4c64ae31b",
   "metadata": {},
   "outputs": [
    {
     "name": "stdout",
     "output_type": "stream",
     "text": [
      "{'3a9fdfeb854501daae03210db5902c8df8cb7e5a25b212cab8dae848e66c6aab': ('077c9e562151407d3616085c71ff5f18dc32f96ae590b274f00ee5136947d6d7', '472486be1232cdad7893200e8b7040ca2abf41bc9ac614e9a4f2013a3141efe8'), '077c9e562151407d3616085c71ff5f18dc32f96ae590b274f00ee5136947d6d7': ('87de3f1ca068651b4b9976e2a1e1921f8548d92f2434acd270b0db1b6dae9bca', '9bfd09ada6ced6ef13c4e55ebaf7cb41367cedb88f23241dbce245e71f08ab41'), '87de3f1ca068651b4b9976e2a1e1921f8548d92f2434acd270b0db1b6dae9bca': ('5505618816ee93e5851f05c15f2eafff2d7dcb3d358d22b8dd5e404473cdcac7', 'ab00ad1ce64b83c0e85476793709c2a5dcb8bc2cfbac56ea27f6ba45fde404db'), 'ab00ad1ce64b83c0e85476793709c2a5dcb8bc2cfbac56ea27f6ba45fde404db': ('bb0425bb0a904ccd116af4eb65b82b3bd6b15c4d892733752a0445aa9d538e1c', 'dfa3f5ab415f794db94609e279bead9c3ee194b55e1088c76081ca814dc8187f'), 'dfa3f5ab415f794db94609e279bead9c3ee194b55e1088c76081ca814dc8187f': (2540449978, 178471777)}\n",
      "(2540449978, 178471777)\n"
     ]
    }
   ],
   "source": [
    "point, path = merke_tree.get_value_and_path_by_index(index = 3, index_size = 6)\n",
    "print(path)\n",
    "print(point)"
   ]
  },
  {
   "cell_type": "code",
   "execution_count": 87,
   "id": "35b93258-ef4a-4168-8618-83558b63badb",
   "metadata": {},
   "outputs": [],
   "source": [
    "verify_path_by_index(root=merke_tree.root, element=point, index=3, index_size=6, path=path)"
   ]
  },
  {
   "cell_type": "code",
   "execution_count": null,
   "id": "8ff59350-f275-4845-b90e-ec5b3ec92d30",
   "metadata": {},
   "outputs": [],
   "source": []
  }
 ],
 "metadata": {
  "kernelspec": {
   "display_name": "SageMath 9.0",
   "language": "sage",
   "name": "sagemath"
  },
  "language_info": {
   "codemirror_mode": {
    "name": "ipython",
    "version": 3
   },
   "file_extension": ".py",
   "mimetype": "text/x-python",
   "name": "python",
   "nbconvert_exporter": "python",
   "pygments_lexer": "ipython3",
   "version": "3.8.10"
  }
 },
 "nbformat": 4,
 "nbformat_minor": 5
}
