{
 "cells": [
  {
   "cell_type": "code",
   "execution_count": 86,
   "metadata": {},
   "outputs": [],
   "source": [
    "import hashlib\n",
    "PRIME = 3*2**30+1\n",
    "FIELD = GF(PRIME)\n",
    "F.<x> = PolynomialRing(GF(PRIME),'x')\n",
    "gen8192 = 1734477367\n",
    "gen1024 = gen8192**8\n",
    "gen = FIELD.gen"
   ]
  },
  {
   "cell_type": "code",
   "execution_count": 16,
   "metadata": {},
   "outputs": [],
   "source": [
    "def traceCalculator(a: int, n: int):\n",
    "    trace = [1, a]\n",
    "    for i in range(2,n+1):\n",
    "        trace.append((trace[i-1] + trace[i-2])%PRIME)\n",
    "    return trace"
   ]
  },
  {
   "cell_type": "code",
   "execution_count": 41,
   "metadata": {},
   "outputs": [],
   "source": [
    "def polynomialEvaluation (trace, generator):\n",
    "    points =[]\n",
    "    for i, y in enumerate (trace): \n",
    "        points.append((generator**i, y))\n",
    "    \n",
    "    R = F['x']\n",
    "    polynomial = R.lagrange_polynomial(points)\n",
    "    return polynomial"
   ]
  },
  {
   "cell_type": "code",
   "execution_count": 47,
   "metadata": {},
   "outputs": [
    {
     "name": "stdout",
     "output_type": "stream",
     "text": [
      "[1, 2, 3, 5, 8, 13, 21, 34, 55]\n"
     ]
    },
    {
     "data": {
      "text/plain": [
       "13"
      ]
     },
     "execution_count": 47,
     "metadata": {},
     "output_type": "execute_result"
    }
   ],
   "source": [
    "trace = traceCalculator(2,8)\n",
    "print(trace)\n",
    "poly = polynomialEvaluation(trace, 1734477367)\n",
    "poly(1734477367**5)"
   ]
  },
  {
   "cell_type": "code",
   "execution_count": 81,
   "metadata": {},
   "outputs": [],
   "source": [
    "def compositonPolynomial(poly, n, boundary, gen):\n",
    "    p1 = (poly-1)/(x-gen**0)\n",
    "    co1 = FiatShamirRandom(p1)\n",
    "    p2 = poly - boundary/(x-gen**n)\n",
    "    co2 = FiatShamirRandom(p2)\n",
    "    p3 = (poly(gen ** 2 * x) - poly(gen * x) - poly(x))*(x-gen**(n-1)) \\\n",
    "        * (x-gen**(n-2))*(x-gen**(n-3))/(x**n-1)\n",
    "    co3 = FiatShamirRandom(p3)\n",
    "    return p1*co1 + p2+co2 + p3*co3"
   ]
  },
  {
   "cell_type": "code",
   "execution_count": 80,
   "metadata": {},
   "outputs": [
    {
     "name": "stdout",
     "output_type": "stream",
     "text": [
      "\n",
      " 2891924103*x^7 + 2704279399*x^6 + 743722202*x^5 + 1959574870*x^4 + 2861294206*x^3 + 52467038*x^2 + 128374948*x + 2458318205 + \n",
      "\n",
      " 2891924103*x^7 + 2704279399*x^6 + 743722202*x^5 + 1959574870*x^4 + 2861294206*x^3 + 52467038*x^2 + 128374948*x + 2458318205\n"
     ]
    }
   ],
   "source": [
    "p = compositonPolynomial(poly , 1000, 1000, 1734477367)\n",
    "print(f\"\\n {p} + \\n\\n {(poly-1)/(x-1)}\")"
   ]
  },
  {
   "cell_type": "code",
   "execution_count": 179,
   "metadata": {},
   "outputs": [],
   "source": [
    "def fiatShamirRandom(data: str) -> int:\n",
    "    rand = int.from_bytes(data.encode('ascii'), \"big\") \n",
    "    return rand%PRIME"
   ]
  },
  {
   "cell_type": "code",
   "execution_count": 180,
   "metadata": {},
   "outputs": [],
   "source": [
    "def sha3(string) -> str:\n",
    "    byte=string.encode('ascii')\n",
    "    m = hashlib.sha3_256()\n",
    "    m.update(byte)\n",
    "    \n",
    "    return m.hexdigest()"
   ]
  },
  {
   "cell_type": "code",
   "execution_count": 181,
   "metadata": {},
   "outputs": [],
   "source": [
    "def merkle(points: list) -> str:\n",
    "    if len(points) <= 1:\n",
    "        return points[0]\n",
    "    squeezed_points = []\n",
    "    for i in range(len(points)//2):\n",
    "        temp_string = ''.join(str(points[i*2]))\n",
    "        temp_string = temp_string.join(str(points[i*2+1]))\n",
    "        squeezed_points.append(sha3(temp_string))\n",
    "    if len(points)%2 == 1:\n",
    "        squeezed_points.append(sha3(''.join(str(points[-1]))))\n",
    "    return merkle(squeezed_points)"
   ]
  },
  {
   "cell_type": "code",
   "execution_count": 182,
   "metadata": {},
   "outputs": [
    {
     "data": {
      "text/plain": [
       "'bf356b7ff2a1dbdfed697f58d8549ae73f9894b74eaba65b21d6d543af0a2647'"
      ]
     },
     "execution_count": 182,
     "metadata": {},
     "output_type": "execute_result"
    }
   ],
   "source": [
    "points = traceCalculator(2, 15)\n",
    "merkle(points)"
   ]
  },
  {
   "cell_type": "code",
   "execution_count": null,
   "metadata": {},
   "outputs": [],
   "source": []
  }
 ],
 "metadata": {
  "kernelspec": {
   "display_name": "SageMath 9.0",
   "language": "sage",
   "name": "sagemath"
  },
  "language_info": {
   "codemirror_mode": {
    "name": "ipython",
    "version": 3
   },
   "file_extension": ".py",
   "mimetype": "text/x-python",
   "name": "python",
   "nbconvert_exporter": "python",
   "pygments_lexer": "ipython3",
   "version": "3.8.10"
  }
 },
 "nbformat": 4,
 "nbformat_minor": 5
}
