{
 "cells": [
  {
   "cell_type": "code",
   "execution_count": 23,
   "metadata": {},
   "outputs": [],
   "source": [
    "import pytest"
   ]
  },
  {
   "cell_type": "code",
   "execution_count": 50,
   "metadata": {},
   "outputs": [],
   "source": [
    "%run Prover.ipynb\n",
    "%run Verifier.ipynb"
   ]
  },
  {
   "cell_type": "code",
   "execution_count": 17,
   "metadata": {},
   "outputs": [],
   "source": [
    "trance_len = 1024\n",
    "trace = trace_calculator(a=a,trance_len=trance_len)\n",
    "#print(trace)\n",
    "poly = polynomial_evaluation(trace=trace, generator=gen1024)\n",
    "# Sainaty check:\n",
    "assert poly(gen1024**Y_INDEX) == trace[Y_INDEX]\n",
    "Y=trace[Y_INDEX]"
   ]
  },
  {
   "cell_type": "code",
   "execution_count": 18,
   "metadata": {},
   "outputs": [],
   "source": [
    "R = FIELD['x']\n",
    "polynomial = R.lagrange_polynomial([(0,0), (1,1), (2,2)])"
   ]
  },
  {
   "cell_type": "code",
   "execution_count": 19,
   "metadata": {},
   "outputs": [
    {
     "data": {
      "text/plain": [
       "'112bda191ff7087fc2d7fda84d713e02eb8cae32817df6a2e2a41224bf81616c'"
      ]
     },
     "execution_count": 19,
     "metadata": {},
     "output_type": "execute_result"
    }
   ],
   "source": [
    "points = trace_calculator(2, 15)\n",
    "merkle(points)"
   ]
  },
  {
   "cell_type": "code",
   "execution_count": 20,
   "metadata": {},
   "outputs": [
    {
     "data": {
      "text/plain": [
       "3221225472"
      ]
     },
     "execution_count": 20,
     "metadata": {},
     "output_type": "execute_result"
    }
   ],
   "source": [
    "trace = []\n",
    "domain = []\n",
    "for i in range (1024):\n",
    "    trace.append(gen1024**i)\n",
    "for i in range (1024):\n",
    "    domain.append(trace[reverse_bit(i, 10)])\n",
    "domain[2]**2"
   ]
  },
  {
   "cell_type": "code",
   "execution_count": 21,
   "metadata": {},
   "outputs": [
    {
     "name": "stdout",
     "output_type": "stream",
     "text": [
      "MerkeTree is done. 16\n"
     ]
    }
   ],
   "source": [
    "#domain = domain_extension(poly=CP, trance_len=16, group_gen=gen8192, field_gen=field_gen)\n",
    "domain = domain_extension(trace_len=16, group_gen=gen8192, field_gen=field_gen)\n",
    "root, merke_tree = commit(poly=copy, domain=domain)\n",
    "#print(merke_tree)"
   ]
  },
  {
   "cell_type": "code",
   "execution_count": 4,
   "metadata": {},
   "outputs": [
    {
     "name": "stdout",
     "output_type": "stream",
     "text": [
      "MerkeTree is done. 8192\n",
      "MerkeTree is done. 8192\n",
      "MerkeTree is done. 8192\n",
      "MerkeTree is done. 8192\n",
      "MerkeTree is done. 8192\n",
      "MerkeTree is done. 4096\n",
      "MerkeTree is done. 2048\n",
      "MerkeTree is done. 1024\n",
      "MerkeTree is done. 512\n",
      "MerkeTree is done. 256\n",
      "MerkeTree is done. 128\n",
      "MerkeTree is done. 64\n",
      "MerkeTree is done. 32\n",
      "MerkeTree is done. 16\n"
     ]
    },
    {
     "data": {
      "text/plain": [
       "((1012759291, 3053494784),\n",
       " {'f7d397c58baffbfe8864bd85daa1bf33d2d93e8a6472815ec58601462d54dfc4': ('da575f2e7d9e460d9b23d50bedee2530d911abcdd2ee468fb47964552940844e',\n",
       "   '4d569f25fde3fb2613520a560cca832850873f0f42c4e600a1b79cf8693b13f4'),\n",
       "  'da575f2e7d9e460d9b23d50bedee2530d911abcdd2ee468fb47964552940844e': ('0b21473c73b25831c854c2385a41fcde7b890df9835953518cf5879641d55c0e',\n",
       "   '8d5c169abd908cf9850915ee9317ff317b712d8f219ebc0ef20e531a72370b31'),\n",
       "  '0b21473c73b25831c854c2385a41fcde7b890df9835953518cf5879641d55c0e': ('ba74beada8a0c0844c401eea96cfc8af1232a58abebecbaaa8083b35b2926ddb',\n",
       "   '04c2acb9568a360703a8bba15084130e1e5a1fca3c55775458876e52fab06e9a'),\n",
       "  'ba74beada8a0c0844c401eea96cfc8af1232a58abebecbaaa8083b35b2926ddb': ('a3d3c65061bb9346725af84abc17c0734f588ec28dcad295a1229bb0a00d4742',\n",
       "   'e5df8dd0da234640b65bba151ac81175eb2b33f6c3bc4b203c19c36022eb5789'),\n",
       "  'e5df8dd0da234640b65bba151ac81175eb2b33f6c3bc4b203c19c36022eb5789': ('4eb4ae751312c581d5111113d3cfdb348f8d67da9f8afd2def582f58cd9bf00a',\n",
       "   'cfbbbe0420f418be23550e443c3d3eb8b23eadae066d9f74b4f9547c71e10606'),\n",
       "  '4eb4ae751312c581d5111113d3cfdb348f8d67da9f8afd2def582f58cd9bf00a': ('ce84cdc17dce870bf26f16991e3e31799fc003e1113aaa69cd515c93f646ded8',\n",
       "   'c73d4949337beb51ed05175dd285ff68dccf3ca10a62992f829979802b2b9e09'),\n",
       "  'c73d4949337beb51ed05175dd285ff68dccf3ca10a62992f829979802b2b9e09': ('6950a5b3818c2b0ada72dde5a2f629d97fd3adc9b6cfce2557c72b329b469a2d',\n",
       "   'aad0f79ca791db7e7c0147954653e7e0401592317b6839c12094b658abe927e8'),\n",
       "  '6950a5b3818c2b0ada72dde5a2f629d97fd3adc9b6cfce2557c72b329b469a2d': ('560ef93d5ce7ec52593da5894629cd4c931e8473ba9fef3b992b5e58baa8373e',\n",
       "   '58645be14a49124134632e72aa29580ae10e98530bed6f68fde690eb7b6e7cb1'),\n",
       "  '560ef93d5ce7ec52593da5894629cd4c931e8473ba9fef3b992b5e58baa8373e': ('22615f835f8166ac4bcfee8df671f5e0ef29b3701bfccec7266d32c1de0fcd07',\n",
       "   'd5187692f0a8f72de02514451fda507e7ef6a3d412b1a9d8b1f0660d687f2629'),\n",
       "  'd5187692f0a8f72de02514451fda507e7ef6a3d412b1a9d8b1f0660d687f2629': ('9c7873e144a0db32ba03ea5bb98eca18b19e302d43c0750bcf0b00b4781c3e16',\n",
       "   'd7dfe9221ff5d3643c611d65273a0bfbe94d3fbf12fea43d530cee5220637d3e'),\n",
       "  '9c7873e144a0db32ba03ea5bb98eca18b19e302d43c0750bcf0b00b4781c3e16': (1012759291,\n",
       "   3053494784)})"
      ]
     },
     "execution_count": 4,
     "metadata": {},
     "output_type": "execute_result"
    }
   ],
   "source": [
    "proof = prove(2, 1024, 1000)\n",
    "proof[1][3]['pathes'][1][0][0]"
   ]
  },
  {
   "cell_type": "code",
   "execution_count": 51,
   "metadata": {},
   "outputs": [],
   "source": [
    "verifier1 = Verifier_first_stage()\n",
    "verifier1.verify(proof_stage_one=proof[0], domian_size=8192)"
   ]
  },
  {
   "cell_type": "code",
   "execution_count": 48,
   "metadata": {},
   "outputs": [
    {
     "name": "stdout",
     "output_type": "stream",
     "text": [
      "MerkeTree is done. 8192\n",
      "MerkeTree is done. 8192\n",
      "MerkeTree is done. 8192\n",
      "MerkeTree is done. 8192\n",
      "MerkeTree is done. 8192\n",
      "MerkeTree is done. 4096\n",
      "MerkeTree is done. 2048\n",
      "MerkeTree is done. 1024\n",
      "MerkeTree is done. 512\n",
      "MerkeTree is done. 256\n",
      "MerkeTree is done. 128\n",
      "MerkeTree is done. 64\n",
      "MerkeTree is done. 32\n",
      "MerkeTree is done. 16\n"
     ]
    },
    {
     "data": {
      "text/plain": [
       "True"
      ]
     },
     "execution_count": 48,
     "metadata": {},
     "output_type": "execute_result"
    }
   ],
   "source": [
    "proof = prove(2, 1024, 1000)\n",
    "verify_second_stage(proof[1],proof[0]['cp']['root'],1024)"
   ]
  },
  {
   "cell_type": "code",
   "execution_count": null,
   "metadata": {},
   "outputs": [],
   "source": []
  }
 ],
 "metadata": {
  "kernelspec": {
   "display_name": "SageMath 9.0",
   "language": "sage",
   "name": "sagemath"
  },
  "language_info": {
   "codemirror_mode": {
    "name": "ipython",
    "version": 3
   },
   "file_extension": ".py",
   "mimetype": "text/x-python",
   "name": "python",
   "nbconvert_exporter": "python",
   "pygments_lexer": "ipython3",
   "version": "3.8.10"
  }
 },
 "nbformat": 4,
 "nbformat_minor": 4
}
