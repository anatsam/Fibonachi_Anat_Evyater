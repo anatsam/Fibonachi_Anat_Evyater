{
 "cells": [
  {
   "cell_type": "code",
   "execution_count": 1,
   "metadata": {},
   "outputs": [],
   "source": [
    "import pytest"
   ]
  },
  {
   "cell_type": "code",
   "execution_count": 2,
   "metadata": {},
   "outputs": [],
   "source": [
    "%run Prover.ipynb\n",
    "%run Verifier.ipynb"
   ]
  },
  {
   "cell_type": "code",
   "execution_count": 3,
   "metadata": {},
   "outputs": [],
   "source": [
    "trance_len = 1024\n",
    "trace = trace_calculator(a=a,trance_len=trance_len)\n",
    "#print(trace)\n",
    "poly = polynomial_evaluation(trace=trace, generator=gen1024)\n",
    "# Sainaty check:\n",
    "assert poly(gen1024**Y_INDEX) == trace[Y_INDEX]\n",
    "Y=trace[Y_INDEX]"
   ]
  },
  {
   "cell_type": "code",
   "execution_count": 4,
   "metadata": {},
   "outputs": [],
   "source": [
    "R = FIELD['x']\n",
    "polynomial = R.lagrange_polynomial([(0,0), (1,1), (2,2)])"
   ]
  },
  {
   "cell_type": "code",
   "execution_count": 5,
   "metadata": {},
   "outputs": [],
   "source": [
    "points = trace_calculator(2, 15)\n",
    "#merkle(points)"
   ]
  },
  {
   "cell_type": "code",
   "execution_count": 6,
   "metadata": {},
   "outputs": [
    {
     "data": {
      "text/plain": [
       "3221225472"
      ]
     },
     "execution_count": 6,
     "metadata": {},
     "output_type": "execute_result"
    }
   ],
   "source": [
    "trace = []\n",
    "domain = []\n",
    "for i in range (1024):\n",
    "    trace.append(gen1024**i)\n",
    "for i in range (1024):\n",
    "    domain.append(trace[reverse_bit(i, 10)])\n",
    "domain[2]**2"
   ]
  },
  {
   "cell_type": "code",
   "execution_count": 7,
   "metadata": {},
   "outputs": [
    {
     "name": "stdout",
     "output_type": "stream",
     "text": [
      "MerkeTree is done. 8192\n"
     ]
    }
   ],
   "source": [
    "#domain = domain_extension(poly=CP, trance_len=16, group_gen=gen8192, field_gen=field_gen)\n",
    "domain = domain_extension(trace_len=8192, group_gen=gen8192, field_gen=field_gen)\n",
    "root, merke_tree = commit(poly=copy, domain=domain)\n",
    "#print(merke_tree)"
   ]
  },
  {
   "cell_type": "code",
   "execution_count": 8,
   "metadata": {},
   "outputs": [
    {
     "name": "stdout",
     "output_type": "stream",
     "text": [
      "MerkeTree is done. 8192\n",
      "MerkeTree is done. 4096\n",
      "MerkeTree is done. 2048\n",
      "MerkeTree is done. 1024\n",
      "MerkeTree is done. 512\n",
      "MerkeTree is done. 256\n",
      "MerkeTree is done. 128\n",
      "MerkeTree is done. 64\n",
      "MerkeTree is done. 32\n",
      "MerkeTree is done. 16\n"
     ]
    },
    {
     "data": {
      "text/plain": [
       "True"
      ]
     },
     "execution_count": 8,
     "metadata": {},
     "output_type": "execute_result"
    }
   ],
   "source": [
    "%run Prover.ipynb\n",
    "%run Verifier.ipynb\n",
    "\n",
    "root = 'd9a2cf72e0932fcb8ff44e1b254c44f965eacb084edb67ce521d94dc501f6b44'\n",
    "_, Y = create_excecution_trace(a=2, trace_length=1024, destination=Y_INDEX)\n",
    "proof_stage_two = fri(poly, domain,1024,8)\n",
    "verify_second_stage(proof_stage_two,root,1024,8)"
   ]
  },
  {
   "cell_type": "code",
   "execution_count": 9,
   "metadata": {},
   "outputs": [
    {
     "name": "stdout",
     "output_type": "stream",
     "text": [
      "0.1\n",
      "0.2\n",
      "MerkeTree is done. 8192\n",
      "MerkeTree is done. 8192\n",
      "MerkeTree is done. 8192\n",
      "MerkeTree is done. 8192\n",
      "0.3\n",
      "MerkeTree is done. 8192\n",
      "MerkeTree is done. 4096\n",
      "MerkeTree is done. 2048\n",
      "MerkeTree is done. 1024\n",
      "MerkeTree is done. 512\n",
      "MerkeTree is done. 256\n",
      "MerkeTree is done. 128\n",
      "MerkeTree is done. 64\n",
      "MerkeTree is done. 32\n",
      "MerkeTree is done. 16\n",
      "1\n",
      "1.1\n",
      "1.2\n",
      "1.3 : name='p1'\n",
      "1.31 : index=1597\n",
      "1.32 : index=1597\n",
      "1.31 : index=1596\n",
      "1.32 : index=1596\n",
      "1.31 : index=3155\n",
      "1.32 : index=3155\n",
      "1.31 : index=3154\n",
      "1.32 : index=3154\n",
      "1.31 : index=4379\n",
      "1.32 : index=4379\n",
      "1.31 : index=4378\n",
      "1.32 : index=4378\n",
      "1.31 : index=7912\n",
      "1.32 : index=7912\n",
      "1.31 : index=7913\n",
      "1.32 : index=7913\n",
      "1.3 : name='p2'\n",
      "1.31 : index=1597\n",
      "1.32 : index=1597\n",
      "1.31 : index=1596\n",
      "1.32 : index=1596\n",
      "1.31 : index=3155\n",
      "1.32 : index=3155\n",
      "1.31 : index=3154\n",
      "1.32 : index=3154\n",
      "1.31 : index=4379\n",
      "1.32 : index=4379\n",
      "1.31 : index=4378\n",
      "1.32 : index=4378\n",
      "1.31 : index=7912\n",
      "1.32 : index=7912\n",
      "1.31 : index=7913\n",
      "1.32 : index=7913\n",
      "1.3 : name='p3'\n",
      "1.31 : index=1597\n",
      "1.32 : index=1597\n",
      "1.31 : index=1596\n",
      "1.32 : index=1596\n",
      "1.31 : index=3155\n",
      "1.32 : index=3155\n",
      "1.31 : index=3154\n",
      "1.32 : index=3154\n",
      "1.31 : index=4379\n",
      "1.32 : index=4379\n",
      "1.31 : index=4378\n",
      "1.32 : index=4378\n",
      "1.31 : index=7912\n",
      "1.32 : index=7912\n",
      "1.31 : index=7913\n",
      "1.32 : index=7913\n",
      "1.3 : name='cp'\n",
      "1.31 : index=1597\n",
      "1.32 : index=1597\n",
      "1.31 : index=1596\n",
      "1.32 : index=1596\n",
      "1.31 : index=3155\n",
      "1.32 : index=3155\n",
      "1.31 : index=3154\n",
      "1.32 : index=3154\n",
      "1.31 : index=4379\n",
      "1.32 : index=4379\n",
      "1.31 : index=4378\n",
      "1.32 : index=4378\n",
      "1.31 : index=7912\n",
      "1.32 : index=7912\n",
      "1.31 : index=7913\n",
      "1.32 : index=7913\n",
      "1.4\n",
      "1.5 index=1597\n",
      "1.5 index=1596\n",
      "1.5 index=3155\n",
      "1.5 index=3154\n",
      "1.5 index=4379\n",
      "1.5 index=4378\n",
      "1.5 index=7912\n",
      "1.5 index=7913\n",
      "1.6\n"
     ]
    }
   ],
   "source": [
    "trace, Y = create_excecution_trace(a=a, trace_length=1024, destination=Y_INDEX)\n",
    "proof = prove(2, 1024, Y_INDEX)\n",
    "#proof[1][3]['pathes'][1][0][0]"
   ]
  },
  {
   "cell_type": "code",
   "execution_count": null,
   "metadata": {},
   "outputs": [
    {
     "name": "stdout",
     "output_type": "stream",
     "text": [
      "0\n",
      "0.1\n",
      "0.2\n",
      "MerkeTree is done. 8192\n",
      "MerkeTree is done. 8192\n",
      "MerkeTree is done. 8192\n",
      "MerkeTree is done. 8192\n",
      "0.301\n",
      "MerkeTree is done. 8192\n",
      "MerkeTree is done. 4096\n"
     ]
    }
   ],
   "source": [
    "%run Prover.ipynb\n",
    "%run Verifier.ipynb\n",
    "\n",
    "_, Y = create_excecution_trace(a=2, trace_length=1024, destination=Y_INDEX)\n",
    "print(\"0\")\n",
    "proof = prove(a=2, trace_length=1024, destination=Y_INDEX, queries=8)\n",
    "print(\"1\")\n",
    "verifier1 = Verifier_first_stage(Y=Y, Y_index=Y_INDEX, excecution_trace_length= 1024, num_of_queries= 8) \n",
    "verifier1.verify(proof_stage_one=proof[0], proof_stage_two=proof[1])\n",
    "verify_second_stage(proof[1],proof[0]['cp']['root'],1024,8)"
   ]
  },
  {
   "cell_type": "code",
   "execution_count": null,
   "metadata": {},
   "outputs": [],
   "source": []
  },
  {
   "cell_type": "code",
   "execution_count": null,
   "metadata": {},
   "outputs": [],
   "source": []
  }
 ],
 "metadata": {
  "kernelspec": {
   "display_name": "SageMath 9.0",
   "language": "sage",
   "name": "sagemath"
  },
  "language_info": {
   "codemirror_mode": {
    "name": "ipython",
    "version": 3
   },
   "file_extension": ".py",
   "mimetype": "text/x-python",
   "name": "python",
   "nbconvert_exporter": "python",
   "pygments_lexer": "ipython3",
   "version": "3.8.10"
  }
 },
 "nbformat": 4,
 "nbformat_minor": 4
}
