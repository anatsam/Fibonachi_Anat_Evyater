{
 "cells": [
  {
   "cell_type": "code",
   "execution_count": 31,
   "metadata": {},
   "outputs": [],
   "source": [
    "import pytest"
   ]
  },
  {
   "cell_type": "code",
   "execution_count": 32,
   "metadata": {},
   "outputs": [],
   "source": [
    "%run Prover.ipynb\n",
    "%run Verifier.ipynb"
   ]
  },
  {
   "cell_type": "code",
   "execution_count": 33,
   "metadata": {},
   "outputs": [],
   "source": [
    "trance_len = 1024\n",
    "trace = trace_calculator(a=a,trance_len=trance_len)\n",
    "#print(trace)\n",
    "poly = polynomial_evaluation(trace=trace, generator=gen1024)\n",
    "# Sainaty check:\n",
    "assert poly(gen1024**Y_INDEX) == trace[Y_INDEX]\n",
    "Y=trace[Y_INDEX]"
   ]
  },
  {
   "cell_type": "code",
   "execution_count": 34,
   "metadata": {},
   "outputs": [],
   "source": [
    "R = FIELD['x']\n",
    "polynomial = R.lagrange_polynomial([(0,0), (1,1), (2,2)])"
   ]
  },
  {
   "cell_type": "code",
   "execution_count": 35,
   "metadata": {},
   "outputs": [],
   "source": [
    "points = trace_calculator(2, 15)\n",
    "#merkle(points)"
   ]
  },
  {
   "cell_type": "code",
   "execution_count": 36,
   "metadata": {},
   "outputs": [
    {
     "data": {
      "text/plain": [
       "3221225472"
      ]
     },
     "execution_count": 36,
     "metadata": {},
     "output_type": "execute_result"
    }
   ],
   "source": [
    "trace = []\n",
    "domain = []\n",
    "for i in range (1024):\n",
    "    trace.append(gen1024**i)\n",
    "for i in range (1024):\n",
    "    domain.append(trace[reverse_bit(i, 10)])\n",
    "domain[2]**2"
   ]
  },
  {
   "cell_type": "code",
   "execution_count": 37,
   "metadata": {},
   "outputs": [
    {
     "name": "stdout",
     "output_type": "stream",
     "text": [
      "MerkeTree is done. 16\n"
     ]
    }
   ],
   "source": [
    "#domain = domain_extension(poly=CP, trance_len=16, group_gen=gen8192, field_gen=field_gen)\n",
    "domain = domain_extension(trace_len=16, group_gen=gen8192, field_gen=field_gen)\n",
    "root, merke_tree = commit(poly=copy, domain=domain)\n",
    "#print(merke_tree)"
   ]
  },
  {
   "cell_type": "code",
   "execution_count": 38,
   "metadata": {},
   "outputs": [
    {
     "name": "stdout",
     "output_type": "stream",
     "text": [
      "MerkeTree is done. 8192\n",
      "MerkeTree is done. 8192\n",
      "MerkeTree is done. 8192\n",
      "MerkeTree is done. 8192\n",
      "MerkeTree is done. 8192\n",
      "MerkeTree is done. 4096\n",
      "MerkeTree is done. 2048\n",
      "MerkeTree is done. 1024\n",
      "MerkeTree is done. 512\n",
      "MerkeTree is done. 256\n",
      "MerkeTree is done. 128\n",
      "MerkeTree is done. 64\n",
      "MerkeTree is done. 32\n",
      "MerkeTree is done. 16\n"
     ]
    },
    {
     "data": {
      "text/plain": [
       "2974629911"
      ]
     },
     "execution_count": 38,
     "metadata": {},
     "output_type": "execute_result"
    }
   ],
   "source": [
    "trace, Y = create_excecution_trace(a=a, trace_length=1024, destination=Y_INDEX)\n",
    "proof = prove(2, 1024, Y_INDEX)\n",
    "proof[1][3]['pathes'][1][0][0]"
   ]
  },
  {
   "cell_type": "code",
   "execution_count": 41,
   "metadata": {},
   "outputs": [],
   "source": [
    "verifier1 = Verifier_first_stage(Y=Y, Y_index=Y_INDEX, excecution_trace_length= 1024, num_of_queries= 8) \n",
    "verifier1.verify(proof_stage_one=proof[0])"
   ]
  },
  {
   "cell_type": "code",
   "execution_count": 42,
   "metadata": {},
   "outputs": [
    {
     "name": "stdout",
     "output_type": "stream",
     "text": [
      "MerkeTree is done. 8192\n",
      "MerkeTree is done. 8192\n",
      "MerkeTree is done. 8192\n",
      "MerkeTree is done. 8192\n",
      "MerkeTree is done. 8192\n",
      "MerkeTree is done. 4096\n",
      "MerkeTree is done. 2048\n",
      "MerkeTree is done. 1024\n",
      "MerkeTree is done. 512\n",
      "MerkeTree is done. 256\n",
      "MerkeTree is done. 128\n",
      "MerkeTree is done. 64\n",
      "MerkeTree is done. 32\n",
      "MerkeTree is done. 16\n"
     ]
    },
    {
     "data": {
      "text/plain": [
       "True"
      ]
     },
     "execution_count": 42,
     "metadata": {},
     "output_type": "execute_result"
    }
   ],
   "source": [
    "proof = prove(2, 1024, Y_INDEX)\n",
    "verifier1 = Verifier_first_stage(Y=Y, Y_index=Y_INDEX, excecution_trace_length= 1024, num_of_queries= 8) \n",
    "verifier1.verify(proof_stage_one=proof[0])\n",
    "verify_second_stage(proof[1],proof[0]['cp']['root'],1024)"
   ]
  },
  {
   "cell_type": "code",
   "execution_count": null,
   "metadata": {},
   "outputs": [],
   "source": []
  }
 ],
 "metadata": {
  "kernelspec": {
   "display_name": "SageMath 9.0",
   "language": "sage",
   "name": "sagemath"
  },
  "language_info": {
   "codemirror_mode": {
    "name": "ipython",
    "version": 3
   },
   "file_extension": ".py",
   "mimetype": "text/x-python",
   "name": "python",
   "nbconvert_exporter": "python",
   "pygments_lexer": "ipython3",
   "version": "3.8.10"
  }
 },
 "nbformat": 4,
 "nbformat_minor": 4
}
