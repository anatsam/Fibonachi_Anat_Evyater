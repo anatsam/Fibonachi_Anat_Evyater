{
 "cells": [
  {
   "cell_type": "code",
   "execution_count": 15,
   "metadata": {},
   "outputs": [],
   "source": [
    "import pytest"
   ]
  },
  {
   "cell_type": "code",
   "execution_count": 16,
   "metadata": {},
   "outputs": [],
   "source": [
    "%run Prover.ipynb\n",
    "%run Verifier.ipynb"
   ]
  },
  {
   "cell_type": "code",
   "execution_count": 17,
   "metadata": {},
   "outputs": [],
   "source": [
    "trance_len = 1024\n",
    "trace = trace_calculator(a=a,trance_len=trance_len)\n",
    "#print(trace)\n",
    "poly = polynomial_evaluation(trace=trace, generator=gen1024)\n",
    "# Sainaty check:\n",
    "assert poly(gen1024**Y_INDEX) == trace[Y_INDEX]\n",
    "Y=trace[Y_INDEX]"
   ]
  },
  {
   "cell_type": "code",
   "execution_count": 18,
   "metadata": {},
   "outputs": [],
   "source": [
    "R = FIELD['x']\n",
    "polynomial = R.lagrange_polynomial([(0,0), (1,1), (2,2)])"
   ]
  },
  {
   "cell_type": "code",
   "execution_count": 19,
   "metadata": {},
   "outputs": [
    {
     "data": {
      "text/plain": [
       "'112bda191ff7087fc2d7fda84d713e02eb8cae32817df6a2e2a41224bf81616c'"
      ]
     },
     "execution_count": 19,
     "metadata": {},
     "output_type": "execute_result"
    }
   ],
   "source": [
    "points = trace_calculator(2, 15)\n",
    "merkle(points)"
   ]
  },
  {
   "cell_type": "code",
   "execution_count": 20,
   "metadata": {},
   "outputs": [
    {
     "data": {
      "text/plain": [
       "3221225472"
      ]
     },
     "execution_count": 20,
     "metadata": {},
     "output_type": "execute_result"
    }
   ],
   "source": [
    "trace = []\n",
    "domain = []\n",
    "for i in range (1024):\n",
    "    trace.append(gen1024**i)\n",
    "for i in range (1024):\n",
    "    domain.append(trace[reverse_bit(i, 10)])\n",
    "domain[2]**2"
   ]
  },
  {
   "cell_type": "code",
   "execution_count": 21,
   "metadata": {},
   "outputs": [
    {
     "name": "stdout",
     "output_type": "stream",
     "text": [
      "MerkeTree is done. 16\n"
     ]
    }
   ],
   "source": [
    "#domain = domain_extension(poly=CP, trance_len=16, group_gen=gen8192, field_gen=field_gen)\n",
    "domain = domain_extension(trace_len=16, group_gen=gen8192, field_gen=field_gen)\n",
    "root, merke_tree = commit(poly=copy, domain=domain)\n",
    "#print(merke_tree)"
   ]
  },
  {
   "cell_type": "code",
   "execution_count": 22,
   "metadata": {},
   "outputs": [
    {
     "name": "stdout",
     "output_type": "stream",
     "text": [
      "MerkeTree is done. 8192\n",
      "MerkeTree is done. 8192\n",
      "MerkeTree is done. 8192\n",
      "MerkeTree is done. 8192\n",
      "MerkeTree is done. 8192\n",
      "MerkeTree is done. 4096\n",
      "MerkeTree is done. 2048\n",
      "MerkeTree is done. 1024\n",
      "MerkeTree is done. 512\n",
      "MerkeTree is done. 256\n",
      "MerkeTree is done. 128\n",
      "MerkeTree is done. 64\n",
      "MerkeTree is done. 32\n",
      "MerkeTree is done. 16\n"
     ]
    },
    {
     "data": {
      "text/plain": [
       "[((951016390, 1109021098),\n",
       "  {'f7d397c58baffbfe8864bd85daa1bf33d2d93e8a6472815ec58601462d54dfc4': ('da575f2e7d9e460d9b23d50bedee2530d911abcdd2ee468fb47964552940844e',\n",
       "    '4d569f25fde3fb2613520a560cca832850873f0f42c4e600a1b79cf8693b13f4'),\n",
       "   'da575f2e7d9e460d9b23d50bedee2530d911abcdd2ee468fb47964552940844e': ('0b21473c73b25831c854c2385a41fcde7b890df9835953518cf5879641d55c0e',\n",
       "    '8d5c169abd908cf9850915ee9317ff317b712d8f219ebc0ef20e531a72370b31'),\n",
       "   '8d5c169abd908cf9850915ee9317ff317b712d8f219ebc0ef20e531a72370b31': ('695aa4c4a6c632b1ee0fd7c5a2d64cf66e4589c48b9fffe4ec8a9c6a830b233d',\n",
       "    '8624a9a293613dc76bdab594e374c7e30b6811695278dffe1ebf56f6cb8d86bb'),\n",
       "   '695aa4c4a6c632b1ee0fd7c5a2d64cf66e4589c48b9fffe4ec8a9c6a830b233d': ('6f8663ff2f0e899888021c1ef58f32b311119e01a6eb256a44ce6221a4944e35',\n",
       "    '39fd8ccb90d86756d4fb53627455dd9ef034b57660af83381ec4a80088f4c12e'),\n",
       "   '39fd8ccb90d86756d4fb53627455dd9ef034b57660af83381ec4a80088f4c12e': ('1cca4bff3455e99194f6073bbd83697351b06047617bb61d99987d6f451cef4e',\n",
       "    '3769552958873e38bee46a36f4e24174fcfa0b7d035897d1fe6b7bdcfc1ba386'),\n",
       "   '1cca4bff3455e99194f6073bbd83697351b06047617bb61d99987d6f451cef4e': ('a45bb3556329abd634a68bd5c6c60b2d822838139d5273a67fb8e71bfa5c5176',\n",
       "    '53f9c40bb0db3fa243b89c72f76b9b1cb98812256aafec283959f1cf74acc628'),\n",
       "   'a45bb3556329abd634a68bd5c6c60b2d822838139d5273a67fb8e71bfa5c5176': ('1be0595c782bca2e647d82c19e307d1f2f89afd638c1b78b41ef86af7dc7885c',\n",
       "    'c9b258fc50decbd033ab3e35be421d9582bcb6de282fdc2b6c46537995c26151'),\n",
       "   '1be0595c782bca2e647d82c19e307d1f2f89afd638c1b78b41ef86af7dc7885c': ('2b7dcb5e9c9898a753c6a0bfec450dbc38b7cae67341f92efa8b9151a5938f73',\n",
       "    '2522713ec807106074d069385b4452740a75d9b101cffc3c34097f01ddffbf33'),\n",
       "   '2522713ec807106074d069385b4452740a75d9b101cffc3c34097f01ddffbf33': ('ca399a15e813c6adf6ae2cadf41a9e0a4846c36f5e906e452d5cd9798b94ff24',\n",
       "    '1741dec95648eeecf9d7b049f612b24c642a061e331d321d8c7542cdd61454f9'),\n",
       "   'ca399a15e813c6adf6ae2cadf41a9e0a4846c36f5e906e452d5cd9798b94ff24': ('a1eb313b1e03f468f5919bff6cd73974496a68bd2ece483a92146507ebf4cf50',\n",
       "    '049bcbc85ff3deeae1e654d452a0a8c72fb4b7416c66b1e20a93f41a53fc8f9c'),\n",
       "   '049bcbc85ff3deeae1e654d452a0a8c72fb4b7416c66b1e20a93f41a53fc8f9c': (951016390,\n",
       "    1109021098)}),\n",
       " ((1012759291, 3053494784),\n",
       "  {'f7d397c58baffbfe8864bd85daa1bf33d2d93e8a6472815ec58601462d54dfc4': ('da575f2e7d9e460d9b23d50bedee2530d911abcdd2ee468fb47964552940844e',\n",
       "    '4d569f25fde3fb2613520a560cca832850873f0f42c4e600a1b79cf8693b13f4'),\n",
       "   'da575f2e7d9e460d9b23d50bedee2530d911abcdd2ee468fb47964552940844e': ('0b21473c73b25831c854c2385a41fcde7b890df9835953518cf5879641d55c0e',\n",
       "    '8d5c169abd908cf9850915ee9317ff317b712d8f219ebc0ef20e531a72370b31'),\n",
       "   '0b21473c73b25831c854c2385a41fcde7b890df9835953518cf5879641d55c0e': ('ba74beada8a0c0844c401eea96cfc8af1232a58abebecbaaa8083b35b2926ddb',\n",
       "    '04c2acb9568a360703a8bba15084130e1e5a1fca3c55775458876e52fab06e9a'),\n",
       "   'ba74beada8a0c0844c401eea96cfc8af1232a58abebecbaaa8083b35b2926ddb': ('a3d3c65061bb9346725af84abc17c0734f588ec28dcad295a1229bb0a00d4742',\n",
       "    'e5df8dd0da234640b65bba151ac81175eb2b33f6c3bc4b203c19c36022eb5789'),\n",
       "   'e5df8dd0da234640b65bba151ac81175eb2b33f6c3bc4b203c19c36022eb5789': ('4eb4ae751312c581d5111113d3cfdb348f8d67da9f8afd2def582f58cd9bf00a',\n",
       "    'cfbbbe0420f418be23550e443c3d3eb8b23eadae066d9f74b4f9547c71e10606'),\n",
       "   '4eb4ae751312c581d5111113d3cfdb348f8d67da9f8afd2def582f58cd9bf00a': ('ce84cdc17dce870bf26f16991e3e31799fc003e1113aaa69cd515c93f646ded8',\n",
       "    'c73d4949337beb51ed05175dd285ff68dccf3ca10a62992f829979802b2b9e09'),\n",
       "   'c73d4949337beb51ed05175dd285ff68dccf3ca10a62992f829979802b2b9e09': ('6950a5b3818c2b0ada72dde5a2f629d97fd3adc9b6cfce2557c72b329b469a2d',\n",
       "    'aad0f79ca791db7e7c0147954653e7e0401592317b6839c12094b658abe927e8'),\n",
       "   '6950a5b3818c2b0ada72dde5a2f629d97fd3adc9b6cfce2557c72b329b469a2d': ('560ef93d5ce7ec52593da5894629cd4c931e8473ba9fef3b992b5e58baa8373e',\n",
       "    '58645be14a49124134632e72aa29580ae10e98530bed6f68fde690eb7b6e7cb1'),\n",
       "   '560ef93d5ce7ec52593da5894629cd4c931e8473ba9fef3b992b5e58baa8373e': ('22615f835f8166ac4bcfee8df671f5e0ef29b3701bfccec7266d32c1de0fcd07',\n",
       "    'd5187692f0a8f72de02514451fda507e7ef6a3d412b1a9d8b1f0660d687f2629'),\n",
       "   'd5187692f0a8f72de02514451fda507e7ef6a3d412b1a9d8b1f0660d687f2629': ('9c7873e144a0db32ba03ea5bb98eca18b19e302d43c0750bcf0b00b4781c3e16',\n",
       "    'd7dfe9221ff5d3643c611d65273a0bfbe94d3fbf12fea43d530cee5220637d3e'),\n",
       "   '9c7873e144a0db32ba03ea5bb98eca18b19e302d43c0750bcf0b00b4781c3e16': (1012759291,\n",
       "    3053494784)}),\n",
       " ((374152672, 171844016),\n",
       "  {'f7d397c58baffbfe8864bd85daa1bf33d2d93e8a6472815ec58601462d54dfc4': ('da575f2e7d9e460d9b23d50bedee2530d911abcdd2ee468fb47964552940844e',\n",
       "    '4d569f25fde3fb2613520a560cca832850873f0f42c4e600a1b79cf8693b13f4'),\n",
       "   'da575f2e7d9e460d9b23d50bedee2530d911abcdd2ee468fb47964552940844e': ('0b21473c73b25831c854c2385a41fcde7b890df9835953518cf5879641d55c0e',\n",
       "    '8d5c169abd908cf9850915ee9317ff317b712d8f219ebc0ef20e531a72370b31'),\n",
       "   '8d5c169abd908cf9850915ee9317ff317b712d8f219ebc0ef20e531a72370b31': ('695aa4c4a6c632b1ee0fd7c5a2d64cf66e4589c48b9fffe4ec8a9c6a830b233d',\n",
       "    '8624a9a293613dc76bdab594e374c7e30b6811695278dffe1ebf56f6cb8d86bb'),\n",
       "   '8624a9a293613dc76bdab594e374c7e30b6811695278dffe1ebf56f6cb8d86bb': ('a91021fa82c45adaa0161677c6c685275415d326bed79fdf39e7564d4937adc5',\n",
       "    '54bcc174cb0d5b8eda11f72a797e8c957a4923a21ae344e56efc1ee418a44f2a'),\n",
       "   'a91021fa82c45adaa0161677c6c685275415d326bed79fdf39e7564d4937adc5': ('2b41b78d33f71a8ffcbdc9cca696e8b964310992051a1988993cb05dcdd1a949',\n",
       "    'cbbf974694c239ab3aa97ae3f5606c39e641bf9f3188dd7f0a68affc21c5cd9c'),\n",
       "   '2b41b78d33f71a8ffcbdc9cca696e8b964310992051a1988993cb05dcdd1a949': ('372fd8b23c0019cc63f7fdf2e6f507b22c6d582d12216192db8daa397ce6d68c',\n",
       "    '5f1d44987b20e2e99ceaf3889b58c3b29f256831dfd4f67d9654bb777af0778b'),\n",
       "   '5f1d44987b20e2e99ceaf3889b58c3b29f256831dfd4f67d9654bb777af0778b': ('ab733972d44ae00ee2fd9d73ee0b6f0b93f7928b7355f09b44b28665b2594d93',\n",
       "    'ff3af16e8e55d768ca4a5d654ef8f48ce2178be4a25890c3e028d129d71d17f3'),\n",
       "   'ab733972d44ae00ee2fd9d73ee0b6f0b93f7928b7355f09b44b28665b2594d93': ('7c729c3b56db9bf909e4701a641718e546598386c979961364925c98d598d225',\n",
       "    'c15194d55b2e25ca9267326b69c811ba6718afde2be6af336e0185f76c614611'),\n",
       "   'c15194d55b2e25ca9267326b69c811ba6718afde2be6af336e0185f76c614611': ('0f124677b4c5a650daeb81f320c8e2278bfdaf7a5790dbcdbf5fa397674ef0f2',\n",
       "    '7bed522a736cd68f75dbc7f8a96fd781e70a86cc45aeac5bb13b13ecd8125428'),\n",
       "   '7bed522a736cd68f75dbc7f8a96fd781e70a86cc45aeac5bb13b13ecd8125428': ('c8be954c0b3b0bbe97ea54ecd78c377efc9be88b67f6e68f56930fbe49b426eb',\n",
       "    '3772fd3b80669e651cc09654870831188ec9d0298409a511216a4e0d8578b585'),\n",
       "   '3772fd3b80669e651cc09654870831188ec9d0298409a511216a4e0d8578b585': (374152672,\n",
       "    171844016)}),\n",
       " ((3113988432, 757698004),\n",
       "  {'f7d397c58baffbfe8864bd85daa1bf33d2d93e8a6472815ec58601462d54dfc4': ('da575f2e7d9e460d9b23d50bedee2530d911abcdd2ee468fb47964552940844e',\n",
       "    '4d569f25fde3fb2613520a560cca832850873f0f42c4e600a1b79cf8693b13f4'),\n",
       "   'da575f2e7d9e460d9b23d50bedee2530d911abcdd2ee468fb47964552940844e': ('0b21473c73b25831c854c2385a41fcde7b890df9835953518cf5879641d55c0e',\n",
       "    '8d5c169abd908cf9850915ee9317ff317b712d8f219ebc0ef20e531a72370b31'),\n",
       "   '8d5c169abd908cf9850915ee9317ff317b712d8f219ebc0ef20e531a72370b31': ('695aa4c4a6c632b1ee0fd7c5a2d64cf66e4589c48b9fffe4ec8a9c6a830b233d',\n",
       "    '8624a9a293613dc76bdab594e374c7e30b6811695278dffe1ebf56f6cb8d86bb'),\n",
       "   '8624a9a293613dc76bdab594e374c7e30b6811695278dffe1ebf56f6cb8d86bb': ('a91021fa82c45adaa0161677c6c685275415d326bed79fdf39e7564d4937adc5',\n",
       "    '54bcc174cb0d5b8eda11f72a797e8c957a4923a21ae344e56efc1ee418a44f2a'),\n",
       "   'a91021fa82c45adaa0161677c6c685275415d326bed79fdf39e7564d4937adc5': ('2b41b78d33f71a8ffcbdc9cca696e8b964310992051a1988993cb05dcdd1a949',\n",
       "    'cbbf974694c239ab3aa97ae3f5606c39e641bf9f3188dd7f0a68affc21c5cd9c'),\n",
       "   '2b41b78d33f71a8ffcbdc9cca696e8b964310992051a1988993cb05dcdd1a949': ('372fd8b23c0019cc63f7fdf2e6f507b22c6d582d12216192db8daa397ce6d68c',\n",
       "    '5f1d44987b20e2e99ceaf3889b58c3b29f256831dfd4f67d9654bb777af0778b'),\n",
       "   '5f1d44987b20e2e99ceaf3889b58c3b29f256831dfd4f67d9654bb777af0778b': ('ab733972d44ae00ee2fd9d73ee0b6f0b93f7928b7355f09b44b28665b2594d93',\n",
       "    'ff3af16e8e55d768ca4a5d654ef8f48ce2178be4a25890c3e028d129d71d17f3'),\n",
       "   'ab733972d44ae00ee2fd9d73ee0b6f0b93f7928b7355f09b44b28665b2594d93': ('7c729c3b56db9bf909e4701a641718e546598386c979961364925c98d598d225',\n",
       "    'c15194d55b2e25ca9267326b69c811ba6718afde2be6af336e0185f76c614611'),\n",
       "   '7c729c3b56db9bf909e4701a641718e546598386c979961364925c98d598d225': ('f5eff64ed0b6ef77190dfed55acdab68ba5b927f5aba0c721dc190616c16e64c',\n",
       "    '49a35e413e4d112324b014b298a8d6eb461ed1ab050246302bcf6c83c0d59ef0'),\n",
       "   '49a35e413e4d112324b014b298a8d6eb461ed1ab050246302bcf6c83c0d59ef0': ('bd83de1f05a01110a2abcaed1a82d88b743550d02d041d9d00de6ce69d92a99c',\n",
       "    'bb463e5cdc911ba2d6d8a78c32c55b7eccf9fe0086db9450557990c899635a8f'),\n",
       "   'bb463e5cdc911ba2d6d8a78c32c55b7eccf9fe0086db9450557990c899635a8f': (3113988432,\n",
       "    757698004)})]"
      ]
     },
     "execution_count": 22,
     "metadata": {},
     "output_type": "execute_result"
    }
   ],
   "source": [
    "proof = prove(2, 1024, 1000)\n",
    "proof[1][3]['pathes']"
   ]
  },
  {
   "cell_type": "code",
   "execution_count": 23,
   "metadata": {},
   "outputs": [],
   "source": [
    "verifier1 = Verifier_first_stage()\n",
    "verifier1.verify(proof_stage_one=proof[0], domian_size=8192)"
   ]
  },
  {
   "cell_type": "code",
   "execution_count": null,
   "metadata": {},
   "outputs": [],
   "source": []
  }
 ],
 "metadata": {
  "kernelspec": {
   "display_name": "SageMath 9.0",
   "language": "sage",
   "name": "sagemath"
  },
  "language_info": {
   "codemirror_mode": {
    "name": "ipython",
    "version": 3
   },
   "file_extension": ".py",
   "mimetype": "text/x-python",
   "name": "python",
   "nbconvert_exporter": "python",
   "pygments_lexer": "ipython3",
   "version": "3.8.10"
  }
 },
 "nbformat": 4,
 "nbformat_minor": 4
}
